{
  "cells": [
    {
      "cell_type": "markdown",
      "metadata": {
        "id": "KJMrECOskLWl"
      },
      "source": [
        "## Лабораторна робота 2 з ІСППР (варіант 26(1))\n",
        "### Виконали студенти групи КІ-31мп Шабо О.А. та Сотник Д.C."
      ]
    },
    {
      "cell_type": "code",
      "execution_count": 42,
      "metadata": {
        "id": "9szEf9FgkLWo"
      },
      "outputs": [],
      "source": [
        "import torch\n",
        "import random\n",
        "import gc\n",
        "import os\n",
        "\n",
        "import torch.nn as nn\n",
        "import torch.optim as optim\n",
        "\n",
        "import pandas as pd\n",
        "import numpy as np\n",
        "import itertools as it\n",
        "import matplotlib.pyplot as plt\n",
        "import itertools as it\n",
        "\n",
        "from torch.utils.data import DataLoader, TensorDataset\n",
        "\n",
        "from tqdm.notebook import tqdm\n",
        "from sklearn.preprocessing import StandardScaler"
      ]
    },
    {
      "cell_type": "code",
      "execution_count": 43,
      "metadata": {
        "colab": {
          "base_uri": "https://localhost:8080/"
        },
        "id": "jpeh5cLDkLWq",
        "outputId": "a8ba21ca-2d00-441e-b9d4-91d09432e2a4"
      },
      "outputs": [
        {
          "name": "stdout",
          "output_type": "stream",
          "text": [
            "PyTorch GPU is available\n"
          ]
        }
      ],
      "source": [
        "if torch.cuda.is_available():\n",
        "    print(\"PyTorch GPU is available\")\n",
        "else:\n",
        "    print(\"PyTorch GPU is not available\")\n",
        "DEVICE = \"cuda\""
      ]
    },
    {
      "cell_type": "code",
      "execution_count": 44,
      "metadata": {
        "id": "zD-cCCa6kLWq"
      },
      "outputs": [],
      "source": [
        "RANDOM_SEED = 10\n",
        "\n",
        "# Seed the RNG for all devices (both CPU and CUDA)\n",
        "torch.manual_seed(RANDOM_SEED)\n",
        "# Set python seed\n",
        "random.seed(RANDOM_SEED)\n",
        "# Set numpy seed\n",
        "np.random.seed(RANDOM_SEED)\n",
        "\n",
        "torch.cuda.manual_seed_all(RANDOM_SEED)\n",
        "torch.backends.cudnn.deterministic = True\n",
        "torch.backends.cudnn.benchmark = False\n",
        "os.environ['PYTHONHASHSEED'] = str(RANDOM_SEED)\n",
        "\n",
        "# Worker initialization function for data loaders (simplest approach)\n",
        "def seed_worker(worker_id):\n",
        "    worker_seed = (torch.initial_seed() + worker_id) % 2**32\n",
        "    np.random.seed(worker_seed)\n",
        "    random.seed(worker_seed)\n",
        "\n",
        "g_train = torch.Generator().manual_seed(RANDOM_SEED)"
      ]
    },
    {
      "cell_type": "code",
      "execution_count": 45,
      "metadata": {
        "colab": {
          "base_uri": "https://localhost:8080/"
        },
        "id": "rXqUinQBkLWr",
        "outputId": "9085cd6c-941d-4404-b25e-4fa06c233d1a"
      },
      "outputs": [
        {
          "name": "stdout",
          "output_type": "stream",
          "text": [
            "<class 'pandas.core.frame.DataFrame'>\n",
            "RangeIndex: 1278 entries, 0 to 1277\n",
            "Data columns (total 6 columns):\n",
            " #   Column  Non-Null Count  Dtype  \n",
            "---  ------  --------------  -----  \n",
            " 0   Date    1278 non-null   object \n",
            " 1   Open    1278 non-null   float64\n",
            " 2   High    1278 non-null   float64\n",
            " 3   Low     1278 non-null   float64\n",
            " 4   Close   1278 non-null   object \n",
            " 5   Volume  1278 non-null   object \n",
            "dtypes: float64(3), object(3)\n",
            "memory usage: 60.0+ KB\n"
          ]
        }
      ],
      "source": [
        "df = pd.read_csv('train.csv')\n",
        "\n",
        "df.head()\n",
        "\n",
        "df.info()"
      ]
    },
    {
      "cell_type": "code",
      "execution_count": 47,
      "metadata": {
        "id": "zxKzIe9okLWs"
      },
      "outputs": [],
      "source": [
        "df['Close'] = pd.to_numeric(df['Close'].str.replace(',', ''), errors='coerce')\n",
        "df['Volume'] = pd.to_numeric(df['Volume'].str.replace(',', ''), errors='coerce')\n",
        "\n",
        "# Convert 'Date' to datetime (optional for modeling, but useful for analysis)\n",
        "df['Date'] = pd.to_datetime(df['Date'])\n",
        "\n",
        "# Select features and target for modeling\n",
        "features = df[['Open', 'High', 'Low', 'Volume']]\n",
        "target = df['Close']\n",
        "\n",
        "# Normalize features\n",
        "scaler = StandardScaler()\n",
        "features_normalized = scaler.fit_transform(features)\n",
        "\n",
        "# Split the data\n",
        "split_index = int(len(df) * 0.75)\n",
        "X_train = features_normalized[:split_index]\n",
        "y_train = target.values[:split_index]\n",
        "X_test = features_normalized[split_index:]\n",
        "y_test = target.values[split_index:]\n",
        "\n",
        "# Convert to tensors\n",
        "X_train_tensor = torch.tensor(X_train, dtype=torch.float32)\n",
        "y_train_tensor = torch.tensor(y_train, dtype=torch.float32).view(-1, 1)  # Reshaping for a single target\n",
        "X_test_tensor = torch.tensor(X_test, dtype=torch.float32)\n",
        "y_test_tensor = torch.tensor(y_test, dtype=torch.float32).view(-1, 1)"
      ]
    },
    {
      "cell_type": "code",
      "execution_count": 48,
      "metadata": {
        "colab": {
          "base_uri": "https://localhost:8080/"
        },
        "id": "PWM5HMYSnSwB",
        "outputId": "8c94ade8-dad3-43f1-b0cb-f8fdac8a8ffc"
      },
      "outputs": [
        {
          "data": {
            "text/plain": [
              "torch.Size([958, 4])"
            ]
          },
          "execution_count": 48,
          "metadata": {},
          "output_type": "execute_result"
        }
      ],
      "source": [
        "X_train_tensor.shape"
      ]
    },
    {
      "cell_type": "code",
      "execution_count": 49,
      "metadata": {
        "colab": {
          "base_uri": "https://localhost:8080/"
        },
        "id": "hZUpim50nCj5",
        "outputId": "cb040991-b49f-4c0e-8014-74ca28595abf"
      },
      "outputs": [
        {
          "data": {
            "text/plain": [
              "torch.Size([958, 1])"
            ]
          },
          "execution_count": 49,
          "metadata": {},
          "output_type": "execute_result"
        }
      ],
      "source": [
        "y_train_tensor.shape"
      ]
    },
    {
      "cell_type": "code",
      "execution_count": 51,
      "metadata": {
        "id": "EsR85XRykLWt"
      },
      "outputs": [],
      "source": [
        "class RNNModel(nn.Module):\n",
        "    def __init__(self, input_dim, hidden_dim, output_dim, seq_length):\n",
        "        super(RNNModel, self).__init__()\n",
        "        self.rnn = nn.RNN(input_dim, hidden_dim, batch_first=True)\n",
        "        self.fc = nn.Linear(hidden_dim, output_dim)\n",
        "        self.seq_length = seq_length\n",
        "\n",
        "    def forward(self, x):\n",
        "        if x.dim() == 2:  # If there are only 2 dimensions (batch_size, features)\n",
        "            x = x.unsqueeze(1)  # Add a seq_length dimension\n",
        "        out, _ = self.rnn(x)\n",
        "        out = self.fc(out[:, -1, :])\n",
        "        return out\n",
        "\n",
        "    def fit(self, X_train, y_train, X_test, y_test, learning_rate=0.01,\n",
        "            num_epochs=100, batch_size=32, verbose=True, optimizer_class=optim.Adam,\n",
        "            loss_fn=nn.MSELoss):\n",
        "        optimizer = optimizer_class(self.parameters(), lr=learning_rate)\n",
        "        criterion = loss_fn()\n",
        "\n",
        "        # Convert to tensor datasets\n",
        "        train_dataset = TensorDataset(X_train, y_train)\n",
        "        test_dataset = TensorDataset(X_test, y_test)\n",
        "\n",
        "        # Create data loaders\n",
        "        train_loader = DataLoader(dataset=train_dataset, batch_size=batch_size,\n",
        "                                  drop_last=True, worker_init_fn=seed_worker,\n",
        "                                  generator=g_train, shuffle=True)\n",
        "        test_loader = DataLoader(dataset=test_dataset, batch_size=batch_size,\n",
        "                                 shuffle=False)\n",
        "\n",
        "        train_losses = []\n",
        "        test_losses = []\n",
        "\n",
        "        for epoch in tqdm(range(num_epochs), disable=not verbose):\n",
        "            self.train()\n",
        "            train_loss = 0.0\n",
        "            for X_batch, y_batch in train_loader:\n",
        "                optimizer.zero_grad()\n",
        "                outputs = self(X_batch)\n",
        "                loss = criterion(outputs, y_batch)\n",
        "                loss.backward()\n",
        "                optimizer.step()\n",
        "                train_loss += loss.item()\n",
        "            train_loss /= len(train_loader.dataset)\n",
        "            train_losses.append(train_loss)\n",
        "\n",
        "            test_loss = self.evaluate(test_loader, criterion)\n",
        "            test_losses.append(test_loss)\n",
        "\n",
        "            if verbose and (epoch+1) % 10 == 0:\n",
        "                print(f'Epoch {epoch+1}/{num_epochs}, Training Loss: {train_loss:.4f}, Test Loss: {test_loss:.4f}')\n",
        "\n",
        "        self.train_losses = train_losses\n",
        "        self.test_losses = test_losses\n",
        "        gc.collect()\n",
        "\n",
        "    def plot_loss(self):\n",
        "        plt.figure(figsize=(10, 5))\n",
        "        plt.plot(self.train_losses, label='Training Loss')\n",
        "        plt.plot(self.test_losses, label='Test Loss')\n",
        "        plt.xlabel('Epoch')\n",
        "        plt.ylabel('Loss')\n",
        "        plt.title('Loss over Epochs')\n",
        "        plt.legend()\n",
        "        plt.show()\n",
        "\n",
        "    def evaluate(self, data_loader, criterion):\n",
        "        self.eval()\n",
        "        total_loss = 0.0\n",
        "        with torch.no_grad():\n",
        "            for X_batch, y_batch in data_loader:\n",
        "                outputs = self(X_batch)\n",
        "                loss = criterion(outputs, y_batch)\n",
        "                total_loss += loss.item()\n",
        "        return total_loss / len(data_loader.dataset)\n",
        "\n",
        "    @staticmethod\n",
        "    def find_best_parameters(X_train, y_train, X_test, y_test, parameter_grid,\n",
        "                             criterion = nn.MSELoss()):\n",
        "        # Split data into train/validation sets\n",
        "        best_loss = float('inf')\n",
        "        best_params = None\n",
        "\n",
        "        for params in tqdm(list(it.product(*parameter_grid.values()))):\n",
        "            hidden_dim, seq_length, num_epochs, batch_size = params\n",
        "            input_dim = X_train.shape[-1]  # Assuming X_train is already appropriately shaped\n",
        "            output_dim = y_train.shape[-1]  # Assuming y_train is also appropriately shaped\n",
        "\n",
        "            model = RNNModel(input_dim=input_dim, hidden_dim=hidden_dim, output_dim=output_dim, seq_length=seq_length)\n",
        "            model.fit(X_train, y_train, X_test, y_test, num_epochs=num_epochs, batch_size=batch_size, verbose=False)\n",
        "\n",
        "            test_dataset = TensorDataset(X_test, y_test)\n",
        "            test_loader = DataLoader(dataset=test_dataset, batch_size=batch_size,\n",
        "                                    shuffle=False)\n",
        "            val_loss = model.evaluate(test_loader, criterion)\n",
        "\n",
        "            if val_loss < best_loss:\n",
        "                best_loss = val_loss\n",
        "                best_params = params\n",
        "\n",
        "        print(f'Best parameters found: {best_params}, with validation loss: {best_loss}')\n",
        "        return best_params"
      ]
    },
    {
      "cell_type": "code",
      "execution_count": 52,
      "metadata": {
        "id": "zXkw24FbkLWv"
      },
      "outputs": [],
      "source": [
        "class LSTMModel(nn.Module):\n",
        "    def __init__(self, input_dim, hidden_dim, output_dim):\n",
        "        super(LSTMModel, self).__init__()\n",
        "        self.lstm = nn.LSTM(input_dim, hidden_dim, batch_first=True)\n",
        "        self.fc = nn.Linear(hidden_dim, output_dim)\n",
        "\n",
        "    def forward(self, x):\n",
        "        out, (hidden, cell) = self.lstm(x)\n",
        "        out = self.fc(out[:, -1, :])\n",
        "        return out"
      ]
    },
    {
      "cell_type": "code",
      "execution_count": 53,
      "metadata": {
        "id": "xxmoGtj3kLWv"
      },
      "outputs": [],
      "source": [
        "class GRUModel(nn.Module):\n",
        "    def __init__(self, input_dim, hidden_dim, output_dim):\n",
        "        super(GRUModel, self).__init__()\n",
        "        self.gru = nn.GRU(input_dim, hidden_dim, batch_first=True)\n",
        "        self.fc = nn.Linear(hidden_dim, output_dim)\n",
        "\n",
        "    def forward(self, x):\n",
        "        out, _ = self.gru(x)\n",
        "        out = self.fc(out[:, -1, :])\n",
        "        return out"
      ]
    },
    {
      "cell_type": "code",
      "execution_count": 54,
      "metadata": {
        "colab": {
          "base_uri": "https://localhost:8080/",
          "height": 67,
          "referenced_widgets": [
            "7cd5209324a94ccb95f20f82774948f4",
            "02fcc02ce1894c0f98e75ad139ac225c",
            "5ed454b0bfda403281daff98be11f682",
            "a1e63052b71b4ad2852666bf2f9cbe43",
            "6bcc760916484d688b4ab99cf197b082",
            "919a3c8c32d0488b86478b6576ed0d6c",
            "af37a20446b94ea9911e69b7409fb1f8",
            "603ceda4f3f140e982a5dbb18dbb215a",
            "3d51ab8337d24154a19a9c847064a75c",
            "d246f8e47fbb49e29aec212cc1800555",
            "82178c4d12bd45cdab0013c0f86f4d60"
          ]
        },
        "id": "ggrJ1WKFkLWv",
        "outputId": "05f04dc8-d22f-4899-88f4-bdbe57a3a407"
      },
      "outputs": [
        {
          "data": {
            "application/vnd.jupyter.widget-view+json": {
              "model_id": "7cd5209324a94ccb95f20f82774948f4",
              "version_major": 2,
              "version_minor": 0
            },
            "text/plain": [
              "  0%|          | 0/1 [00:00<?, ?it/s]"
            ]
          },
          "metadata": {},
          "output_type": "display_data"
        },
        {
          "name": "stdout",
          "output_type": "stream",
          "text": [
            "Best parameters found: (20, 10, 10, 16), with validation loss: 23828.55771484375\n"
          ]
        }
      ],
      "source": [
        "parameter_grid = {\n",
        "    'hidden_dim': [20, 50, 100],\n",
        "    'seq_length': [10, 20, 30],\n",
        "    'num_epochs': [50, 100, 200],\n",
        "    'batch_size': [16, 32, 64]\n",
        "}\n",
        "\n",
        "# parameter_grid = {\n",
        "#     'hidden_dim': [20],\n",
        "#     'seq_length': [10],\n",
        "#     'num_epochs': [10],\n",
        "#     'batch_size': [16]\n",
        "# }\n",
        "\n",
        "best_params = RNNModel.find_best_parameters(X_train_tensor, y_train_tensor, X_test_tensor, y_test_tensor, parameter_grid)\n"
      ]
    }
  ],
  "metadata": {
    "accelerator": "GPU",
    "colab": {
      "gpuType": "T4",
      "provenance": []
    },
    "kernelspec": {
      "display_name": "Python 3",
      "name": "python3"
    },
    "language_info": {
      "codemirror_mode": {
        "name": "ipython",
        "version": 3
      },
      "file_extension": ".py",
      "mimetype": "text/x-python",
      "name": "python",
      "nbconvert_exporter": "python",
      "pygments_lexer": "ipython3",
      "version": "3.11.5"
    },
    "widgets": {
      "application/vnd.jupyter.widget-state+json": {
        "02fcc02ce1894c0f98e75ad139ac225c": {
          "model_module": "@jupyter-widgets/controls",
          "model_module_version": "1.5.0",
          "model_name": "HTMLModel",
          "state": {
            "_dom_classes": [],
            "_model_module": "@jupyter-widgets/controls",
            "_model_module_version": "1.5.0",
            "_model_name": "HTMLModel",
            "_view_count": null,
            "_view_module": "@jupyter-widgets/controls",
            "_view_module_version": "1.5.0",
            "_view_name": "HTMLView",
            "description": "",
            "description_tooltip": null,
            "layout": "IPY_MODEL_919a3c8c32d0488b86478b6576ed0d6c",
            "placeholder": "​",
            "style": "IPY_MODEL_af37a20446b94ea9911e69b7409fb1f8",
            "value": "100%"
          }
        },
        "3d51ab8337d24154a19a9c847064a75c": {
          "model_module": "@jupyter-widgets/controls",
          "model_module_version": "1.5.0",
          "model_name": "ProgressStyleModel",
          "state": {
            "_model_module": "@jupyter-widgets/controls",
            "_model_module_version": "1.5.0",
            "_model_name": "ProgressStyleModel",
            "_view_count": null,
            "_view_module": "@jupyter-widgets/base",
            "_view_module_version": "1.2.0",
            "_view_name": "StyleView",
            "bar_color": null,
            "description_width": ""
          }
        },
        "5ed454b0bfda403281daff98be11f682": {
          "model_module": "@jupyter-widgets/controls",
          "model_module_version": "1.5.0",
          "model_name": "FloatProgressModel",
          "state": {
            "_dom_classes": [],
            "_model_module": "@jupyter-widgets/controls",
            "_model_module_version": "1.5.0",
            "_model_name": "FloatProgressModel",
            "_view_count": null,
            "_view_module": "@jupyter-widgets/controls",
            "_view_module_version": "1.5.0",
            "_view_name": "ProgressView",
            "bar_style": "success",
            "description": "",
            "description_tooltip": null,
            "layout": "IPY_MODEL_603ceda4f3f140e982a5dbb18dbb215a",
            "max": 1,
            "min": 0,
            "orientation": "horizontal",
            "style": "IPY_MODEL_3d51ab8337d24154a19a9c847064a75c",
            "value": 1
          }
        },
        "603ceda4f3f140e982a5dbb18dbb215a": {
          "model_module": "@jupyter-widgets/base",
          "model_module_version": "1.2.0",
          "model_name": "LayoutModel",
          "state": {
            "_model_module": "@jupyter-widgets/base",
            "_model_module_version": "1.2.0",
            "_model_name": "LayoutModel",
            "_view_count": null,
            "_view_module": "@jupyter-widgets/base",
            "_view_module_version": "1.2.0",
            "_view_name": "LayoutView",
            "align_content": null,
            "align_items": null,
            "align_self": null,
            "border": null,
            "bottom": null,
            "display": null,
            "flex": null,
            "flex_flow": null,
            "grid_area": null,
            "grid_auto_columns": null,
            "grid_auto_flow": null,
            "grid_auto_rows": null,
            "grid_column": null,
            "grid_gap": null,
            "grid_row": null,
            "grid_template_areas": null,
            "grid_template_columns": null,
            "grid_template_rows": null,
            "height": null,
            "justify_content": null,
            "justify_items": null,
            "left": null,
            "margin": null,
            "max_height": null,
            "max_width": null,
            "min_height": null,
            "min_width": null,
            "object_fit": null,
            "object_position": null,
            "order": null,
            "overflow": null,
            "overflow_x": null,
            "overflow_y": null,
            "padding": null,
            "right": null,
            "top": null,
            "visibility": null,
            "width": null
          }
        },
        "6bcc760916484d688b4ab99cf197b082": {
          "model_module": "@jupyter-widgets/base",
          "model_module_version": "1.2.0",
          "model_name": "LayoutModel",
          "state": {
            "_model_module": "@jupyter-widgets/base",
            "_model_module_version": "1.2.0",
            "_model_name": "LayoutModel",
            "_view_count": null,
            "_view_module": "@jupyter-widgets/base",
            "_view_module_version": "1.2.0",
            "_view_name": "LayoutView",
            "align_content": null,
            "align_items": null,
            "align_self": null,
            "border": null,
            "bottom": null,
            "display": null,
            "flex": null,
            "flex_flow": null,
            "grid_area": null,
            "grid_auto_columns": null,
            "grid_auto_flow": null,
            "grid_auto_rows": null,
            "grid_column": null,
            "grid_gap": null,
            "grid_row": null,
            "grid_template_areas": null,
            "grid_template_columns": null,
            "grid_template_rows": null,
            "height": null,
            "justify_content": null,
            "justify_items": null,
            "left": null,
            "margin": null,
            "max_height": null,
            "max_width": null,
            "min_height": null,
            "min_width": null,
            "object_fit": null,
            "object_position": null,
            "order": null,
            "overflow": null,
            "overflow_x": null,
            "overflow_y": null,
            "padding": null,
            "right": null,
            "top": null,
            "visibility": null,
            "width": null
          }
        },
        "7cd5209324a94ccb95f20f82774948f4": {
          "model_module": "@jupyter-widgets/controls",
          "model_module_version": "1.5.0",
          "model_name": "HBoxModel",
          "state": {
            "_dom_classes": [],
            "_model_module": "@jupyter-widgets/controls",
            "_model_module_version": "1.5.0",
            "_model_name": "HBoxModel",
            "_view_count": null,
            "_view_module": "@jupyter-widgets/controls",
            "_view_module_version": "1.5.0",
            "_view_name": "HBoxView",
            "box_style": "",
            "children": [
              "IPY_MODEL_02fcc02ce1894c0f98e75ad139ac225c",
              "IPY_MODEL_5ed454b0bfda403281daff98be11f682",
              "IPY_MODEL_a1e63052b71b4ad2852666bf2f9cbe43"
            ],
            "layout": "IPY_MODEL_6bcc760916484d688b4ab99cf197b082"
          }
        },
        "82178c4d12bd45cdab0013c0f86f4d60": {
          "model_module": "@jupyter-widgets/controls",
          "model_module_version": "1.5.0",
          "model_name": "DescriptionStyleModel",
          "state": {
            "_model_module": "@jupyter-widgets/controls",
            "_model_module_version": "1.5.0",
            "_model_name": "DescriptionStyleModel",
            "_view_count": null,
            "_view_module": "@jupyter-widgets/base",
            "_view_module_version": "1.2.0",
            "_view_name": "StyleView",
            "description_width": ""
          }
        },
        "919a3c8c32d0488b86478b6576ed0d6c": {
          "model_module": "@jupyter-widgets/base",
          "model_module_version": "1.2.0",
          "model_name": "LayoutModel",
          "state": {
            "_model_module": "@jupyter-widgets/base",
            "_model_module_version": "1.2.0",
            "_model_name": "LayoutModel",
            "_view_count": null,
            "_view_module": "@jupyter-widgets/base",
            "_view_module_version": "1.2.0",
            "_view_name": "LayoutView",
            "align_content": null,
            "align_items": null,
            "align_self": null,
            "border": null,
            "bottom": null,
            "display": null,
            "flex": null,
            "flex_flow": null,
            "grid_area": null,
            "grid_auto_columns": null,
            "grid_auto_flow": null,
            "grid_auto_rows": null,
            "grid_column": null,
            "grid_gap": null,
            "grid_row": null,
            "grid_template_areas": null,
            "grid_template_columns": null,
            "grid_template_rows": null,
            "height": null,
            "justify_content": null,
            "justify_items": null,
            "left": null,
            "margin": null,
            "max_height": null,
            "max_width": null,
            "min_height": null,
            "min_width": null,
            "object_fit": null,
            "object_position": null,
            "order": null,
            "overflow": null,
            "overflow_x": null,
            "overflow_y": null,
            "padding": null,
            "right": null,
            "top": null,
            "visibility": null,
            "width": null
          }
        },
        "a1e63052b71b4ad2852666bf2f9cbe43": {
          "model_module": "@jupyter-widgets/controls",
          "model_module_version": "1.5.0",
          "model_name": "HTMLModel",
          "state": {
            "_dom_classes": [],
            "_model_module": "@jupyter-widgets/controls",
            "_model_module_version": "1.5.0",
            "_model_name": "HTMLModel",
            "_view_count": null,
            "_view_module": "@jupyter-widgets/controls",
            "_view_module_version": "1.5.0",
            "_view_name": "HTMLView",
            "description": "",
            "description_tooltip": null,
            "layout": "IPY_MODEL_d246f8e47fbb49e29aec212cc1800555",
            "placeholder": "​",
            "style": "IPY_MODEL_82178c4d12bd45cdab0013c0f86f4d60",
            "value": " 1/1 [00:01&lt;00:00,  1.25s/it]"
          }
        },
        "af37a20446b94ea9911e69b7409fb1f8": {
          "model_module": "@jupyter-widgets/controls",
          "model_module_version": "1.5.0",
          "model_name": "DescriptionStyleModel",
          "state": {
            "_model_module": "@jupyter-widgets/controls",
            "_model_module_version": "1.5.0",
            "_model_name": "DescriptionStyleModel",
            "_view_count": null,
            "_view_module": "@jupyter-widgets/base",
            "_view_module_version": "1.2.0",
            "_view_name": "StyleView",
            "description_width": ""
          }
        },
        "d246f8e47fbb49e29aec212cc1800555": {
          "model_module": "@jupyter-widgets/base",
          "model_module_version": "1.2.0",
          "model_name": "LayoutModel",
          "state": {
            "_model_module": "@jupyter-widgets/base",
            "_model_module_version": "1.2.0",
            "_model_name": "LayoutModel",
            "_view_count": null,
            "_view_module": "@jupyter-widgets/base",
            "_view_module_version": "1.2.0",
            "_view_name": "LayoutView",
            "align_content": null,
            "align_items": null,
            "align_self": null,
            "border": null,
            "bottom": null,
            "display": null,
            "flex": null,
            "flex_flow": null,
            "grid_area": null,
            "grid_auto_columns": null,
            "grid_auto_flow": null,
            "grid_auto_rows": null,
            "grid_column": null,
            "grid_gap": null,
            "grid_row": null,
            "grid_template_areas": null,
            "grid_template_columns": null,
            "grid_template_rows": null,
            "height": null,
            "justify_content": null,
            "justify_items": null,
            "left": null,
            "margin": null,
            "max_height": null,
            "max_width": null,
            "min_height": null,
            "min_width": null,
            "object_fit": null,
            "object_position": null,
            "order": null,
            "overflow": null,
            "overflow_x": null,
            "overflow_y": null,
            "padding": null,
            "right": null,
            "top": null,
            "visibility": null,
            "width": null
          }
        }
      }
    }
  },
  "nbformat": 4,
  "nbformat_minor": 0
}
