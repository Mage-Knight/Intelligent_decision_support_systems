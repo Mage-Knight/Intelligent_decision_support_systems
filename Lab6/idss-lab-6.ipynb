{
 "cells": [
  {
   "cell_type": "markdown",
   "metadata": {},
   "source": [
    "## Лабораторна робота 5 з ІСППР\n",
    "### Виконали студенти групи КІ-31мп Шабо О.А. та Сотник Д.C."
   ]
  },
  {
   "cell_type": "markdown",
   "metadata": {},
   "source": [
    "## 1. Обрати набір даних з розміченими текстовими документами. \n",
    "Можна скористатися набором Internet Movie Database (IMdb), який включає 50 000 текстів рецензій на фільми та відношення до них - позитивна або негативна рецензії (мітки класів).\n",
    "Задача тоді буде полягати у побудові прогнозу щодо віднесення нової рецензії до одного з класів - позитивна або негативна рецензія."
   ]
  },
  {
   "cell_type": "code",
   "execution_count": 1,
   "metadata": {},
   "outputs": [],
   "source": [
    "import re\n",
    "from sklearn.datasets import fetch_20newsgroups\n",
    "\n",
    "import numpy as np\n",
    "\n",
    "import torch\n",
    "import torch.nn as nn\n",
    "from torch.utils.data import Dataset, DataLoader, random_split\n",
    "\n",
    "import pytorch_lightning as pl\n",
    "from pytorch_lightning import Trainer\n",
    "from sklearn.metrics import accuracy_score\n",
    "\n",
    "from collections import Counter\n",
    "\n",
    "import warnings\n",
    "warnings.filterwarnings(\"ignore\")\n",
    "\n",
    "\n",
    "categories = [\"comp.graphics\", \"rec.motorcycles\"]\n",
    "\n",
    "# Завантаження набору даних\n",
    "data = fetch_20newsgroups(\n",
    "    subset=\"all\",\n",
    "    categories=categories,\n",
    "    shuffle=True,\n",
    "    random_state=42,\n",
    "    remove=(\"headers\", \"footers\", \"quotes\"),\n",
    ")\n",
    "\n",
    "# Тексти для обробки\n",
    "text_data = data.data\n",
    "labels = data.target"
   ]
  },
  {
   "cell_type": "markdown",
   "metadata": {},
   "source": [
    "## 2. Очистити текстові дані: вилучити небажані символи, розмітку та інше (за необхідності).\n",
    "\n"
   ]
  },
  {
   "cell_type": "code",
   "execution_count": 2,
   "metadata": {},
   "outputs": [],
   "source": [
    "def clean_text(texts):\n",
    "    cleaned_texts = []\n",
    "    for text in texts:\n",
    "        text = re.sub(r\"[^a-zA-Z\\s]\", \"\", text)\n",
    "        text = re.sub(r\"\\s+\", \" \", text)\n",
    "        text = text.lower()\n",
    "        cleaned_texts.append(text)\n",
    "    return cleaned_texts\n",
    "\n",
    "\n",
    "cleaned_text_data = clean_text(text_data)"
   ]
  },
  {
   "cell_type": "markdown",
   "metadata": {},
   "source": [
    "## 3. Підготувати текстові документи для їх наступної подачі на вхід моделей RNN: "
   ]
  },
  {
   "cell_type": "markdown",
   "metadata": {},
   "source": [
    "## 3.1. Створити набір даних pytorch.  Розбити набір на навчальну, валідаційну та тестову підмножини."
   ]
  },
  {
   "cell_type": "code",
   "execution_count": 3,
   "metadata": {},
   "outputs": [],
   "source": [
    "# Розподілення даних на підмножини\n",
    "train_size = int(0.8 * len(cleaned_text_data))\n",
    "val_size = int(0.1 * len(cleaned_text_data))\n",
    "test_size = len(cleaned_text_data) - train_size - val_size\n",
    "\n",
    "train_dataset = cleaned_text_data[:train_size]\n",
    "val_dataset = cleaned_text_data[train_size : train_size + val_size]\n",
    "test_dataset = cleaned_text_data[train_size + val_size :]\n"
   ]
  },
  {
   "cell_type": "markdown",
   "metadata": {},
   "source": [
    "## 3.2. Знайти унікальні слова (лексеми) в навчальному наборі. \n",
    "Для цього можна застосувати клас Counter з пакету collections стандартної бібліотеки Python. "
   ]
  },
  {
   "cell_type": "code",
   "execution_count": 4,
   "metadata": {},
   "outputs": [
    {
     "data": {
      "text/plain": [
       "{'hey': 1,\n",
       " 'what': 2,\n",
       " 'do': 3,\n",
       " 'we': 4,\n",
       " 'look': 5,\n",
       " 'like': 6,\n",
       " 'a': 7,\n",
       " 'parts': 8,\n",
       " 'store': 9,\n",
       " 'has': 10,\n",
       " 'it': 11,\n",
       " 'ever': 12,\n",
       " 'occurred': 13,\n",
       " 'to': 14,\n",
       " 'you': 15,\n",
       " 'visit': 16,\n",
       " 'your': 17,\n",
       " 'dealer': 18,\n",
       " 'and': 19,\n",
       " 'fork': 20,\n",
       " 'out': 21,\n",
       " 'the': 22,\n",
       " 'bucks': 23,\n",
       " 'for': 24,\n",
       " 'new': 25,\n",
       " 'one': 26,\n",
       " 'are': 27,\n",
       " 'chances': 28,\n",
       " 'of': 29,\n",
       " 'someone': 30,\n",
       " 'happening': 31,\n",
       " 'have': 32,\n",
       " 'part': 33,\n",
       " 'laying': 34,\n",
       " 'around': 35,\n",
       " 'much': 36,\n",
       " 'less': 37,\n",
       " 'in': 38,\n",
       " 'working': 39,\n",
       " 'condition': 40,\n",
       " 'sheesh': 41,\n",
       " 'some': 42,\n",
       " 'edus': 43,\n",
       " 'besides': 44,\n",
       " 'i': 45,\n",
       " 'only': 46,\n",
       " 'right': 47,\n",
       " 'side': 48,\n",
       " 'inverted': 49,\n",
       " 'gsxr': 50,\n",
       " 'its': 51,\n",
       " 'already': 52,\n",
       " 'been': 53,\n",
       " 'converted': 54,\n",
       " 'into': 55,\n",
       " 'floor': 56,\n",
       " 'lamp': 57,\n",
       " 'know': 58,\n",
       " 'sounds': 59,\n",
       " 'suspiciously': 60,\n",
       " 'no': 61,\n",
       " 'fault': 62,\n",
       " 'doesnt': 63,\n",
       " 'even': 64,\n",
       " 'was': 65,\n",
       " 'advertised': 66,\n",
       " 'as': 67,\n",
       " 'doinggetting': 68,\n",
       " 'lawyers': 69,\n",
       " 'loop': 70,\n",
       " 'sigh': 71,\n",
       " 'another': 72,\n",
       " 'naive': 73,\n",
       " 'illusion': 74,\n",
       " 'down': 75,\n",
       " 'toilet': 76,\n",
       " 'tommy': 77,\n",
       " 'mcguire': 78,\n",
       " 'mcguirecsutexasedu': 79,\n",
       " 'mcguireaustinibmcom': 80,\n",
       " 'could': 81,\n",
       " 'anyone': 82,\n",
       " 'please': 83,\n",
       " 'explain': 84,\n",
       " 'bit': 85,\n",
       " 'planes': 86,\n",
       " 'an': 87,\n",
       " 'sgi': 88,\n",
       " 'here': 89,\n",
       " 'at': 90,\n",
       " 'work': 91,\n",
       " 'that': 92,\n",
       " 'says': 93,\n",
       " 'does': 94,\n",
       " 'this': 95,\n",
       " 'mean': 96,\n",
       " 'how': 97,\n",
       " 'relate': 98,\n",
       " 'pc': 99,\n",
       " 'graphics': 100,\n",
       " 'they': 101,\n",
       " 'usually': 102,\n",
       " 'reply': 103,\n",
       " 'via': 104,\n",
       " 'email': 105,\n",
       " 'most': 106,\n",
       " 'group': 107,\n",
       " 'is': 108,\n",
       " 'over': 109,\n",
       " 'my': 110,\n",
       " 'head': 111,\n",
       " 'thanks': 112,\n",
       " 'advance': 113,\n",
       " 'bob': 114,\n",
       " 'gruen': 115,\n",
       " 'summer': 116,\n",
       " 'july': 117,\n",
       " 'wife': 118,\n",
       " 'michelle': 119,\n",
       " 'will': 120,\n",
       " 'be': 121,\n",
       " 'boston': 122,\n",
       " 'attending': 123,\n",
       " 'brothers': 124,\n",
       " 'wedding': 125,\n",
       " 'after': 126,\n",
       " 'planning': 127,\n",
       " 'motor': 128,\n",
       " 'up': 129,\n",
       " 'bar': 130,\n",
       " 'harbor': 131,\n",
       " 'maine': 132,\n",
       " 'relatives': 133,\n",
       " 'few': 134,\n",
       " 'days': 135,\n",
       " 'our': 136,\n",
       " 'would': 137,\n",
       " 'made': 138,\n",
       " 'if': 139,\n",
       " 'find': 140,\n",
       " 'bike': 141,\n",
       " 'or': 142,\n",
       " 'bikes': 143,\n",
       " 'borrow': 144,\n",
       " 'rent': 145,\n",
       " 'ride': 146,\n",
       " 'back': 147,\n",
       " 'heres': 148,\n",
       " 'important': 149,\n",
       " 'details': 150,\n",
       " 'ive': 151,\n",
       " 'riding': 152,\n",
       " 'years': 153,\n",
       " 'own': 154,\n",
       " 'past': 155,\n",
       " 'her': 156,\n",
       " 'involved': 157,\n",
       " 'accident': 158,\n",
       " 'which': 159,\n",
       " 'caused': 160,\n",
       " 'by': 161,\n",
       " 'cage': 162,\n",
       " 'driver': 163,\n",
       " 'running': 164,\n",
       " 'stop': 165,\n",
       " 'sign': 166,\n",
       " 'currently': 167,\n",
       " 'bmw': 168,\n",
       " 'r': 169,\n",
       " 'owns': 170,\n",
       " 'yamaha': 171,\n",
       " 'virago': 172,\n",
       " 'prefer': 173,\n",
       " 'cruising': 174,\n",
       " 'racing': 175,\n",
       " 'weve': 176,\n",
       " 'toured': 177,\n",
       " 'fair': 178,\n",
       " 'amount': 179,\n",
       " 'were': 180,\n",
       " 'both': 181,\n",
       " 'licensed': 182,\n",
       " 'insured': 183,\n",
       " 'nice': 184,\n",
       " 'people': 185,\n",
       " 'so': 186,\n",
       " 'but': 187,\n",
       " 'second': 188,\n",
       " 'something': 189,\n",
       " 'else': 190,\n",
       " 'with': 191,\n",
       " 'equally': 192,\n",
       " 'low': 193,\n",
       " 'seat': 194,\n",
       " 'willing': 195,\n",
       " 'loan': 196,\n",
       " 'us': 197,\n",
       " 'eternally': 198,\n",
       " 'grateful': 199,\n",
       " 'addition': 200,\n",
       " 'friendship': 201,\n",
       " 'also': 202,\n",
       " 'use': 203,\n",
       " 'should': 204,\n",
       " 'pass': 205,\n",
       " 'through': 206,\n",
       " 'minneapolis': 207,\n",
       " 'exchange': 208,\n",
       " 'happy': 209,\n",
       " 'take': 210,\n",
       " 'guest': 211,\n",
       " 'dinner': 212,\n",
       " 'evening': 213,\n",
       " 'wild': 214,\n",
       " 'stories': 215,\n",
       " 'might': 216,\n",
       " 'cough': 217,\n",
       " 'money': 218,\n",
       " 'improvements': 219,\n",
       " 'tires': 220,\n",
       " 'any': 221,\n",
       " 'information': 222,\n",
       " 'about': 223,\n",
       " 'rentals': 224,\n",
       " 'area': 225,\n",
       " 'greatly': 226,\n",
       " 'appreciated': 227,\n",
       " 'well': 228,\n",
       " 'still': 229,\n",
       " 'looks': 230,\n",
       " 'youve': 231,\n",
       " 'got': 232,\n",
       " 'attitude': 233,\n",
       " 'problem': 234,\n",
       " 'mr': 235,\n",
       " 'muttonhead': 236,\n",
       " 'comments': 237,\n",
       " 'more': 238,\n",
       " 'sensitivity': 239,\n",
       " 'despise': 240,\n",
       " 'who': 241,\n",
       " 'belittle': 242,\n",
       " 'drinking': 243,\n",
       " 'driving': 244,\n",
       " 'since': 245,\n",
       " 'first': 246,\n",
       " 'girlfriend': 247,\n",
       " 'killed': 248,\n",
       " 'such': 249,\n",
       " 'asshole': 250,\n",
       " 'learn': 251,\n",
       " 'verbal': 252,\n",
       " 'abuse': 253,\n",
       " 'cant': 254,\n",
       " 'flames': 255,\n",
       " 'brains': 256,\n",
       " 'stay': 257,\n",
       " 'newsgroup': 258,\n",
       " 'spoke': 259,\n",
       " 'author': 260,\n",
       " 'macwireframe': 261,\n",
       " 'earlier': 262,\n",
       " 'today': 263,\n",
       " 'cost': 264,\n",
       " 'there': 265,\n",
       " 'license': 266,\n",
       " 'royalties': 267,\n",
       " 'his': 268,\n",
       " 'name': 269,\n",
       " 'eric': 270,\n",
       " 'johnson': 271,\n",
       " 'sacramento': 272,\n",
       " 'ca': 273,\n",
       " 'phone': 274,\n",
       " 'he': 275,\n",
       " 'very': 276,\n",
       " 'guy': 277,\n",
       " 'knowledgeable': 278,\n",
       " 'seems': 279,\n",
       " 'may': 280,\n",
       " 'decent': 281,\n",
       " 'package': 282,\n",
       " 'object': 283,\n",
       " 'pascal': 284,\n",
       " 'framework': 285,\n",
       " 'supposedly': 286,\n",
       " 'fairly': 287,\n",
       " 'complete': 288,\n",
       " 'set': 289,\n",
       " 'geometry': 290,\n",
       " 'creation': 291,\n",
       " 'classes': 292,\n",
       " 'im': 293,\n",
       " 'going': 294,\n",
       " 'check': 295,\n",
       " 'see': 296,\n",
       " 'need': 297,\n",
       " 'cad': 298,\n",
       " 'found': 299,\n",
       " 'd': 300,\n",
       " 'graphic': 301,\n",
       " 'tools': 302,\n",
       " 'micro': 303,\n",
       " 'system': 304,\n",
       " 'options': 305,\n",
       " 'seattle': 306,\n",
       " 'number': 307,\n",
       " 'strong': 308,\n",
       " 'ray': 309,\n",
       " 'tracing': 310,\n",
       " 'not': 311,\n",
       " 'too': 312,\n",
       " 'sure': 313,\n",
       " 'mark': 314,\n",
       " 'owens': 315,\n",
       " 'business': 316,\n",
       " 'price': 317,\n",
       " 'am': 318,\n",
       " 'using': 319,\n",
       " 'povray': 320,\n",
       " 'on': 321,\n",
       " 'mac': 322,\n",
       " 'wondering': 323,\n",
       " 'netland': 324,\n",
       " 'knows': 325,\n",
       " 'public': 326,\n",
       " 'domain': 327,\n",
       " 'antialiasing': 328,\n",
       " 'utilities': 329,\n",
       " 'can': 330,\n",
       " 'skip': 331,\n",
       " 'step': 332,\n",
       " 'pov': 333,\n",
       " 'slow': 334,\n",
       " 'machine': 335,\n",
       " 'suggestions': 336,\n",
       " 'opinions': 337,\n",
       " 'posttrace': 338,\n",
       " 'poppy': 339,\n",
       " 'cock': 340,\n",
       " 'story': 341,\n",
       " 'obviously': 342,\n",
       " 'fabrication': 343,\n",
       " 'ill': 344,\n",
       " 'show': 345,\n",
       " 'why': 346,\n",
       " 'establishes': 347,\n",
       " 'takes': 348,\n",
       " 'place': 349,\n",
       " 'iowa': 350,\n",
       " 'come': 351,\n",
       " 'now': 352,\n",
       " 'dan': 353,\n",
       " 'dumb': 354,\n",
       " 'think': 355,\n",
       " 'least': 356,\n",
       " 'thrown': 357,\n",
       " 'llama': 358,\n",
       " 'tennis': 359,\n",
       " 'ball': 360,\n",
       " 'reference': 361,\n",
       " 'hell': 362,\n",
       " 'didnt': 363,\n",
       " 'get': 364,\n",
       " 'speed': 365,\n",
       " 'dean': 366,\n",
       " 'ps': 367,\n",
       " 'dear': 368,\n",
       " 'binary': 369,\n",
       " 'newsers': 370,\n",
       " 'looking': 371,\n",
       " 'quick': 372,\n",
       " 'c': 373,\n",
       " 'microsoft': 374,\n",
       " 'code': 375,\n",
       " 'image': 376,\n",
       " 'decoding': 377,\n",
       " 'from': 378,\n",
       " 'file': 379,\n",
       " 'vga': 380,\n",
       " 'viewing': 381,\n",
       " 'saving': 382,\n",
       " 'images': 383,\n",
       " 'fromto': 384,\n",
       " 'gif': 385,\n",
       " 'tiff': 386,\n",
       " 'pcx': 387,\n",
       " 'jpeg': 388,\n",
       " 'format': 389,\n",
       " 'scoured': 390,\n",
       " 'internet': 391,\n",
       " 'trying': 392,\n",
       " 'dr': 393,\n",
       " 'seuss': 394,\n",
       " 'spell': 395,\n",
       " 'checker': 396,\n",
       " 'tsr': 397,\n",
       " 'must': 398,\n",
       " 'theres': 399,\n",
       " 'reinvent': 400,\n",
       " 'wheel': 401,\n",
       " 'thanx': 402,\n",
       " 'article': 403,\n",
       " 'cpxnkwmurdochaccvirginiaedu': 404,\n",
       " 'cdwtdayhoffmedvirginiaedu': 405,\n",
       " 'dances': 406,\n",
       " 'federal': 407,\n",
       " 'rangers': 408,\n",
       " 'beemers': 409,\n",
       " 'ec': 410,\n",
       " 'tm': 411,\n",
       " 'just': 412,\n",
       " 'donwloaded': 413,\n",
       " 'bin': 414,\n",
       " 'unix': 415,\n",
       " 'supposed': 416,\n",
       " 'dos': 417,\n",
       " 'readable': 418,\n",
       " 'mentioned': 419,\n",
       " 'fetch': 420,\n",
       " 'correct': 421,\n",
       " 'little': 422,\n",
       " 'elizabeth': 423,\n",
       " 'glassboro': 424,\n",
       " 'jersey': 425,\n",
       " 'word': 426,\n",
       " 'subrogation': 427,\n",
       " 'me': 428,\n",
       " 'youre': 429,\n",
       " 'wait': 430,\n",
       " 'scumbags': 431,\n",
       " 'insurance': 432,\n",
       " 'save': 433,\n",
       " 'having': 434,\n",
       " 'pay': 435,\n",
       " 'deductible': 436,\n",
       " 'however': 437,\n",
       " 'scum': 438,\n",
       " 'then': 439,\n",
       " 'cos': 440,\n",
       " 'pack': 441,\n",
       " 'rabid': 442,\n",
       " 'large': 443,\n",
       " 'fanged': 444,\n",
       " 'recover': 445,\n",
       " 'damages': 446,\n",
       " 'insurances': 447,\n",
       " 'sad': 448,\n",
       " 'true': 449,\n",
       " 'call': 450,\n",
       " 'job': 451,\n",
       " 'security': 452,\n",
       " 'later': 453,\n",
       " 'maryland': 454,\n",
       " 'each': 455,\n",
       " 'when': 456,\n",
       " 'learned': 457,\n",
       " 'ago': 458,\n",
       " 'beginner': 459,\n",
       " 'riders': 460,\n",
       " 'course': 461,\n",
       " 'experienced': 462,\n",
       " 'admittedly': 463,\n",
       " 'half': 464,\n",
       " 'time': 465,\n",
       " 'worked': 466,\n",
       " 'rd': 467,\n",
       " 'lean': 468,\n",
       " 'towards': 469,\n",
       " 'dog': 470,\n",
       " 'modulated': 471,\n",
       " 'throttle': 472,\n",
       " 'keep': 473,\n",
       " 'ankle': 474,\n",
       " 'ahead': 475,\n",
       " 'teeth': 476,\n",
       " 'seconds': 477,\n",
       " 'warm': 478,\n",
       " 'pipe': 479,\n",
       " 'firmly': 480,\n",
       " 'wedged': 481,\n",
       " 'shoulder': 482,\n",
       " 'turned': 483,\n",
       " 'face': 484,\n",
       " 'sideways': 485,\n",
       " 'mouthnosemuzzle': 486,\n",
       " 'burned': 487,\n",
       " 'pipes': 488,\n",
       " 'yip': 489,\n",
       " 'veered': 490,\n",
       " 'away': 491,\n",
       " 'never': 492,\n",
       " 'chase': 493,\n",
       " 'again': 494,\n",
       " 'question': 495,\n",
       " 'convert': 496,\n",
       " 'rgbcoded': 497,\n",
       " 'redgreenblue': 498,\n",
       " 'colors': 499,\n",
       " 'hvscoded': 500,\n",
       " 'huevaluesaturnation': 501,\n",
       " 'formulas': 502,\n",
       " 'lets': 503,\n",
       " 'hsv': 504,\n",
       " 'hsb': 505,\n",
       " 'hsl': 506,\n",
       " 'none': 507,\n",
       " 'those': 508,\n",
       " 'same': 509,\n",
       " 'hls': 510,\n",
       " 'hopefully': 511,\n",
       " 'hvs': 512,\n",
       " 'transposition': 513,\n",
       " 'yet': 514,\n",
       " 'color': 515,\n",
       " 'model': 516,\n",
       " 'following': 517,\n",
       " 'coding': 518,\n",
       " 'havent': 519,\n",
       " 'tried': 520,\n",
       " 'bultmandgwrwsnl': 521,\n",
       " 'possibility': 522,\n",
       " 'mirrorsmsdosgraphicsgraphgemzip': 523,\n",
       " 'wuarchivewustledu': 524,\n",
       " 'bill': 525,\n",
       " 'neisius': 526,\n",
       " 'billsolariahaccom': 527,\n",
       " 'starbase': 528,\n",
       " 'hp': 529,\n",
       " 'manual': 530,\n",
       " 'all': 531,\n",
       " 'coordinates': 532,\n",
       " 'noralised': 533,\n",
       " 'interval': 534,\n",
       " 'hsltorgbhue': 535,\n",
       " 'saturation': 536,\n",
       " 'luminosity': 537,\n",
       " 'red': 538,\n",
       " 'green': 539,\n",
       " 'blue': 540,\n",
       " 'float': 541,\n",
       " 'hue': 542,\n",
       " 'input': 543,\n",
       " 'output': 544,\n",
       " 'rgb': 545,\n",
       " 'frac': 546,\n",
       " 'lx': 547,\n",
       " 'ly': 548,\n",
       " 'lz': 549,\n",
       " 'temporaries': 550,\n",
       " 'int': 551,\n",
       " 'switch': 552,\n",
       " 'case': 553,\n",
       " 'break': 554,\n",
       " 'rgbtohslred': 555,\n",
       " 'define': 556,\n",
       " 'maxa': 557,\n",
       " 'b': 558,\n",
       " 'ababcababc': 559,\n",
       " 'mina': 560,\n",
       " 'x': 561,\n",
       " 'tempr': 562,\n",
       " 'tempg': 563,\n",
       " 'tempb': 564,\n",
       " 'temporary': 565,\n",
       " 'values': 566,\n",
       " 'hi': 567,\n",
       " 'netters': 568,\n",
       " 'doing': 569,\n",
       " 'investigations': 570,\n",
       " 'developable': 571,\n",
       " 'surface': 572,\n",
       " 'familiar': 573,\n",
       " 'topic': 574,\n",
       " 'give': 575,\n",
       " 'sources': 576,\n",
       " 'allow': 577,\n",
       " 'infomation': 578,\n",
       " 'help': 579,\n",
       " 'ppppp': 580,\n",
       " 'ooooo': 581,\n",
       " 'v': 582,\n",
       " 'persistance': 583,\n",
       " 'vision': 584,\n",
       " 'raytracer': 585,\n",
       " 'p': 586,\n",
       " 'o': 587,\n",
       " 'available': 588,\n",
       " 'archie': 589,\n",
       " 'wuarchive': 590,\n",
       " 'type': 591,\n",
       " 'directories': 592,\n",
       " 'freeware': 593,\n",
       " 'michael': 594,\n",
       " 'sent': 595,\n",
       " 'inquiry': 596,\n",
       " 'mailing': 597,\n",
       " 'list': 598,\n",
       " 'sw': 599,\n",
       " 'replaces': 600,\n",
       " 'return': 601,\n",
       " 'addr': 602,\n",
       " 'manually': 603,\n",
       " 'add': 604,\n",
       " 'post': 605,\n",
       " 're': 606,\n",
       " 'contact': 607,\n",
       " 'directly': 608,\n",
       " 'welli': 609,\n",
       " 'dont': 610,\n",
       " 'competing': 611,\n",
       " 'studio': 612,\n",
       " 'pretty': 613,\n",
       " 'powerful': 614,\n",
       " 'allright': 615,\n",
       " 'yes': 616,\n",
       " 'send': 617,\n",
       " 'imaginerequestemailspparamaxcom': 618,\n",
       " 'header': 619,\n",
       " 'subscribe': 620,\n",
       " 'actually': 621,\n",
       " 'faq': 622,\n",
       " 'frequently': 623,\n",
       " 'asked': 624,\n",
       " 'questions': 625,\n",
       " 'version': 626,\n",
       " 'next': 627,\n",
       " 'week': 628,\n",
       " 'want': 629,\n",
       " 'previous': 630,\n",
       " 'etc': 631,\n",
       " 'answering': 632,\n",
       " 'basic': 633,\n",
       " 'imagine': 634,\n",
       " 'hope': 635,\n",
       " 'helps': 636,\n",
       " 'finding': 637,\n",
       " 'disk': 638,\n",
       " 'array': 639,\n",
       " 'mbsec': 640,\n",
       " 'difficult': 641,\n",
       " 'fastest': 642,\n",
       " 'ones': 643,\n",
       " 'maximum': 644,\n",
       " 'strategy': 645,\n",
       " 'ibm': 646,\n",
       " 'sells': 647,\n",
       " 'these': 648,\n",
       " 'attach': 649,\n",
       " 'hippi': 650,\n",
       " 'kinds': 651,\n",
       " 'data': 652,\n",
       " 'rates': 653,\n",
       " 'than': 654,\n",
       " 'scsi': 655,\n",
       " 'connections': 656,\n",
       " 'their': 657,\n",
       " 'latest': 658,\n",
       " 'raid': 659,\n",
       " 'gen': 660,\n",
       " 'limitation': 661,\n",
       " 'channel': 662,\n",
       " 'customer': 663,\n",
       " 'needs': 664,\n",
       " 'exceeded': 665,\n",
       " 'older': 666,\n",
       " 'faster': 667,\n",
       " 'idle': 668,\n",
       " 'newer': 669,\n",
       " 'products': 670,\n",
       " 'small': 671,\n",
       " 'company': 672,\n",
       " 'able': 673,\n",
       " 'ask': 674,\n",
       " 'custom': 675,\n",
       " 'interfaces': 676,\n",
       " 'marketed': 677,\n",
       " 'mongths': 678,\n",
       " 'inc': 679,\n",
       " 'buckeye': 680,\n",
       " 'court': 681,\n",
       " 'milpitas': 682,\n",
       " 'salesmaxstratcom': 683,\n",
       " 'compression': 684,\n",
       " 'bus': 685,\n",
       " 'fully': 686,\n",
       " 'times': 687,\n",
       " 'sustained': 688,\n",
       " 'throughput': 689,\n",
       " 'close': 690,\n",
       " 'burst': 691,\n",
       " 'rate': 692,\n",
       " 'interesting': 693,\n",
       " 'tell': 694,\n",
       " 'chaining': 695,\n",
       " 'anonymous': 696,\n",
       " 'ftp': 697,\n",
       " 'world': 698,\n",
       " 'meshes': 699,\n",
       " 'other': 700,\n",
       " 'graphical': 701,\n",
       " 'stuff': 702,\n",
       " 'program': 703,\n",
       " 'files': 704,\n",
       " 'extension': 705,\n",
       " 'ds': 706,\n",
       " 'perennial': 707,\n",
       " 'where': 708,\n",
       " 'fli': 709,\n",
       " 'thought': 710,\n",
       " 'collected': 711,\n",
       " 'put': 712,\n",
       " 'them': 713,\n",
       " 'somewhere': 714,\n",
       " 'alas': 715,\n",
       " 'without': 716,\n",
       " 'knowledge': 717,\n",
       " 'mucho': 718,\n",
       " 'appreciato': 719,\n",
       " 'good': 720,\n",
       " 'way': 721,\n",
       " 'standard': 722,\n",
       " 'applicationpd': 723,\n",
       " 'utility': 724,\n",
       " 'tifimgtga': 725,\n",
       " 'laserjet': 726,\n",
       " 'iii': 727,\n",
       " 'converting': 728,\n",
       " 'hpgl': 729,\n",
       " 'plotter': 730,\n",
       " 'response': 731,\n",
       " 'windows': 732,\n",
       " 'matrox': 733,\n",
       " 'pg': 734,\n",
       " 'cv': 735,\n",
       " 'svga': 736,\n",
       " 'card': 737,\n",
       " 'moment': 738,\n",
       " 'runs': 739,\n",
       " 'mode': 740,\n",
       " 'oemsetupinf': 741,\n",
       " 'bockampinformatiktumuenchende': 742,\n",
       " 'converter': 743,\n",
       " 'bmp': 744,\n",
       " 'xview': 745,\n",
       " 'xv': 746,\n",
       " 'handle': 747,\n",
       " 'run': 748,\n",
       " 'looked': 749,\n",
       " 'downloaded': 750,\n",
       " 'several': 751,\n",
       " 'packages': 752,\n",
       " 'had': 753,\n",
       " 'luck': 754,\n",
       " 'ed': 755,\n",
       " 'source': 756,\n",
       " 'viewer': 757,\n",
       " 'fancy': 758,\n",
       " 'best': 759,\n",
       " 'written': 760,\n",
       " 'display': 761,\n",
       " 'pictures': 762,\n",
       " 'screen': 763,\n",
       " 'hoping': 764,\n",
       " 'free': 765,\n",
       " 'site': 766,\n",
       " 'somebody': 767,\n",
       " 'info': 768,\n",
       " 'either': 769,\n",
       " 'iff': 770,\n",
       " 'formats': 771,\n",
       " 'effort': 772,\n",
       " 'remove': 773,\n",
       " 'sticker': 774,\n",
       " 'came': 775,\n",
       " 'pieces': 776,\n",
       " 'leaving': 777,\n",
       " 'attached': 778,\n",
       " 'window': 779,\n",
       " 'dark': 780,\n",
       " 'pm': 781,\n",
       " 'before': 782,\n",
       " 'being': 783,\n",
       " 'mangled': 784,\n",
       " 'ineffective': 785,\n",
       " 'attempt': 786,\n",
       " 'torn': 787,\n",
       " 'off': 788,\n",
       " 'warned': 789,\n",
       " 'car': 790,\n",
       " 'towed': 791,\n",
       " 'removed': 792,\n",
       " 'reasonable': 793,\n",
       " 'person': 794,\n",
       " 'arguably': 795,\n",
       " 'driven': 796,\n",
       " 'occured': 797,\n",
       " 'friends': 798,\n",
       " 'attorney': 799,\n",
       " 'trouble': 800,\n",
       " 'fixing': 801,\n",
       " 'blame': 802,\n",
       " 'apartment': 803,\n",
       " 'mangement': 804,\n",
       " 'practical': 805,\n",
       " 'matter': 806,\n",
       " 'conviction': 807,\n",
       " 'inconvenience': 808,\n",
       " 'defending': 809,\n",
       " 'against': 810,\n",
       " 'suit': 811,\n",
       " 'considerable': 812,\n",
       " 'moral': 813,\n",
       " 'fucking': 814,\n",
       " 'stupid': 815,\n",
       " 'thing': 816,\n",
       " 'paltry': 817,\n",
       " 'violation': 818,\n",
       " 'parking': 819,\n",
       " 'authorization': 820,\n",
       " 'btw': 821,\n",
       " 'wasnt': 822,\n",
       " 'somebodys': 823,\n",
       " 'spot': 824,\n",
       " 'residentonly': 825,\n",
       " 'unassigned': 826,\n",
       " 'recently': 827,\n",
       " 'talking': 828,\n",
       " 'possible': 829,\n",
       " 'employer': 830,\n",
       " 'mine': 831,\n",
       " 'computerimage': 832,\n",
       " 'processing': 833,\n",
       " 'seem': 834,\n",
       " 'remember': 835,\n",
       " 'called': 836,\n",
       " 'akin': 837,\n",
       " 'anyway': 838,\n",
       " 'claimed': 839,\n",
       " 'alpha': 840,\n",
       " 'thats': 841,\n",
       " 'bits': 842,\n",
       " 'infowhat': 843,\n",
       " 'possibly': 844,\n",
       " 'specifically': 845,\n",
       " 'trillion': 846,\n",
       " 'many': 847,\n",
       " 'human': 848,\n",
       " 'eye': 849,\n",
       " 'resolve': 850,\n",
       " 'magic': 851,\n",
       " 'make': 852,\n",
       " 'better': 853,\n",
       " 'certain': 854,\n",
       " 'processor': 855,\n",
       " 'industry': 856,\n",
       " 'strength': 857,\n",
       " 'specific': 858,\n",
       " 'systems': 859,\n",
       " 'ie': 860,\n",
       " 'photo': 861,\n",
       " 'gear': 862,\n",
       " 'oversampling': 863,\n",
       " 'bad': 864,\n",
       " 'idea': 865,\n",
       " 'especially': 866,\n",
       " 'hardwares': 867,\n",
       " 'task': 868,\n",
       " 'manipulation': 869,\n",
       " 'profressional': 870,\n",
       " 'photographers': 871,\n",
       " 'demand': 872,\n",
       " 'professional': 873,\n",
       " 'results': 874,\n",
       " 'settle': 875,\n",
       " 'bet': 876,\n",
       " 'roommate': 877,\n",
       " 'sgis': 878,\n",
       " 'flagship': 879,\n",
       " 'iris': 880,\n",
       " 'indigo': 881,\n",
       " 'crimson': 882,\n",
       " 'topoftheline': 883,\n",
       " 'sadly': 884,\n",
       " 'access': 885,\n",
       " 'dec': 886,\n",
       " 'strange': 887,\n",
       " 'vgx': 888,\n",
       " 'line': 889,\n",
       " 'onyx': 890,\n",
       " 'big': 891,\n",
       " 'boys': 892,\n",
       " 'block': 893,\n",
       " 'twice': 894,\n",
       " 'performance': 895,\n",
       " 'reality': 896,\n",
       " 'engine': 897,\n",
       " 'handy': 898,\n",
       " 'periodic': 899,\n",
       " 'table': 900,\n",
       " 'advice': 901,\n",
       " 'softwarehardware': 902,\n",
       " 'making': 903,\n",
       " 'storing': 904,\n",
       " 'ideal': 905,\n",
       " 'software': 906,\n",
       " 'cahnge': 907,\n",
       " 'size': 908,\n",
       " 'picture': 909,\n",
       " 'edit': 910,\n",
       " 'means': 911,\n",
       " 'text': 912,\n",
       " 'below': 913,\n",
       " 'above': 914,\n",
       " 'command': 915,\n",
       " 'interface': 916,\n",
       " 'thank': 917,\n",
       " 'emanuel': 918,\n",
       " 'marciniak': 919,\n",
       " 'bank': 920,\n",
       " 'york': 921,\n",
       " 'difference': 922,\n",
       " 'between': 923,\n",
       " 'citizens': 924,\n",
       " 'arrest': 925,\n",
       " 'physical': 926,\n",
       " 'detention': 927,\n",
       " 'suspect': 928,\n",
       " 'reportwarrant': 929,\n",
       " 'starting': 930,\n",
       " 'address': 931,\n",
       " 'pointer': 932,\n",
       " 'beginning': 933,\n",
       " 'h': 934,\n",
       " 'hex': 935,\n",
       " 'gee': 936,\n",
       " 'duh': 937,\n",
       " 'soooo': 938,\n",
       " 'hugs': 939,\n",
       " 'kisses': 940,\n",
       " 'paraphrase': 941,\n",
       " 'initial': 942,\n",
       " 'fight': 943,\n",
       " 'speeding': 944,\n",
       " 'ticket': 945,\n",
       " 'california': 946,\n",
       " 'edition': 947,\n",
       " 'david': 948,\n",
       " 'brown': 949,\n",
       " 'st': 950,\n",
       " 'berkeley': 951,\n",
       " 'nolo': 952,\n",
       " 'press': 953,\n",
       " 'ucbs': 954,\n",
       " 'library': 955,\n",
       " 'let': 956,\n",
       " 'goes': 957,\n",
       " 'sender': 958,\n",
       " 'replyto': 959,\n",
       " 'harmonsgyrowvtekcom': 960,\n",
       " 'harmon': 961,\n",
       " 'sommer': 962,\n",
       " 'distribution': 963,\n",
       " 'organization': 964,\n",
       " 'usrensetcorganization': 965,\n",
       " 'keywords': 966,\n",
       " 'bought': 967,\n",
       " 'moto': 968,\n",
       " 'guzzi': 969,\n",
       " 'univ': 970,\n",
       " 'va': 971,\n",
       " 'grad': 972,\n",
       " 'student': 973,\n",
       " 'charlottesville': 974,\n",
       " 'last': 975,\n",
       " 'spring': 976,\n",
       " 'cervi': 977,\n",
       " 'cervioasysdtnavymil': 978,\n",
       " 'w': 979,\n",
       " 'dod': 980,\n",
       " 'mgnoc': 981,\n",
       " 'spii': 982,\n",
       " 'kinda': 983,\n",
       " 'whats': 984,\n",
       " 'italian': 985,\n",
       " 'while': 986,\n",
       " 'equations': 987,\n",
       " 'used': 988,\n",
       " 'changing': 989,\n",
       " 'f': 990,\n",
       " 'iltered': 991,\n",
       " 'grey': 992,\n",
       " 'scale': 993,\n",
       " 'because': 994,\n",
       " 'theory': 995,\n",
       " 'scanners': 996,\n",
       " 'obv': 997,\n",
       " 'ious': 998,\n",
       " 'solution': 999,\n",
       " 'buy': 1000,\n",
       " ...}"
      ]
     },
     "execution_count": 4,
     "metadata": {},
     "output_type": "execute_result"
    }
   ],
   "source": [
    "# Підрахунок слів у навчальному наборі\n",
    "words = Counter()\n",
    "for text in train_dataset:\n",
    "    words.update(text.split())\n",
    "\n",
    "# Створення словника для перетворення слів у індекси, резервування індексу 0 для падінгу\n",
    "word_to_index = {word: idx + 1 for idx, word in enumerate(words)}\n",
    "\n",
    "# Створення словника для перетворення індексів назад у слова\n",
    "index_to_word = {idx: word for word, idx in word_to_index.items()}\n",
    "\n",
    "word_to_index\n"
   ]
  },
  {
   "cell_type": "markdown",
   "metadata": {},
   "source": [
    "## 3.3: Відображення унікальних слів на унікальні числа"
   ]
  },
  {
   "cell_type": "code",
   "execution_count": 5,
   "metadata": {},
   "outputs": [
    {
     "name": "stdout",
     "output_type": "stream",
     "text": [
      " i spoke with the author of macwireframe earlier today the cost is but there are no license royalties his name is eric johnson in sacramento ca phone he doesnt have email very nice guy very knowledgeable about graphics seems like he may have a decent package its an object pascal framework that supposedly has a fairly complete set of geometry creation classes im going to check it out and see if its got what i need for my cad package i also found another package d graphic tools by micro system options in seattle the number is also no email the package is strong at ray tracing im not too sure about its geometry creation tools i also need to look into this package some more i also spoke with the author mark owens another nice guy that seems to know his business the price is no royalties\n"
     ]
    }
   ],
   "source": [
    "sample_text = cleaned_text_data[5]\n",
    "\n",
    "print(sample_text)\n"
   ]
  },
  {
   "cell_type": "code",
   "execution_count": 6,
   "metadata": {},
   "outputs": [
    {
     "name": "stdout",
     "output_type": "stream",
     "text": [
      "[45, 259, 191, 22, 260, 29, 261, 262, 263, 22, 264, 108, 187, 265, 27, 61, 266, 267, 268, 269, 108, 270, 271, 38, 272, 273, 274, 275, 63, 32, 105, 276, 184, 277, 276, 278, 223, 100, 279, 6, 275, 280, 32, 7, 281, 282, 51, 87, 283, 284, 285, 92, 286, 10, 7, 287, 288, 289, 29, 290, 291, 292, 293, 294, 14, 295, 11, 21, 19, 296, 139, 51, 232, 2, 45, 297, 24, 110, 298, 282, 45, 202, 299, 72, 282, 300, 301, 302, 161, 303, 304, 305, 38, 306, 22, 307, 108, 202, 61, 105, 22, 282, 108, 308, 90, 309, 310, 293, 311, 312, 313, 223, 51, 290, 291, 302, 45, 202, 297, 14, 5, 55, 95, 282, 42, 238, 45, 202, 259, 191, 22, 260, 314, 315, 72, 184, 277, 92, 279, 14, 58, 268, 316, 22, 317, 108, 61, 267]\n"
     ]
    }
   ],
   "source": [
    "def encode_text(text, word_to_index):\n",
    "    # Розділення тексту на слова та кодування за допомогою відповідних індексів\n",
    "    return [word_to_index[word] for word in text.split() if word in word_to_index]\n",
    "\n",
    "\n",
    "# Приклад використання\n",
    "encoded_text = encode_text(sample_text, word_to_index)\n",
    "print(encoded_text)\n"
   ]
  },
  {
   "cell_type": "markdown",
   "metadata": {},
   "source": [
    "## 3.4. Створити вкладення (embedding) ознак, направлене на зменшення розмірності простору ознак (вектору слів)."
   ]
  },
  {
   "cell_type": "code",
   "execution_count": 7,
   "metadata": {},
   "outputs": [
    {
     "name": "stdout",
     "output_type": "stream",
     "text": [
      "tensor([[ 0.7792, -1.5540,  0.8456,  ..., -0.4794, -0.8362,  0.3841],\n",
      "        [-1.1745,  0.7534, -0.2035,  ...,  1.2625,  1.0855, -0.8247],\n",
      "        [-0.7997,  1.8817, -0.8237,  ..., -0.5258, -0.0156, -2.2362],\n",
      "        ...,\n",
      "        [-0.2872, -1.4426,  0.6887,  ..., -1.6810, -1.4018,  0.6076],\n",
      "        [ 1.6478,  0.4133, -0.9987,  ...,  0.6622, -0.5225,  0.4312],\n",
      "        [ 1.5270, -0.5407, -0.7717,  ..., -0.2328, -1.7945, -1.6725]],\n",
      "       grad_fn=<EmbeddingBackward0>)\n"
     ]
    }
   ],
   "source": [
    "# Параметри\n",
    "vocab_size = len(word_to_index) + 1  # Розмір словника плюс один для невідомого слова\n",
    "embedding_dim = 50  # Розмір виміру вектора вкладень\n",
    "\n",
    "# Визначення моделі\n",
    "class TextEmbedder(nn.Module):\n",
    "    def __init__(self, vocab_size, embedding_dim):\n",
    "        super(TextEmbedder, self).__init__()\n",
    "        self.embedding = nn.Embedding(vocab_size, embedding_dim, padding_idx=0)\n",
    "\n",
    "    def forward(self, x):\n",
    "        return self.embedding(x)\n",
    "\n",
    "\n",
    "# Створення екземпляра моделі\n",
    "model = TextEmbedder(vocab_size, embedding_dim)\n",
    "\n",
    "# Приклад вхідних даних (передбачається, що encoded_text є вже закодованим текстом)\n",
    "input_indices = torch.tensor(encoded_text)\n",
    "\n",
    "# Отримання вкладень для вхідних даних\n",
    "embeddings = model(input_indices)\n",
    "print(embeddings)\n"
   ]
  },
  {
   "cell_type": "markdown",
   "metadata": {},
   "source": [
    "## 3.5. Розділити навчальний набір даних на міні-пакети, які будуть слугувати входом наступних моделей RNN."
   ]
  },
  {
   "cell_type": "code",
   "execution_count": 8,
   "metadata": {},
   "outputs": [],
   "source": [
    "from torch.nn.utils.rnn import pad_sequence\n",
    "\n",
    "\n",
    "class NewsGroupDataset(Dataset):\n",
    "    def __init__(self, texts, labels, word_to_index, max_len=None):\n",
    "        self.texts = [self.encode_text(text, word_to_index) for text in texts]\n",
    "        self.labels = labels\n",
    "        self.max_len = max_len\n",
    "\n",
    "    def encode_text(self, text, word_to_index):\n",
    "        return [\n",
    "            word_to_index.get(word, 0) for word in text.split()\n",
    "        ]  # 0 для невідомих слів\n",
    "\n",
    "    def __len__(self):\n",
    "        return len(self.texts)\n",
    "\n",
    "    def __getitem__(self, idx):\n",
    "        text = self.texts[idx]\n",
    "        if self.max_len:\n",
    "            text = (\n",
    "                text[: self.max_len]\n",
    "                if len(text) > self.max_len\n",
    "                else text + [0] * (self.max_len - len(text))\n",
    "            )\n",
    "        return torch.tensor(text), self.labels[idx]\n",
    "\n",
    "\n",
    "# При створенні DataLoader використовуйте pad_sequence для динамічного доповнення\n",
    "def collate_fn(batch):\n",
    "    texts, labels = zip(*batch)\n",
    "    texts_padded = pad_sequence(\n",
    "        [torch.tensor(text) for text in texts], batch_first=True, padding_value=0\n",
    "    )\n",
    "    return texts_padded, torch.tensor(labels)\n",
    "\n",
    "\n",
    "dataset = NewsGroupDataset(cleaned_text_data, labels, word_to_index, max_len=500)\n",
    "\n",
    "train_dataset, val_dataset, test_dataset = random_split(\n",
    "    dataset, [train_size, val_size, test_size]\n",
    ")\n",
    "\n",
    "# Тепер при створенні DataLoader передайте collate_fn\n",
    "train_loader = DataLoader(\n",
    "    train_dataset,\n",
    "    batch_size=32,\n",
    "    shuffle=True,\n",
    ")\n",
    "val_loader = DataLoader(\n",
    "    train_dataset,\n",
    "    batch_size=32,\n",
    ")\n",
    "test_loader = DataLoader(\n",
    "    train_dataset,\n",
    "    batch_size=32,\n",
    ")\n"
   ]
  },
  {
   "cell_type": "markdown",
   "metadata": {},
   "source": [
    "## 4. Побудувати базову глибоку модель RNN, яка включає наступні шари:\n",
    "   - Embedding,  задати значення input_dim та output_dim,   \n",
    "   - один або кілька шарів SimpleRNN, (в разі двох шарів в першому з них задати return_sequences=True),\n",
    "   - останній вихідний шар повнозв'язний Dense з одним нейроном.\n",
    "\n",
    "Навчити цю модель на 10 - 50 епохах, використовуючи:\n",
    "- функцію втрат BinaryCrossentropy,  попередньо в останньому шарі задати activation='sigmoid',\n",
    "- оптимізатор Adam.\n",
    "\n",
    "Оцінити якість моделі на навчальному та тестовому наборах за показником accuracy."
   ]
  },
  {
   "cell_type": "code",
   "execution_count": 9,
   "metadata": {},
   "outputs": [],
   "source": [
    "from pytorch_lightning.callbacks import RichProgressBar\n",
    "\n",
    "\n",
    "class RNNModel(pl.LightningModule):\n",
    "    def __init__(self, rnn, input_dim, output_dim, hidden_dim):\n",
    "        super(RNNModel, self).__init__()\n",
    "        self.embedding = nn.Embedding(input_dim, output_dim)\n",
    "        self.rnn = rnn\n",
    "        self.fc = nn.Linear(hidden_dim, 1)\n",
    "        self.sigmoid = nn.Sigmoid()\n",
    "\n",
    "    def forward(self, x):\n",
    "        x = self.embedding(x)\n",
    "        x, _ = self.rnn(x)\n",
    "        x = self.fc(x[:, -1, :])  # Use the last timestep\n",
    "        x = self.sigmoid(x)\n",
    "        x = x.squeeze()  # Squeeze the output to remove the extra dimension\n",
    "        return x\n",
    "\n",
    "    def training_step(self, batch, batch_idx):\n",
    "        x, y = batch\n",
    "        y_hat = self.forward(x)\n",
    "        loss = nn.BCELoss()(y_hat, y.float())\n",
    "        return loss\n",
    "\n",
    "    def configure_optimizers(self):\n",
    "        return torch.optim.Adam(self.parameters(), lr=0.001)\n",
    "\n",
    "    def validation_step(self, batch, batch_idx):\n",
    "        x, y = batch\n",
    "\n",
    "        y_hat = self.forward(x)\n",
    "        loss = nn.BCELoss()(y_hat, y.float())\n",
    "        self.log(\"val_loss\", loss)\n",
    "\n",
    "    def test_step(self, batch, batch_idx):\n",
    "        x, y = batch\n",
    "        y_hat = self.forward(x)\n",
    "        y_hat_label = (y_hat > 0.5).float()\n",
    "        acc = accuracy_score(y.cpu(), y_hat_label.cpu())\n",
    "        self.log(\"test_acc\", acc)"
   ]
  },
  {
   "cell_type": "code",
   "execution_count": 11,
   "metadata": {},
   "outputs": [
    {
     "name": "stderr",
     "output_type": "stream",
     "text": [
      "GPU available: True (cuda), used: True\n",
      "TPU available: False, using: 0 TPU cores\n",
      "IPU available: False, using: 0 IPUs\n",
      "HPU available: False, using: 0 HPUs\n",
      "You are using a CUDA device ('NVIDIA GeForce RTX 3070 Ti') that has Tensor Cores. To properly utilize them, you should set `torch.set_float32_matmul_precision('medium' | 'high')` which will trade-off precision for performance. For more details, read https://pytorch.org/docs/stable/generated/torch.set_float32_matmul_precision.html#torch.set_float32_matmul_precision\n",
      "LOCAL_RANK: 0 - CUDA_VISIBLE_DEVICES: [0]\n"
     ]
    },
    {
     "data": {
      "text/html": [
       "<pre style=\"white-space:pre;overflow-x:auto;line-height:normal;font-family:Menlo,'DejaVu Sans Mono',consolas,'Courier New',monospace\">┏━━━┳━━━━━━━━━━━┳━━━━━━━━━━━┳━━━━━━━━┓\n",
       "┃<span style=\"color: #800080; text-decoration-color: #800080; font-weight: bold\">   </span>┃<span style=\"color: #800080; text-decoration-color: #800080; font-weight: bold\"> Name      </span>┃<span style=\"color: #800080; text-decoration-color: #800080; font-weight: bold\"> Type      </span>┃<span style=\"color: #800080; text-decoration-color: #800080; font-weight: bold\"> Params </span>┃\n",
       "┡━━━╇━━━━━━━━━━━╇━━━━━━━━━━━╇━━━━━━━━┩\n",
       "│<span style=\"color: #7f7f7f; text-decoration-color: #7f7f7f\"> 0 </span>│ embedding │ Embedding │  1.8 M │\n",
       "│<span style=\"color: #7f7f7f; text-decoration-color: #7f7f7f\"> 1 </span>│ rnn       │ RNN       │ 12.7 K │\n",
       "│<span style=\"color: #7f7f7f; text-decoration-color: #7f7f7f\"> 2 </span>│ fc        │ Linear    │     51 │\n",
       "│<span style=\"color: #7f7f7f; text-decoration-color: #7f7f7f\"> 3 </span>│ sigmoid   │ Sigmoid   │      0 │\n",
       "└───┴───────────┴───────────┴────────┘\n",
       "</pre>\n"
      ],
      "text/plain": [
       "┏━━━┳━━━━━━━━━━━┳━━━━━━━━━━━┳━━━━━━━━┓\n",
       "┃\u001b[1;35m \u001b[0m\u001b[1;35m \u001b[0m\u001b[1;35m \u001b[0m┃\u001b[1;35m \u001b[0m\u001b[1;35mName     \u001b[0m\u001b[1;35m \u001b[0m┃\u001b[1;35m \u001b[0m\u001b[1;35mType     \u001b[0m\u001b[1;35m \u001b[0m┃\u001b[1;35m \u001b[0m\u001b[1;35mParams\u001b[0m\u001b[1;35m \u001b[0m┃\n",
       "┡━━━╇━━━━━━━━━━━╇━━━━━━━━━━━╇━━━━━━━━┩\n",
       "│\u001b[2m \u001b[0m\u001b[2m0\u001b[0m\u001b[2m \u001b[0m│ embedding │ Embedding │  1.8 M │\n",
       "│\u001b[2m \u001b[0m\u001b[2m1\u001b[0m\u001b[2m \u001b[0m│ rnn       │ RNN       │ 12.7 K │\n",
       "│\u001b[2m \u001b[0m\u001b[2m2\u001b[0m\u001b[2m \u001b[0m│ fc        │ Linear    │     51 │\n",
       "│\u001b[2m \u001b[0m\u001b[2m3\u001b[0m\u001b[2m \u001b[0m│ sigmoid   │ Sigmoid   │      0 │\n",
       "└───┴───────────┴───────────┴────────┘\n"
      ]
     },
     "metadata": {},
     "output_type": "display_data"
    },
    {
     "data": {
      "text/html": [
       "<pre style=\"white-space:pre;overflow-x:auto;line-height:normal;font-family:Menlo,'DejaVu Sans Mono',consolas,'Courier New',monospace\"><span style=\"font-weight: bold\">Trainable params</span>: 1.8 M                                                                                            \n",
       "<span style=\"font-weight: bold\">Non-trainable params</span>: 0                                                                                            \n",
       "<span style=\"font-weight: bold\">Total params</span>: 1.8 M                                                                                                \n",
       "<span style=\"font-weight: bold\">Total estimated model params size (MB)</span>: 7                                                                          \n",
       "</pre>\n"
      ],
      "text/plain": [
       "\u001b[1mTrainable params\u001b[0m: 1.8 M                                                                                            \n",
       "\u001b[1mNon-trainable params\u001b[0m: 0                                                                                            \n",
       "\u001b[1mTotal params\u001b[0m: 1.8 M                                                                                                \n",
       "\u001b[1mTotal estimated model params size (MB)\u001b[0m: 7                                                                          \n"
      ]
     },
     "metadata": {},
     "output_type": "display_data"
    },
    {
     "data": {
      "application/vnd.jupyter.widget-view+json": {
       "model_id": "46a39914b4b44021b5693c0d258e5fc5",
       "version_major": 2,
       "version_minor": 0
      },
      "text/plain": [
       "Output()"
      ]
     },
     "metadata": {},
     "output_type": "display_data"
    },
    {
     "name": "stderr",
     "output_type": "stream",
     "text": [
      "`Trainer.fit` stopped: `max_epochs=50` reached.\n"
     ]
    },
    {
     "data": {
      "text/html": [
       "<pre style=\"white-space:pre;overflow-x:auto;line-height:normal;font-family:Menlo,'DejaVu Sans Mono',consolas,'Courier New',monospace\"></pre>\n"
      ],
      "text/plain": []
     },
     "metadata": {},
     "output_type": "display_data"
    },
    {
     "data": {
      "text/html": [
       "<pre style=\"white-space:pre;overflow-x:auto;line-height:normal;font-family:Menlo,'DejaVu Sans Mono',consolas,'Courier New',monospace\">\n",
       "</pre>\n"
      ],
      "text/plain": [
       "\n"
      ]
     },
     "metadata": {},
     "output_type": "display_data"
    },
    {
     "name": "stderr",
     "output_type": "stream",
     "text": [
      "LOCAL_RANK: 0 - CUDA_VISIBLE_DEVICES: [0]\n"
     ]
    },
    {
     "data": {
      "application/vnd.jupyter.widget-view+json": {
       "model_id": "13f987a81593435aadb4799c23e8e04f",
       "version_major": 2,
       "version_minor": 0
      },
      "text/plain": [
       "Output()"
      ]
     },
     "metadata": {},
     "output_type": "display_data"
    },
    {
     "data": {
      "text/html": [
       "<pre style=\"white-space:pre;overflow-x:auto;line-height:normal;font-family:Menlo,'DejaVu Sans Mono',consolas,'Courier New',monospace\">┏━━━━━━━━━━━━━━━━━━━━━━━━━━━┳━━━━━━━━━━━━━━━━━━━━━━━━━━━┓\n",
       "┃<span style=\"font-weight: bold\">        Test metric        </span>┃<span style=\"font-weight: bold\">       DataLoader 0        </span>┃\n",
       "┡━━━━━━━━━━━━━━━━━━━━━━━━━━━╇━━━━━━━━━━━━━━━━━━━━━━━━━━━┩\n",
       "│<span style=\"color: #008080; text-decoration-color: #008080\">         test_acc          </span>│<span style=\"color: #800080; text-decoration-color: #800080\">    0.5206349492073059     </span>│\n",
       "└───────────────────────────┴───────────────────────────┘\n",
       "</pre>\n"
      ],
      "text/plain": [
       "┏━━━━━━━━━━━━━━━━━━━━━━━━━━━┳━━━━━━━━━━━━━━━━━━━━━━━━━━━┓\n",
       "┃\u001b[1m \u001b[0m\u001b[1m       Test metric       \u001b[0m\u001b[1m \u001b[0m┃\u001b[1m \u001b[0m\u001b[1m      DataLoader 0       \u001b[0m\u001b[1m \u001b[0m┃\n",
       "┡━━━━━━━━━━━━━━━━━━━━━━━━━━━╇━━━━━━━━━━━━━━━━━━━━━━━━━━━┩\n",
       "│\u001b[36m \u001b[0m\u001b[36m        test_acc         \u001b[0m\u001b[36m \u001b[0m│\u001b[35m \u001b[0m\u001b[35m   0.5206349492073059    \u001b[0m\u001b[35m \u001b[0m│\n",
       "└───────────────────────────┴───────────────────────────┘\n"
      ]
     },
     "metadata": {},
     "output_type": "display_data"
    },
    {
     "data": {
      "text/html": [
       "<pre style=\"white-space:pre;overflow-x:auto;line-height:normal;font-family:Menlo,'DejaVu Sans Mono',consolas,'Courier New',monospace\"></pre>\n"
      ],
      "text/plain": []
     },
     "metadata": {},
     "output_type": "display_data"
    },
    {
     "data": {
      "text/html": [
       "<pre style=\"white-space:pre;overflow-x:auto;line-height:normal;font-family:Menlo,'DejaVu Sans Mono',consolas,'Courier New',monospace\">\n",
       "</pre>\n"
      ],
      "text/plain": [
       "\n"
      ]
     },
     "metadata": {},
     "output_type": "display_data"
    },
    {
     "data": {
      "text/plain": [
       "[{'test_acc': 0.5206349492073059}]"
      ]
     },
     "execution_count": 11,
     "metadata": {},
     "output_type": "execute_result"
    }
   ],
   "source": [
    "input_dim = len(word_to_index) + 1\n",
    "\n",
    "output_dim = 100\n",
    "hidden_dim = 50\n",
    "\n",
    "rnn = nn.RNN(output_dim, hidden_dim, num_layers=2, batch_first=True)\n",
    "\n",
    "model = RNNModel(rnn, input_dim=vocab_size, output_dim=100, hidden_dim=50)\n",
    "\n",
    "trainer = Trainer(max_epochs=50, enable_checkpointing=False, callbacks=[RichProgressBar()])\n",
    "trainer.fit(model, train_loader, val_loader)\n",
    "trainer.test(model, test_loader)\n"
   ]
  },
  {
   "cell_type": "markdown",
   "metadata": {},
   "source": [
    "## 5. Побудувати кілька альтернативних глибоких моделей RNN на основі базової, в яких замість SimpleRNN використати:\n",
    "   - LSTM, \n",
    "   - GRU."
   ]
  },
  {
   "cell_type": "code",
   "execution_count": 12,
   "metadata": {},
   "outputs": [
    {
     "name": "stderr",
     "output_type": "stream",
     "text": [
      "GPU available: True (cuda), used: True\n",
      "TPU available: False, using: 0 TPU cores\n",
      "IPU available: False, using: 0 IPUs\n",
      "HPU available: False, using: 0 HPUs\n",
      "LOCAL_RANK: 0 - CUDA_VISIBLE_DEVICES: [0]\n"
     ]
    },
    {
     "data": {
      "text/html": [
       "<pre style=\"white-space:pre;overflow-x:auto;line-height:normal;font-family:Menlo,'DejaVu Sans Mono',consolas,'Courier New',monospace\">┏━━━┳━━━━━━━━━━━┳━━━━━━━━━━━┳━━━━━━━━┓\n",
       "┃<span style=\"color: #800080; text-decoration-color: #800080; font-weight: bold\">   </span>┃<span style=\"color: #800080; text-decoration-color: #800080; font-weight: bold\"> Name      </span>┃<span style=\"color: #800080; text-decoration-color: #800080; font-weight: bold\"> Type      </span>┃<span style=\"color: #800080; text-decoration-color: #800080; font-weight: bold\"> Params </span>┃\n",
       "┡━━━╇━━━━━━━━━━━╇━━━━━━━━━━━╇━━━━━━━━┩\n",
       "│<span style=\"color: #7f7f7f; text-decoration-color: #7f7f7f\"> 0 </span>│ embedding │ Embedding │  1.8 M │\n",
       "│<span style=\"color: #7f7f7f; text-decoration-color: #7f7f7f\"> 1 </span>│ rnn       │ LSTM      │ 50.8 K │\n",
       "│<span style=\"color: #7f7f7f; text-decoration-color: #7f7f7f\"> 2 </span>│ fc        │ Linear    │     51 │\n",
       "│<span style=\"color: #7f7f7f; text-decoration-color: #7f7f7f\"> 3 </span>│ sigmoid   │ Sigmoid   │      0 │\n",
       "└───┴───────────┴───────────┴────────┘\n",
       "</pre>\n"
      ],
      "text/plain": [
       "┏━━━┳━━━━━━━━━━━┳━━━━━━━━━━━┳━━━━━━━━┓\n",
       "┃\u001b[1;35m \u001b[0m\u001b[1;35m \u001b[0m\u001b[1;35m \u001b[0m┃\u001b[1;35m \u001b[0m\u001b[1;35mName     \u001b[0m\u001b[1;35m \u001b[0m┃\u001b[1;35m \u001b[0m\u001b[1;35mType     \u001b[0m\u001b[1;35m \u001b[0m┃\u001b[1;35m \u001b[0m\u001b[1;35mParams\u001b[0m\u001b[1;35m \u001b[0m┃\n",
       "┡━━━╇━━━━━━━━━━━╇━━━━━━━━━━━╇━━━━━━━━┩\n",
       "│\u001b[2m \u001b[0m\u001b[2m0\u001b[0m\u001b[2m \u001b[0m│ embedding │ Embedding │  1.8 M │\n",
       "│\u001b[2m \u001b[0m\u001b[2m1\u001b[0m\u001b[2m \u001b[0m│ rnn       │ LSTM      │ 50.8 K │\n",
       "│\u001b[2m \u001b[0m\u001b[2m2\u001b[0m\u001b[2m \u001b[0m│ fc        │ Linear    │     51 │\n",
       "│\u001b[2m \u001b[0m\u001b[2m3\u001b[0m\u001b[2m \u001b[0m│ sigmoid   │ Sigmoid   │      0 │\n",
       "└───┴───────────┴───────────┴────────┘\n"
      ]
     },
     "metadata": {},
     "output_type": "display_data"
    },
    {
     "data": {
      "text/html": [
       "<pre style=\"white-space:pre;overflow-x:auto;line-height:normal;font-family:Menlo,'DejaVu Sans Mono',consolas,'Courier New',monospace\"><span style=\"font-weight: bold\">Trainable params</span>: 1.9 M                                                                                            \n",
       "<span style=\"font-weight: bold\">Non-trainable params</span>: 0                                                                                            \n",
       "<span style=\"font-weight: bold\">Total params</span>: 1.9 M                                                                                                \n",
       "<span style=\"font-weight: bold\">Total estimated model params size (MB)</span>: 7                                                                          \n",
       "</pre>\n"
      ],
      "text/plain": [
       "\u001b[1mTrainable params\u001b[0m: 1.9 M                                                                                            \n",
       "\u001b[1mNon-trainable params\u001b[0m: 0                                                                                            \n",
       "\u001b[1mTotal params\u001b[0m: 1.9 M                                                                                                \n",
       "\u001b[1mTotal estimated model params size (MB)\u001b[0m: 7                                                                          \n"
      ]
     },
     "metadata": {},
     "output_type": "display_data"
    },
    {
     "data": {
      "application/vnd.jupyter.widget-view+json": {
       "model_id": "4614fc6bedb148cb8adda63a8579abd6",
       "version_major": 2,
       "version_minor": 0
      },
      "text/plain": [
       "Output()"
      ]
     },
     "metadata": {},
     "output_type": "display_data"
    },
    {
     "name": "stderr",
     "output_type": "stream",
     "text": [
      "`Trainer.fit` stopped: `max_epochs=50` reached.\n"
     ]
    },
    {
     "data": {
      "text/html": [
       "<pre style=\"white-space:pre;overflow-x:auto;line-height:normal;font-family:Menlo,'DejaVu Sans Mono',consolas,'Courier New',monospace\"></pre>\n"
      ],
      "text/plain": []
     },
     "metadata": {},
     "output_type": "display_data"
    },
    {
     "data": {
      "text/html": [
       "<pre style=\"white-space:pre;overflow-x:auto;line-height:normal;font-family:Menlo,'DejaVu Sans Mono',consolas,'Courier New',monospace\">\n",
       "</pre>\n"
      ],
      "text/plain": [
       "\n"
      ]
     },
     "metadata": {},
     "output_type": "display_data"
    },
    {
     "name": "stderr",
     "output_type": "stream",
     "text": [
      "LOCAL_RANK: 0 - CUDA_VISIBLE_DEVICES: [0]\n"
     ]
    },
    {
     "data": {
      "application/vnd.jupyter.widget-view+json": {
       "model_id": "d7ef2ccd34b44072a7a527ef551d8bbd",
       "version_major": 2,
       "version_minor": 0
      },
      "text/plain": [
       "Output()"
      ]
     },
     "metadata": {},
     "output_type": "display_data"
    },
    {
     "data": {
      "text/html": [
       "<pre style=\"white-space:pre;overflow-x:auto;line-height:normal;font-family:Menlo,'DejaVu Sans Mono',consolas,'Courier New',monospace\">┏━━━━━━━━━━━━━━━━━━━━━━━━━━━┳━━━━━━━━━━━━━━━━━━━━━━━━━━━┓\n",
       "┃<span style=\"font-weight: bold\">        Test metric        </span>┃<span style=\"font-weight: bold\">       DataLoader 0        </span>┃\n",
       "┡━━━━━━━━━━━━━━━━━━━━━━━━━━━╇━━━━━━━━━━━━━━━━━━━━━━━━━━━┩\n",
       "│<span style=\"color: #008080; text-decoration-color: #008080\">         test_acc          </span>│<span style=\"color: #800080; text-decoration-color: #800080\">    0.9892063736915588     </span>│\n",
       "└───────────────────────────┴───────────────────────────┘\n",
       "</pre>\n"
      ],
      "text/plain": [
       "┏━━━━━━━━━━━━━━━━━━━━━━━━━━━┳━━━━━━━━━━━━━━━━━━━━━━━━━━━┓\n",
       "┃\u001b[1m \u001b[0m\u001b[1m       Test metric       \u001b[0m\u001b[1m \u001b[0m┃\u001b[1m \u001b[0m\u001b[1m      DataLoader 0       \u001b[0m\u001b[1m \u001b[0m┃\n",
       "┡━━━━━━━━━━━━━━━━━━━━━━━━━━━╇━━━━━━━━━━━━━━━━━━━━━━━━━━━┩\n",
       "│\u001b[36m \u001b[0m\u001b[36m        test_acc         \u001b[0m\u001b[36m \u001b[0m│\u001b[35m \u001b[0m\u001b[35m   0.9892063736915588    \u001b[0m\u001b[35m \u001b[0m│\n",
       "└───────────────────────────┴───────────────────────────┘\n"
      ]
     },
     "metadata": {},
     "output_type": "display_data"
    },
    {
     "data": {
      "text/html": [
       "<pre style=\"white-space:pre;overflow-x:auto;line-height:normal;font-family:Menlo,'DejaVu Sans Mono',consolas,'Courier New',monospace\"></pre>\n"
      ],
      "text/plain": []
     },
     "metadata": {},
     "output_type": "display_data"
    },
    {
     "data": {
      "text/html": [
       "<pre style=\"white-space:pre;overflow-x:auto;line-height:normal;font-family:Menlo,'DejaVu Sans Mono',consolas,'Courier New',monospace\">\n",
       "</pre>\n"
      ],
      "text/plain": [
       "\n"
      ]
     },
     "metadata": {},
     "output_type": "display_data"
    },
    {
     "data": {
      "text/plain": [
       "[{'test_acc': 0.9892063736915588}]"
      ]
     },
     "execution_count": 12,
     "metadata": {},
     "output_type": "execute_result"
    }
   ],
   "source": [
    "rnn = nn.LSTM(output_dim, hidden_dim, num_layers=2, batch_first=True)\n",
    "\n",
    "model = RNNModel(rnn, input_dim=vocab_size, output_dim=100, hidden_dim=50)\n",
    "\n",
    "trainer = Trainer(max_epochs=50, enable_checkpointing=False, callbacks=[RichProgressBar()])\n",
    "trainer.fit(model, train_loader, val_loader)\n",
    "trainer.test(model, test_loader)\n"
   ]
  },
  {
   "cell_type": "code",
   "execution_count": 13,
   "metadata": {},
   "outputs": [
    {
     "name": "stderr",
     "output_type": "stream",
     "text": [
      "GPU available: True (cuda), used: True\n",
      "TPU available: False, using: 0 TPU cores\n",
      "IPU available: False, using: 0 IPUs\n",
      "HPU available: False, using: 0 HPUs\n",
      "LOCAL_RANK: 0 - CUDA_VISIBLE_DEVICES: [0]\n"
     ]
    },
    {
     "data": {
      "text/html": [
       "<pre style=\"white-space:pre;overflow-x:auto;line-height:normal;font-family:Menlo,'DejaVu Sans Mono',consolas,'Courier New',monospace\">┏━━━┳━━━━━━━━━━━┳━━━━━━━━━━━┳━━━━━━━━┓\n",
       "┃<span style=\"color: #800080; text-decoration-color: #800080; font-weight: bold\">   </span>┃<span style=\"color: #800080; text-decoration-color: #800080; font-weight: bold\"> Name      </span>┃<span style=\"color: #800080; text-decoration-color: #800080; font-weight: bold\"> Type      </span>┃<span style=\"color: #800080; text-decoration-color: #800080; font-weight: bold\"> Params </span>┃\n",
       "┡━━━╇━━━━━━━━━━━╇━━━━━━━━━━━╇━━━━━━━━┩\n",
       "│<span style=\"color: #7f7f7f; text-decoration-color: #7f7f7f\"> 0 </span>│ embedding │ Embedding │  1.8 M │\n",
       "│<span style=\"color: #7f7f7f; text-decoration-color: #7f7f7f\"> 1 </span>│ rnn       │ GRU       │ 38.1 K │\n",
       "│<span style=\"color: #7f7f7f; text-decoration-color: #7f7f7f\"> 2 </span>│ fc        │ Linear    │     51 │\n",
       "│<span style=\"color: #7f7f7f; text-decoration-color: #7f7f7f\"> 3 </span>│ sigmoid   │ Sigmoid   │      0 │\n",
       "└───┴───────────┴───────────┴────────┘\n",
       "</pre>\n"
      ],
      "text/plain": [
       "┏━━━┳━━━━━━━━━━━┳━━━━━━━━━━━┳━━━━━━━━┓\n",
       "┃\u001b[1;35m \u001b[0m\u001b[1;35m \u001b[0m\u001b[1;35m \u001b[0m┃\u001b[1;35m \u001b[0m\u001b[1;35mName     \u001b[0m\u001b[1;35m \u001b[0m┃\u001b[1;35m \u001b[0m\u001b[1;35mType     \u001b[0m\u001b[1;35m \u001b[0m┃\u001b[1;35m \u001b[0m\u001b[1;35mParams\u001b[0m\u001b[1;35m \u001b[0m┃\n",
       "┡━━━╇━━━━━━━━━━━╇━━━━━━━━━━━╇━━━━━━━━┩\n",
       "│\u001b[2m \u001b[0m\u001b[2m0\u001b[0m\u001b[2m \u001b[0m│ embedding │ Embedding │  1.8 M │\n",
       "│\u001b[2m \u001b[0m\u001b[2m1\u001b[0m\u001b[2m \u001b[0m│ rnn       │ GRU       │ 38.1 K │\n",
       "│\u001b[2m \u001b[0m\u001b[2m2\u001b[0m\u001b[2m \u001b[0m│ fc        │ Linear    │     51 │\n",
       "│\u001b[2m \u001b[0m\u001b[2m3\u001b[0m\u001b[2m \u001b[0m│ sigmoid   │ Sigmoid   │      0 │\n",
       "└───┴───────────┴───────────┴────────┘\n"
      ]
     },
     "metadata": {},
     "output_type": "display_data"
    },
    {
     "data": {
      "text/html": [
       "<pre style=\"white-space:pre;overflow-x:auto;line-height:normal;font-family:Menlo,'DejaVu Sans Mono',consolas,'Courier New',monospace\"><span style=\"font-weight: bold\">Trainable params</span>: 1.9 M                                                                                            \n",
       "<span style=\"font-weight: bold\">Non-trainable params</span>: 0                                                                                            \n",
       "<span style=\"font-weight: bold\">Total params</span>: 1.9 M                                                                                                \n",
       "<span style=\"font-weight: bold\">Total estimated model params size (MB)</span>: 7                                                                          \n",
       "</pre>\n"
      ],
      "text/plain": [
       "\u001b[1mTrainable params\u001b[0m: 1.9 M                                                                                            \n",
       "\u001b[1mNon-trainable params\u001b[0m: 0                                                                                            \n",
       "\u001b[1mTotal params\u001b[0m: 1.9 M                                                                                                \n",
       "\u001b[1mTotal estimated model params size (MB)\u001b[0m: 7                                                                          \n"
      ]
     },
     "metadata": {},
     "output_type": "display_data"
    },
    {
     "data": {
      "application/vnd.jupyter.widget-view+json": {
       "model_id": "39f4c8ed1fcb48069fdc281526fb3da1",
       "version_major": 2,
       "version_minor": 0
      },
      "text/plain": [
       "Output()"
      ]
     },
     "metadata": {},
     "output_type": "display_data"
    },
    {
     "name": "stderr",
     "output_type": "stream",
     "text": [
      "`Trainer.fit` stopped: `max_epochs=50` reached.\n"
     ]
    },
    {
     "data": {
      "text/html": [
       "<pre style=\"white-space:pre;overflow-x:auto;line-height:normal;font-family:Menlo,'DejaVu Sans Mono',consolas,'Courier New',monospace\"></pre>\n"
      ],
      "text/plain": []
     },
     "metadata": {},
     "output_type": "display_data"
    },
    {
     "data": {
      "text/html": [
       "<pre style=\"white-space:pre;overflow-x:auto;line-height:normal;font-family:Menlo,'DejaVu Sans Mono',consolas,'Courier New',monospace\">\n",
       "</pre>\n"
      ],
      "text/plain": [
       "\n"
      ]
     },
     "metadata": {},
     "output_type": "display_data"
    },
    {
     "name": "stderr",
     "output_type": "stream",
     "text": [
      "LOCAL_RANK: 0 - CUDA_VISIBLE_DEVICES: [0]\n"
     ]
    },
    {
     "data": {
      "application/vnd.jupyter.widget-view+json": {
       "model_id": "a14519ec456b456dbaada31aa6a1391e",
       "version_major": 2,
       "version_minor": 0
      },
      "text/plain": [
       "Output()"
      ]
     },
     "metadata": {},
     "output_type": "display_data"
    },
    {
     "data": {
      "text/html": [
       "<pre style=\"white-space:pre;overflow-x:auto;line-height:normal;font-family:Menlo,'DejaVu Sans Mono',consolas,'Courier New',monospace\">┏━━━━━━━━━━━━━━━━━━━━━━━━━━━┳━━━━━━━━━━━━━━━━━━━━━━━━━━━┓\n",
       "┃<span style=\"font-weight: bold\">        Test metric        </span>┃<span style=\"font-weight: bold\">       DataLoader 0        </span>┃\n",
       "┡━━━━━━━━━━━━━━━━━━━━━━━━━━━╇━━━━━━━━━━━━━━━━━━━━━━━━━━━┩\n",
       "│<span style=\"color: #008080; text-decoration-color: #008080\">         test_acc          </span>│<span style=\"color: #800080; text-decoration-color: #800080\">    0.9911110997200012     </span>│\n",
       "└───────────────────────────┴───────────────────────────┘\n",
       "</pre>\n"
      ],
      "text/plain": [
       "┏━━━━━━━━━━━━━━━━━━━━━━━━━━━┳━━━━━━━━━━━━━━━━━━━━━━━━━━━┓\n",
       "┃\u001b[1m \u001b[0m\u001b[1m       Test metric       \u001b[0m\u001b[1m \u001b[0m┃\u001b[1m \u001b[0m\u001b[1m      DataLoader 0       \u001b[0m\u001b[1m \u001b[0m┃\n",
       "┡━━━━━━━━━━━━━━━━━━━━━━━━━━━╇━━━━━━━━━━━━━━━━━━━━━━━━━━━┩\n",
       "│\u001b[36m \u001b[0m\u001b[36m        test_acc         \u001b[0m\u001b[36m \u001b[0m│\u001b[35m \u001b[0m\u001b[35m   0.9911110997200012    \u001b[0m\u001b[35m \u001b[0m│\n",
       "└───────────────────────────┴───────────────────────────┘\n"
      ]
     },
     "metadata": {},
     "output_type": "display_data"
    },
    {
     "data": {
      "text/html": [
       "<pre style=\"white-space:pre;overflow-x:auto;line-height:normal;font-family:Menlo,'DejaVu Sans Mono',consolas,'Courier New',monospace\"></pre>\n"
      ],
      "text/plain": []
     },
     "metadata": {},
     "output_type": "display_data"
    },
    {
     "data": {
      "text/html": [
       "<pre style=\"white-space:pre;overflow-x:auto;line-height:normal;font-family:Menlo,'DejaVu Sans Mono',consolas,'Courier New',monospace\">\n",
       "</pre>\n"
      ],
      "text/plain": [
       "\n"
      ]
     },
     "metadata": {},
     "output_type": "display_data"
    },
    {
     "data": {
      "text/plain": [
       "[{'test_acc': 0.9911110997200012}]"
      ]
     },
     "execution_count": 13,
     "metadata": {},
     "output_type": "execute_result"
    }
   ],
   "source": [
    "rnn = nn.GRU(output_dim, hidden_dim, num_layers=2, batch_first=True)\n",
    "model = RNNModel(rnn, input_dim=vocab_size, output_dim=100, hidden_dim=50)\n",
    "\n",
    "trainer = Trainer(max_epochs=50, enable_checkpointing=False, callbacks=[RichProgressBar()])\n",
    "trainer.fit(model, train_loader, val_loader)\n",
    "trainer.test(model, test_loader)\n"
   ]
  },
  {
   "cell_type": "markdown",
   "metadata": {},
   "source": [
    "## 6. Побудувати альтернативну глибоку модель RNN, в якій    \n",
    "   - помістити шар LSTM (GRU) всередину обгортки Bidirectional, таким чином, що рекурентні шари будуть проходити по вхідним послідовностям в обох напрямках - від початку до кінця і в зворотному напрямку: з кінця до початку."
   ]
  },
  {
   "cell_type": "code",
   "execution_count": 14,
   "metadata": {},
   "outputs": [],
   "source": [
    "import torch.nn as nn\n",
    "import pytorch_lightning as pl\n",
    "\n",
    "\n",
    "class BidirectionalRNNModel(pl.LightningModule):\n",
    "    def __init__(self, rnn, input_dim, output_dim, hidden_dim):\n",
    "        super(BidirectionalRNNModel, self).__init__()\n",
    "        self.embedding = nn.Embedding(input_dim, output_dim)\n",
    "        self.rnn = rnn\n",
    "        self.fc = nn.Linear(\n",
    "            2 * hidden_dim, 1\n",
    "        )  # Multiply hidden_dim by 2 because of bidirectionality\n",
    "        self.sigmoid = nn.Sigmoid()\n",
    "\n",
    "    def forward(self, x):\n",
    "        x = self.embedding(x)\n",
    "        x, _ = self.rnn(x)\n",
    "        # Use the concatenated last hidden states from both directions\n",
    "        x = self.fc(x[:, -1, :])\n",
    "        x = self.sigmoid(x)\n",
    "        x = x.squeeze()  # Squeeze the output to remove the extra dimension\n",
    "        return x\n",
    "\n",
    "    def training_step(self, batch, batch_idx):\n",
    "        x, y = batch\n",
    "        y_hat = self.forward(x)\n",
    "        loss = nn.BCELoss()(y_hat, y.float())\n",
    "        return loss\n",
    "\n",
    "    def configure_optimizers(self):\n",
    "        return torch.optim.Adam(self.parameters(), lr=0.001)\n",
    "\n",
    "    def validation_step(self, batch, batch_idx):\n",
    "        x, y = batch\n",
    "        y_hat = self.forward(x)\n",
    "        loss = nn.BCELoss()(y_hat, y.float())\n",
    "        self.log(\"val_loss\", loss)\n",
    "\n",
    "    def test_step(self, batch, batch_idx):\n",
    "        x, y = batch\n",
    "        y_hat = self.forward(x)\n",
    "        y_hat_label = (y_hat > 0.5).float()\n",
    "        acc = accuracy_score(\n",
    "            y.cpu(), y_hat_label.cpu()\n",
    "        )  # Make sure to import accuracy_score from an appropriate module\n",
    "        self.log(\"test_acc\", acc)\n"
   ]
  },
  {
   "cell_type": "code",
   "execution_count": 15,
   "metadata": {},
   "outputs": [
    {
     "name": "stderr",
     "output_type": "stream",
     "text": [
      "GPU available: True (cuda), used: True\n",
      "TPU available: False, using: 0 TPU cores\n",
      "IPU available: False, using: 0 IPUs\n",
      "HPU available: False, using: 0 HPUs\n",
      "LOCAL_RANK: 0 - CUDA_VISIBLE_DEVICES: [0]\n"
     ]
    },
    {
     "data": {
      "text/html": [
       "<pre style=\"white-space:pre;overflow-x:auto;line-height:normal;font-family:Menlo,'DejaVu Sans Mono',consolas,'Courier New',monospace\">┏━━━┳━━━━━━━━━━━┳━━━━━━━━━━━┳━━━━━━━━┓\n",
       "┃<span style=\"color: #800080; text-decoration-color: #800080; font-weight: bold\">   </span>┃<span style=\"color: #800080; text-decoration-color: #800080; font-weight: bold\"> Name      </span>┃<span style=\"color: #800080; text-decoration-color: #800080; font-weight: bold\"> Type      </span>┃<span style=\"color: #800080; text-decoration-color: #800080; font-weight: bold\"> Params </span>┃\n",
       "┡━━━╇━━━━━━━━━━━╇━━━━━━━━━━━╇━━━━━━━━┩\n",
       "│<span style=\"color: #7f7f7f; text-decoration-color: #7f7f7f\"> 0 </span>│ embedding │ Embedding │  1.8 M │\n",
       "│<span style=\"color: #7f7f7f; text-decoration-color: #7f7f7f\"> 1 </span>│ rnn       │ LSTM      │  121 K │\n",
       "│<span style=\"color: #7f7f7f; text-decoration-color: #7f7f7f\"> 2 </span>│ fc        │ Linear    │    101 │\n",
       "│<span style=\"color: #7f7f7f; text-decoration-color: #7f7f7f\"> 3 </span>│ sigmoid   │ Sigmoid   │      0 │\n",
       "└───┴───────────┴───────────┴────────┘\n",
       "</pre>\n"
      ],
      "text/plain": [
       "┏━━━┳━━━━━━━━━━━┳━━━━━━━━━━━┳━━━━━━━━┓\n",
       "┃\u001b[1;35m \u001b[0m\u001b[1;35m \u001b[0m\u001b[1;35m \u001b[0m┃\u001b[1;35m \u001b[0m\u001b[1;35mName     \u001b[0m\u001b[1;35m \u001b[0m┃\u001b[1;35m \u001b[0m\u001b[1;35mType     \u001b[0m\u001b[1;35m \u001b[0m┃\u001b[1;35m \u001b[0m\u001b[1;35mParams\u001b[0m\u001b[1;35m \u001b[0m┃\n",
       "┡━━━╇━━━━━━━━━━━╇━━━━━━━━━━━╇━━━━━━━━┩\n",
       "│\u001b[2m \u001b[0m\u001b[2m0\u001b[0m\u001b[2m \u001b[0m│ embedding │ Embedding │  1.8 M │\n",
       "│\u001b[2m \u001b[0m\u001b[2m1\u001b[0m\u001b[2m \u001b[0m│ rnn       │ LSTM      │  121 K │\n",
       "│\u001b[2m \u001b[0m\u001b[2m2\u001b[0m\u001b[2m \u001b[0m│ fc        │ Linear    │    101 │\n",
       "│\u001b[2m \u001b[0m\u001b[2m3\u001b[0m\u001b[2m \u001b[0m│ sigmoid   │ Sigmoid   │      0 │\n",
       "└───┴───────────┴───────────┴────────┘\n"
      ]
     },
     "metadata": {},
     "output_type": "display_data"
    },
    {
     "data": {
      "text/html": [
       "<pre style=\"white-space:pre;overflow-x:auto;line-height:normal;font-family:Menlo,'DejaVu Sans Mono',consolas,'Courier New',monospace\"><span style=\"font-weight: bold\">Trainable params</span>: 1.9 M                                                                                            \n",
       "<span style=\"font-weight: bold\">Non-trainable params</span>: 0                                                                                            \n",
       "<span style=\"font-weight: bold\">Total params</span>: 1.9 M                                                                                                \n",
       "<span style=\"font-weight: bold\">Total estimated model params size (MB)</span>: 7                                                                          \n",
       "</pre>\n"
      ],
      "text/plain": [
       "\u001b[1mTrainable params\u001b[0m: 1.9 M                                                                                            \n",
       "\u001b[1mNon-trainable params\u001b[0m: 0                                                                                            \n",
       "\u001b[1mTotal params\u001b[0m: 1.9 M                                                                                                \n",
       "\u001b[1mTotal estimated model params size (MB)\u001b[0m: 7                                                                          \n"
      ]
     },
     "metadata": {},
     "output_type": "display_data"
    },
    {
     "data": {
      "application/vnd.jupyter.widget-view+json": {
       "model_id": "49e816ee159f4927aa550f53b45cb453",
       "version_major": 2,
       "version_minor": 0
      },
      "text/plain": [
       "Output()"
      ]
     },
     "metadata": {},
     "output_type": "display_data"
    },
    {
     "name": "stderr",
     "output_type": "stream",
     "text": [
      "`Trainer.fit` stopped: `max_epochs=50` reached.\n"
     ]
    },
    {
     "data": {
      "text/html": [
       "<pre style=\"white-space:pre;overflow-x:auto;line-height:normal;font-family:Menlo,'DejaVu Sans Mono',consolas,'Courier New',monospace\"></pre>\n"
      ],
      "text/plain": []
     },
     "metadata": {},
     "output_type": "display_data"
    },
    {
     "data": {
      "text/html": [
       "<pre style=\"white-space:pre;overflow-x:auto;line-height:normal;font-family:Menlo,'DejaVu Sans Mono',consolas,'Courier New',monospace\">\n",
       "</pre>\n"
      ],
      "text/plain": [
       "\n"
      ]
     },
     "metadata": {},
     "output_type": "display_data"
    },
    {
     "name": "stderr",
     "output_type": "stream",
     "text": [
      "LOCAL_RANK: 0 - CUDA_VISIBLE_DEVICES: [0]\n"
     ]
    },
    {
     "data": {
      "application/vnd.jupyter.widget-view+json": {
       "model_id": "e07661a78bbc4c56951960147e7d1533",
       "version_major": 2,
       "version_minor": 0
      },
      "text/plain": [
       "Output()"
      ]
     },
     "metadata": {},
     "output_type": "display_data"
    },
    {
     "data": {
      "text/html": [
       "<pre style=\"white-space:pre;overflow-x:auto;line-height:normal;font-family:Menlo,'DejaVu Sans Mono',consolas,'Courier New',monospace\">┏━━━━━━━━━━━━━━━━━━━━━━━━━━━┳━━━━━━━━━━━━━━━━━━━━━━━━━━━┓\n",
       "┃<span style=\"font-weight: bold\">        Test metric        </span>┃<span style=\"font-weight: bold\">       DataLoader 0        </span>┃\n",
       "┡━━━━━━━━━━━━━━━━━━━━━━━━━━━╇━━━━━━━━━━━━━━━━━━━━━━━━━━━┩\n",
       "│<span style=\"color: #008080; text-decoration-color: #008080\">         test_acc          </span>│<span style=\"color: #800080; text-decoration-color: #800080\">    0.9911110997200012     </span>│\n",
       "└───────────────────────────┴───────────────────────────┘\n",
       "</pre>\n"
      ],
      "text/plain": [
       "┏━━━━━━━━━━━━━━━━━━━━━━━━━━━┳━━━━━━━━━━━━━━━━━━━━━━━━━━━┓\n",
       "┃\u001b[1m \u001b[0m\u001b[1m       Test metric       \u001b[0m\u001b[1m \u001b[0m┃\u001b[1m \u001b[0m\u001b[1m      DataLoader 0       \u001b[0m\u001b[1m \u001b[0m┃\n",
       "┡━━━━━━━━━━━━━━━━━━━━━━━━━━━╇━━━━━━━━━━━━━━━━━━━━━━━━━━━┩\n",
       "│\u001b[36m \u001b[0m\u001b[36m        test_acc         \u001b[0m\u001b[36m \u001b[0m│\u001b[35m \u001b[0m\u001b[35m   0.9911110997200012    \u001b[0m\u001b[35m \u001b[0m│\n",
       "└───────────────────────────┴───────────────────────────┘\n"
      ]
     },
     "metadata": {},
     "output_type": "display_data"
    },
    {
     "data": {
      "text/html": [
       "<pre style=\"white-space:pre;overflow-x:auto;line-height:normal;font-family:Menlo,'DejaVu Sans Mono',consolas,'Courier New',monospace\"></pre>\n"
      ],
      "text/plain": []
     },
     "metadata": {},
     "output_type": "display_data"
    },
    {
     "data": {
      "text/html": [
       "<pre style=\"white-space:pre;overflow-x:auto;line-height:normal;font-family:Menlo,'DejaVu Sans Mono',consolas,'Courier New',monospace\">\n",
       "</pre>\n"
      ],
      "text/plain": [
       "\n"
      ]
     },
     "metadata": {},
     "output_type": "display_data"
    },
    {
     "data": {
      "text/plain": [
       "[{'test_acc': 0.9911110997200012}]"
      ]
     },
     "execution_count": 15,
     "metadata": {},
     "output_type": "execute_result"
    }
   ],
   "source": [
    "rnn = nn.LSTM(output_dim, hidden_dim, num_layers=2, batch_first=True, bidirectional=True)\n",
    "\n",
    "model = BidirectionalRNNModel(rnn, input_dim=vocab_size, output_dim=100, hidden_dim=50)\n",
    "\n",
    "trainer = Trainer(max_epochs=50, enable_checkpointing=False, callbacks=[RichProgressBar()])\n",
    "trainer.fit(model, train_loader, val_loader)\n",
    "trainer.test(model, test_loader)"
   ]
  },
  {
   "cell_type": "code",
   "execution_count": 16,
   "metadata": {},
   "outputs": [
    {
     "name": "stderr",
     "output_type": "stream",
     "text": [
      "GPU available: True (cuda), used: True\n",
      "TPU available: False, using: 0 TPU cores\n",
      "IPU available: False, using: 0 IPUs\n",
      "HPU available: False, using: 0 HPUs\n",
      "LOCAL_RANK: 0 - CUDA_VISIBLE_DEVICES: [0]\n"
     ]
    },
    {
     "data": {
      "text/html": [
       "<pre style=\"white-space:pre;overflow-x:auto;line-height:normal;font-family:Menlo,'DejaVu Sans Mono',consolas,'Courier New',monospace\">┏━━━┳━━━━━━━━━━━┳━━━━━━━━━━━┳━━━━━━━━┓\n",
       "┃<span style=\"color: #800080; text-decoration-color: #800080; font-weight: bold\">   </span>┃<span style=\"color: #800080; text-decoration-color: #800080; font-weight: bold\"> Name      </span>┃<span style=\"color: #800080; text-decoration-color: #800080; font-weight: bold\"> Type      </span>┃<span style=\"color: #800080; text-decoration-color: #800080; font-weight: bold\"> Params </span>┃\n",
       "┡━━━╇━━━━━━━━━━━╇━━━━━━━━━━━╇━━━━━━━━┩\n",
       "│<span style=\"color: #7f7f7f; text-decoration-color: #7f7f7f\"> 0 </span>│ embedding │ Embedding │  1.8 M │\n",
       "│<span style=\"color: #7f7f7f; text-decoration-color: #7f7f7f\"> 1 </span>│ rnn       │ GRU       │ 91.2 K │\n",
       "│<span style=\"color: #7f7f7f; text-decoration-color: #7f7f7f\"> 2 </span>│ fc        │ Linear    │    101 │\n",
       "│<span style=\"color: #7f7f7f; text-decoration-color: #7f7f7f\"> 3 </span>│ sigmoid   │ Sigmoid   │      0 │\n",
       "└───┴───────────┴───────────┴────────┘\n",
       "</pre>\n"
      ],
      "text/plain": [
       "┏━━━┳━━━━━━━━━━━┳━━━━━━━━━━━┳━━━━━━━━┓\n",
       "┃\u001b[1;35m \u001b[0m\u001b[1;35m \u001b[0m\u001b[1;35m \u001b[0m┃\u001b[1;35m \u001b[0m\u001b[1;35mName     \u001b[0m\u001b[1;35m \u001b[0m┃\u001b[1;35m \u001b[0m\u001b[1;35mType     \u001b[0m\u001b[1;35m \u001b[0m┃\u001b[1;35m \u001b[0m\u001b[1;35mParams\u001b[0m\u001b[1;35m \u001b[0m┃\n",
       "┡━━━╇━━━━━━━━━━━╇━━━━━━━━━━━╇━━━━━━━━┩\n",
       "│\u001b[2m \u001b[0m\u001b[2m0\u001b[0m\u001b[2m \u001b[0m│ embedding │ Embedding │  1.8 M │\n",
       "│\u001b[2m \u001b[0m\u001b[2m1\u001b[0m\u001b[2m \u001b[0m│ rnn       │ GRU       │ 91.2 K │\n",
       "│\u001b[2m \u001b[0m\u001b[2m2\u001b[0m\u001b[2m \u001b[0m│ fc        │ Linear    │    101 │\n",
       "│\u001b[2m \u001b[0m\u001b[2m3\u001b[0m\u001b[2m \u001b[0m│ sigmoid   │ Sigmoid   │      0 │\n",
       "└───┴───────────┴───────────┴────────┘\n"
      ]
     },
     "metadata": {},
     "output_type": "display_data"
    },
    {
     "data": {
      "text/html": [
       "<pre style=\"white-space:pre;overflow-x:auto;line-height:normal;font-family:Menlo,'DejaVu Sans Mono',consolas,'Courier New',monospace\"><span style=\"font-weight: bold\">Trainable params</span>: 1.9 M                                                                                            \n",
       "<span style=\"font-weight: bold\">Non-trainable params</span>: 0                                                                                            \n",
       "<span style=\"font-weight: bold\">Total params</span>: 1.9 M                                                                                                \n",
       "<span style=\"font-weight: bold\">Total estimated model params size (MB)</span>: 7                                                                          \n",
       "</pre>\n"
      ],
      "text/plain": [
       "\u001b[1mTrainable params\u001b[0m: 1.9 M                                                                                            \n",
       "\u001b[1mNon-trainable params\u001b[0m: 0                                                                                            \n",
       "\u001b[1mTotal params\u001b[0m: 1.9 M                                                                                                \n",
       "\u001b[1mTotal estimated model params size (MB)\u001b[0m: 7                                                                          \n"
      ]
     },
     "metadata": {},
     "output_type": "display_data"
    },
    {
     "data": {
      "application/vnd.jupyter.widget-view+json": {
       "model_id": "d798808521fc40ab8080bcd6095143bc",
       "version_major": 2,
       "version_minor": 0
      },
      "text/plain": [
       "Output()"
      ]
     },
     "metadata": {},
     "output_type": "display_data"
    },
    {
     "name": "stderr",
     "output_type": "stream",
     "text": [
      "`Trainer.fit` stopped: `max_epochs=50` reached.\n"
     ]
    },
    {
     "data": {
      "text/html": [
       "<pre style=\"white-space:pre;overflow-x:auto;line-height:normal;font-family:Menlo,'DejaVu Sans Mono',consolas,'Courier New',monospace\"></pre>\n"
      ],
      "text/plain": []
     },
     "metadata": {},
     "output_type": "display_data"
    },
    {
     "data": {
      "text/html": [
       "<pre style=\"white-space:pre;overflow-x:auto;line-height:normal;font-family:Menlo,'DejaVu Sans Mono',consolas,'Courier New',monospace\">\n",
       "</pre>\n"
      ],
      "text/plain": [
       "\n"
      ]
     },
     "metadata": {},
     "output_type": "display_data"
    },
    {
     "name": "stderr",
     "output_type": "stream",
     "text": [
      "LOCAL_RANK: 0 - CUDA_VISIBLE_DEVICES: [0]\n"
     ]
    },
    {
     "data": {
      "application/vnd.jupyter.widget-view+json": {
       "model_id": "69f8221ff5a640c7a0742a4809ef3536",
       "version_major": 2,
       "version_minor": 0
      },
      "text/plain": [
       "Output()"
      ]
     },
     "metadata": {},
     "output_type": "display_data"
    },
    {
     "data": {
      "text/html": [
       "<pre style=\"white-space:pre;overflow-x:auto;line-height:normal;font-family:Menlo,'DejaVu Sans Mono',consolas,'Courier New',monospace\">┏━━━━━━━━━━━━━━━━━━━━━━━━━━━┳━━━━━━━━━━━━━━━━━━━━━━━━━━━┓\n",
       "┃<span style=\"font-weight: bold\">        Test metric        </span>┃<span style=\"font-weight: bold\">       DataLoader 0        </span>┃\n",
       "┡━━━━━━━━━━━━━━━━━━━━━━━━━━━╇━━━━━━━━━━━━━━━━━━━━━━━━━━━┩\n",
       "│<span style=\"color: #008080; text-decoration-color: #008080\">         test_acc          </span>│<span style=\"color: #800080; text-decoration-color: #800080\">    0.9911110997200012     </span>│\n",
       "└───────────────────────────┴───────────────────────────┘\n",
       "</pre>\n"
      ],
      "text/plain": [
       "┏━━━━━━━━━━━━━━━━━━━━━━━━━━━┳━━━━━━━━━━━━━━━━━━━━━━━━━━━┓\n",
       "┃\u001b[1m \u001b[0m\u001b[1m       Test metric       \u001b[0m\u001b[1m \u001b[0m┃\u001b[1m \u001b[0m\u001b[1m      DataLoader 0       \u001b[0m\u001b[1m \u001b[0m┃\n",
       "┡━━━━━━━━━━━━━━━━━━━━━━━━━━━╇━━━━━━━━━━━━━━━━━━━━━━━━━━━┩\n",
       "│\u001b[36m \u001b[0m\u001b[36m        test_acc         \u001b[0m\u001b[36m \u001b[0m│\u001b[35m \u001b[0m\u001b[35m   0.9911110997200012    \u001b[0m\u001b[35m \u001b[0m│\n",
       "└───────────────────────────┴───────────────────────────┘\n"
      ]
     },
     "metadata": {},
     "output_type": "display_data"
    },
    {
     "data": {
      "text/html": [
       "<pre style=\"white-space:pre;overflow-x:auto;line-height:normal;font-family:Menlo,'DejaVu Sans Mono',consolas,'Courier New',monospace\"></pre>\n"
      ],
      "text/plain": []
     },
     "metadata": {},
     "output_type": "display_data"
    },
    {
     "data": {
      "text/html": [
       "<pre style=\"white-space:pre;overflow-x:auto;line-height:normal;font-family:Menlo,'DejaVu Sans Mono',consolas,'Courier New',monospace\">\n",
       "</pre>\n"
      ],
      "text/plain": [
       "\n"
      ]
     },
     "metadata": {},
     "output_type": "display_data"
    },
    {
     "data": {
      "text/plain": [
       "[{'test_acc': 0.9911110997200012}]"
      ]
     },
     "execution_count": 16,
     "metadata": {},
     "output_type": "execute_result"
    }
   ],
   "source": [
    "rnn = nn.GRU(output_dim, hidden_dim, num_layers=2, batch_first=True, bidirectional=True)\n",
    "model = BidirectionalRNNModel(rnn, input_dim=vocab_size, output_dim=100, hidden_dim=50)\n",
    "\n",
    "trainer = Trainer(max_epochs=50, enable_checkpointing=False, callbacks=[RichProgressBar()])\n",
    "trainer.fit(model, train_loader, val_loader)\n",
    "trainer.test(model, test_loader)"
   ]
  },
  {
   "cell_type": "markdown",
   "metadata": {},
   "source": [
    "## 7. Оцінити якість всіх побудованих моделей.  \n",
    "Зробити висновки. Обрати найкращу модель."
   ]
  },
  {
   "cell_type": "markdown",
   "metadata": {},
   "source": [
    "| Model | Direction | Accuracy |\n",
    "|-----|----|--------|\n",
    "| RNN | Single | 0.5206349492073059 |\n",
    "| LSTM | Single | 0.9892063736915588 |\n",
    "| GRU | Single | 0.9911110997200012 |\n",
    "| LSTM | Bi | 0.9911110997200012 |\n",
    "| GRU | Bi | 0.9911110997200012 |\n",
    "\n"
   ]
  },
  {
   "cell_type": "markdown",
   "metadata": {},
   "source": [
    "## 8. Задати додатковий параметр max_seq_length - довжину вхідної послідовності на етапі знаходження унікальних слів (лексем) в навчальному наборі. \n",
    "Поекспериментувати з різними значеннями цього параметру (з короткими та довгими послідовностями).\n",
    "Порівняти різні моделі RNN з різними довжинами вхідних послідовностей.\n",
    "Зрозуміти можливості різних моделей RNN по обробці довгих послідовностей. \n"
   ]
  },
  {
   "cell_type": "code",
   "execution_count": 17,
   "metadata": {},
   "outputs": [
    {
     "name": "stderr",
     "output_type": "stream",
     "text": [
      "GPU available: True (cuda), used: True\n",
      "TPU available: False, using: 0 TPU cores\n",
      "IPU available: False, using: 0 IPUs\n",
      "HPU available: False, using: 0 HPUs\n",
      "LOCAL_RANK: 0 - CUDA_VISIBLE_DEVICES: [0]\n"
     ]
    },
    {
     "name": "stdout",
     "output_type": "stream",
     "text": [
      "50\n",
      "7\n",
      "Training <class 'torch.nn.modules.rnn.RNN'> with max_len=250\n"
     ]
    },
    {
     "data": {
      "text/html": [
       "<pre style=\"white-space:pre;overflow-x:auto;line-height:normal;font-family:Menlo,'DejaVu Sans Mono',consolas,'Courier New',monospace\">┏━━━┳━━━━━━━━━━━┳━━━━━━━━━━━┳━━━━━━━━┓\n",
       "┃<span style=\"color: #800080; text-decoration-color: #800080; font-weight: bold\">   </span>┃<span style=\"color: #800080; text-decoration-color: #800080; font-weight: bold\"> Name      </span>┃<span style=\"color: #800080; text-decoration-color: #800080; font-weight: bold\"> Type      </span>┃<span style=\"color: #800080; text-decoration-color: #800080; font-weight: bold\"> Params </span>┃\n",
       "┡━━━╇━━━━━━━━━━━╇━━━━━━━━━━━╇━━━━━━━━┩\n",
       "│<span style=\"color: #7f7f7f; text-decoration-color: #7f7f7f\"> 0 </span>│ embedding │ Embedding │  1.8 M │\n",
       "│<span style=\"color: #7f7f7f; text-decoration-color: #7f7f7f\"> 1 </span>│ rnn       │ RNN       │ 12.7 K │\n",
       "│<span style=\"color: #7f7f7f; text-decoration-color: #7f7f7f\"> 2 </span>│ fc        │ Linear    │     51 │\n",
       "│<span style=\"color: #7f7f7f; text-decoration-color: #7f7f7f\"> 3 </span>│ sigmoid   │ Sigmoid   │      0 │\n",
       "└───┴───────────┴───────────┴────────┘\n",
       "</pre>\n"
      ],
      "text/plain": [
       "┏━━━┳━━━━━━━━━━━┳━━━━━━━━━━━┳━━━━━━━━┓\n",
       "┃\u001b[1;35m \u001b[0m\u001b[1;35m \u001b[0m\u001b[1;35m \u001b[0m┃\u001b[1;35m \u001b[0m\u001b[1;35mName     \u001b[0m\u001b[1;35m \u001b[0m┃\u001b[1;35m \u001b[0m\u001b[1;35mType     \u001b[0m\u001b[1;35m \u001b[0m┃\u001b[1;35m \u001b[0m\u001b[1;35mParams\u001b[0m\u001b[1;35m \u001b[0m┃\n",
       "┡━━━╇━━━━━━━━━━━╇━━━━━━━━━━━╇━━━━━━━━┩\n",
       "│\u001b[2m \u001b[0m\u001b[2m0\u001b[0m\u001b[2m \u001b[0m│ embedding │ Embedding │  1.8 M │\n",
       "│\u001b[2m \u001b[0m\u001b[2m1\u001b[0m\u001b[2m \u001b[0m│ rnn       │ RNN       │ 12.7 K │\n",
       "│\u001b[2m \u001b[0m\u001b[2m2\u001b[0m\u001b[2m \u001b[0m│ fc        │ Linear    │     51 │\n",
       "│\u001b[2m \u001b[0m\u001b[2m3\u001b[0m\u001b[2m \u001b[0m│ sigmoid   │ Sigmoid   │      0 │\n",
       "└───┴───────────┴───────────┴────────┘\n"
      ]
     },
     "metadata": {},
     "output_type": "display_data"
    },
    {
     "data": {
      "text/html": [
       "<pre style=\"white-space:pre;overflow-x:auto;line-height:normal;font-family:Menlo,'DejaVu Sans Mono',consolas,'Courier New',monospace\"><span style=\"font-weight: bold\">Trainable params</span>: 1.8 M                                                                                            \n",
       "<span style=\"font-weight: bold\">Non-trainable params</span>: 0                                                                                            \n",
       "<span style=\"font-weight: bold\">Total params</span>: 1.8 M                                                                                                \n",
       "<span style=\"font-weight: bold\">Total estimated model params size (MB)</span>: 7                                                                          \n",
       "</pre>\n"
      ],
      "text/plain": [
       "\u001b[1mTrainable params\u001b[0m: 1.8 M                                                                                            \n",
       "\u001b[1mNon-trainable params\u001b[0m: 0                                                                                            \n",
       "\u001b[1mTotal params\u001b[0m: 1.8 M                                                                                                \n",
       "\u001b[1mTotal estimated model params size (MB)\u001b[0m: 7                                                                          \n"
      ]
     },
     "metadata": {},
     "output_type": "display_data"
    },
    {
     "data": {
      "application/vnd.jupyter.widget-view+json": {
       "model_id": "43a9697863c34648abd93d6cf214057f",
       "version_major": 2,
       "version_minor": 0
      },
      "text/plain": [
       "Output()"
      ]
     },
     "metadata": {},
     "output_type": "display_data"
    },
    {
     "name": "stderr",
     "output_type": "stream",
     "text": [
      "`Trainer.fit` stopped: `max_epochs=20` reached.\n"
     ]
    },
    {
     "data": {
      "text/html": [
       "<pre style=\"white-space:pre;overflow-x:auto;line-height:normal;font-family:Menlo,'DejaVu Sans Mono',consolas,'Courier New',monospace\"></pre>\n"
      ],
      "text/plain": []
     },
     "metadata": {},
     "output_type": "display_data"
    },
    {
     "data": {
      "text/html": [
       "<pre style=\"white-space:pre;overflow-x:auto;line-height:normal;font-family:Menlo,'DejaVu Sans Mono',consolas,'Courier New',monospace\">\n",
       "</pre>\n"
      ],
      "text/plain": [
       "\n"
      ]
     },
     "metadata": {},
     "output_type": "display_data"
    },
    {
     "name": "stderr",
     "output_type": "stream",
     "text": [
      "LOCAL_RANK: 0 - CUDA_VISIBLE_DEVICES: [0]\n"
     ]
    },
    {
     "data": {
      "application/vnd.jupyter.widget-view+json": {
       "model_id": "eede4f97496a4a5ea5d9d5f6ab2e944f",
       "version_major": 2,
       "version_minor": 0
      },
      "text/plain": [
       "Output()"
      ]
     },
     "metadata": {},
     "output_type": "display_data"
    },
    {
     "data": {
      "text/html": [
       "<pre style=\"white-space:pre;overflow-x:auto;line-height:normal;font-family:Menlo,'DejaVu Sans Mono',consolas,'Courier New',monospace\">┏━━━━━━━━━━━━━━━━━━━━━━━━━━━┳━━━━━━━━━━━━━━━━━━━━━━━━━━━┓\n",
       "┃<span style=\"font-weight: bold\">        Test metric        </span>┃<span style=\"font-weight: bold\">       DataLoader 0        </span>┃\n",
       "┡━━━━━━━━━━━━━━━━━━━━━━━━━━━╇━━━━━━━━━━━━━━━━━━━━━━━━━━━┩\n",
       "│<span style=\"color: #008080; text-decoration-color: #008080\">         test_acc          </span>│<span style=\"color: #800080; text-decoration-color: #800080\">     0.469696968793869     </span>│\n",
       "└───────────────────────────┴───────────────────────────┘\n",
       "</pre>\n"
      ],
      "text/plain": [
       "┏━━━━━━━━━━━━━━━━━━━━━━━━━━━┳━━━━━━━━━━━━━━━━━━━━━━━━━━━┓\n",
       "┃\u001b[1m \u001b[0m\u001b[1m       Test metric       \u001b[0m\u001b[1m \u001b[0m┃\u001b[1m \u001b[0m\u001b[1m      DataLoader 0       \u001b[0m\u001b[1m \u001b[0m┃\n",
       "┡━━━━━━━━━━━━━━━━━━━━━━━━━━━╇━━━━━━━━━━━━━━━━━━━━━━━━━━━┩\n",
       "│\u001b[36m \u001b[0m\u001b[36m        test_acc         \u001b[0m\u001b[36m \u001b[0m│\u001b[35m \u001b[0m\u001b[35m    0.469696968793869    \u001b[0m\u001b[35m \u001b[0m│\n",
       "└───────────────────────────┴───────────────────────────┘\n"
      ]
     },
     "metadata": {},
     "output_type": "display_data"
    },
    {
     "data": {
      "text/html": [
       "<pre style=\"white-space:pre;overflow-x:auto;line-height:normal;font-family:Menlo,'DejaVu Sans Mono',consolas,'Courier New',monospace\"></pre>\n"
      ],
      "text/plain": []
     },
     "metadata": {},
     "output_type": "display_data"
    },
    {
     "data": {
      "text/html": [
       "<pre style=\"white-space:pre;overflow-x:auto;line-height:normal;font-family:Menlo,'DejaVu Sans Mono',consolas,'Courier New',monospace\">\n",
       "</pre>\n"
      ],
      "text/plain": [
       "\n"
      ]
     },
     "metadata": {},
     "output_type": "display_data"
    },
    {
     "name": "stderr",
     "output_type": "stream",
     "text": [
      "GPU available: True (cuda), used: True\n",
      "TPU available: False, using: 0 TPU cores\n",
      "IPU available: False, using: 0 IPUs\n",
      "HPU available: False, using: 0 HPUs\n",
      "LOCAL_RANK: 0 - CUDA_VISIBLE_DEVICES: [0]\n"
     ]
    },
    {
     "name": "stdout",
     "output_type": "stream",
     "text": [
      "[{'test_acc': 0.469696968793869}]\n",
      "Training <class 'torch.nn.modules.rnn.LSTM'> with max_len=250\n"
     ]
    },
    {
     "data": {
      "text/html": [
       "<pre style=\"white-space:pre;overflow-x:auto;line-height:normal;font-family:Menlo,'DejaVu Sans Mono',consolas,'Courier New',monospace\">┏━━━┳━━━━━━━━━━━┳━━━━━━━━━━━┳━━━━━━━━┓\n",
       "┃<span style=\"color: #800080; text-decoration-color: #800080; font-weight: bold\">   </span>┃<span style=\"color: #800080; text-decoration-color: #800080; font-weight: bold\"> Name      </span>┃<span style=\"color: #800080; text-decoration-color: #800080; font-weight: bold\"> Type      </span>┃<span style=\"color: #800080; text-decoration-color: #800080; font-weight: bold\"> Params </span>┃\n",
       "┡━━━╇━━━━━━━━━━━╇━━━━━━━━━━━╇━━━━━━━━┩\n",
       "│<span style=\"color: #7f7f7f; text-decoration-color: #7f7f7f\"> 0 </span>│ embedding │ Embedding │  1.8 M │\n",
       "│<span style=\"color: #7f7f7f; text-decoration-color: #7f7f7f\"> 1 </span>│ rnn       │ LSTM      │ 50.8 K │\n",
       "│<span style=\"color: #7f7f7f; text-decoration-color: #7f7f7f\"> 2 </span>│ fc        │ Linear    │     51 │\n",
       "│<span style=\"color: #7f7f7f; text-decoration-color: #7f7f7f\"> 3 </span>│ sigmoid   │ Sigmoid   │      0 │\n",
       "└───┴───────────┴───────────┴────────┘\n",
       "</pre>\n"
      ],
      "text/plain": [
       "┏━━━┳━━━━━━━━━━━┳━━━━━━━━━━━┳━━━━━━━━┓\n",
       "┃\u001b[1;35m \u001b[0m\u001b[1;35m \u001b[0m\u001b[1;35m \u001b[0m┃\u001b[1;35m \u001b[0m\u001b[1;35mName     \u001b[0m\u001b[1;35m \u001b[0m┃\u001b[1;35m \u001b[0m\u001b[1;35mType     \u001b[0m\u001b[1;35m \u001b[0m┃\u001b[1;35m \u001b[0m\u001b[1;35mParams\u001b[0m\u001b[1;35m \u001b[0m┃\n",
       "┡━━━╇━━━━━━━━━━━╇━━━━━━━━━━━╇━━━━━━━━┩\n",
       "│\u001b[2m \u001b[0m\u001b[2m0\u001b[0m\u001b[2m \u001b[0m│ embedding │ Embedding │  1.8 M │\n",
       "│\u001b[2m \u001b[0m\u001b[2m1\u001b[0m\u001b[2m \u001b[0m│ rnn       │ LSTM      │ 50.8 K │\n",
       "│\u001b[2m \u001b[0m\u001b[2m2\u001b[0m\u001b[2m \u001b[0m│ fc        │ Linear    │     51 │\n",
       "│\u001b[2m \u001b[0m\u001b[2m3\u001b[0m\u001b[2m \u001b[0m│ sigmoid   │ Sigmoid   │      0 │\n",
       "└───┴───────────┴───────────┴────────┘\n"
      ]
     },
     "metadata": {},
     "output_type": "display_data"
    },
    {
     "data": {
      "text/html": [
       "<pre style=\"white-space:pre;overflow-x:auto;line-height:normal;font-family:Menlo,'DejaVu Sans Mono',consolas,'Courier New',monospace\"><span style=\"font-weight: bold\">Trainable params</span>: 1.9 M                                                                                            \n",
       "<span style=\"font-weight: bold\">Non-trainable params</span>: 0                                                                                            \n",
       "<span style=\"font-weight: bold\">Total params</span>: 1.9 M                                                                                                \n",
       "<span style=\"font-weight: bold\">Total estimated model params size (MB)</span>: 7                                                                          \n",
       "</pre>\n"
      ],
      "text/plain": [
       "\u001b[1mTrainable params\u001b[0m: 1.9 M                                                                                            \n",
       "\u001b[1mNon-trainable params\u001b[0m: 0                                                                                            \n",
       "\u001b[1mTotal params\u001b[0m: 1.9 M                                                                                                \n",
       "\u001b[1mTotal estimated model params size (MB)\u001b[0m: 7                                                                          \n"
      ]
     },
     "metadata": {},
     "output_type": "display_data"
    },
    {
     "data": {
      "application/vnd.jupyter.widget-view+json": {
       "model_id": "41178a7357b543abbd6f702f3ae9705b",
       "version_major": 2,
       "version_minor": 0
      },
      "text/plain": [
       "Output()"
      ]
     },
     "metadata": {},
     "output_type": "display_data"
    },
    {
     "name": "stderr",
     "output_type": "stream",
     "text": [
      "`Trainer.fit` stopped: `max_epochs=20` reached.\n"
     ]
    },
    {
     "data": {
      "text/html": [
       "<pre style=\"white-space:pre;overflow-x:auto;line-height:normal;font-family:Menlo,'DejaVu Sans Mono',consolas,'Courier New',monospace\"></pre>\n"
      ],
      "text/plain": []
     },
     "metadata": {},
     "output_type": "display_data"
    },
    {
     "data": {
      "text/html": [
       "<pre style=\"white-space:pre;overflow-x:auto;line-height:normal;font-family:Menlo,'DejaVu Sans Mono',consolas,'Courier New',monospace\">\n",
       "</pre>\n"
      ],
      "text/plain": [
       "\n"
      ]
     },
     "metadata": {},
     "output_type": "display_data"
    },
    {
     "name": "stderr",
     "output_type": "stream",
     "text": [
      "LOCAL_RANK: 0 - CUDA_VISIBLE_DEVICES: [0]\n"
     ]
    },
    {
     "data": {
      "application/vnd.jupyter.widget-view+json": {
       "model_id": "706ee5f724c848dd8671a7107ab93681",
       "version_major": 2,
       "version_minor": 0
      },
      "text/plain": [
       "Output()"
      ]
     },
     "metadata": {},
     "output_type": "display_data"
    },
    {
     "data": {
      "text/html": [
       "<pre style=\"white-space:pre;overflow-x:auto;line-height:normal;font-family:Menlo,'DejaVu Sans Mono',consolas,'Courier New',monospace\">┏━━━━━━━━━━━━━━━━━━━━━━━━━━━┳━━━━━━━━━━━━━━━━━━━━━━━━━━━┓\n",
       "┃<span style=\"font-weight: bold\">        Test metric        </span>┃<span style=\"font-weight: bold\">       DataLoader 0        </span>┃\n",
       "┡━━━━━━━━━━━━━━━━━━━━━━━━━━━╇━━━━━━━━━━━━━━━━━━━━━━━━━━━┩\n",
       "│<span style=\"color: #008080; text-decoration-color: #008080\">         test_acc          </span>│<span style=\"color: #800080; text-decoration-color: #800080\">    0.8787878751754761     </span>│\n",
       "└───────────────────────────┴───────────────────────────┘\n",
       "</pre>\n"
      ],
      "text/plain": [
       "┏━━━━━━━━━━━━━━━━━━━━━━━━━━━┳━━━━━━━━━━━━━━━━━━━━━━━━━━━┓\n",
       "┃\u001b[1m \u001b[0m\u001b[1m       Test metric       \u001b[0m\u001b[1m \u001b[0m┃\u001b[1m \u001b[0m\u001b[1m      DataLoader 0       \u001b[0m\u001b[1m \u001b[0m┃\n",
       "┡━━━━━━━━━━━━━━━━━━━━━━━━━━━╇━━━━━━━━━━━━━━━━━━━━━━━━━━━┩\n",
       "│\u001b[36m \u001b[0m\u001b[36m        test_acc         \u001b[0m\u001b[36m \u001b[0m│\u001b[35m \u001b[0m\u001b[35m   0.8787878751754761    \u001b[0m\u001b[35m \u001b[0m│\n",
       "└───────────────────────────┴───────────────────────────┘\n"
      ]
     },
     "metadata": {},
     "output_type": "display_data"
    },
    {
     "data": {
      "text/html": [
       "<pre style=\"white-space:pre;overflow-x:auto;line-height:normal;font-family:Menlo,'DejaVu Sans Mono',consolas,'Courier New',monospace\"></pre>\n"
      ],
      "text/plain": []
     },
     "metadata": {},
     "output_type": "display_data"
    },
    {
     "data": {
      "text/html": [
       "<pre style=\"white-space:pre;overflow-x:auto;line-height:normal;font-family:Menlo,'DejaVu Sans Mono',consolas,'Courier New',monospace\">\n",
       "</pre>\n"
      ],
      "text/plain": [
       "\n"
      ]
     },
     "metadata": {},
     "output_type": "display_data"
    },
    {
     "name": "stderr",
     "output_type": "stream",
     "text": [
      "GPU available: True (cuda), used: True\n",
      "TPU available: False, using: 0 TPU cores\n",
      "IPU available: False, using: 0 IPUs\n",
      "HPU available: False, using: 0 HPUs\n",
      "LOCAL_RANK: 0 - CUDA_VISIBLE_DEVICES: [0]\n"
     ]
    },
    {
     "name": "stdout",
     "output_type": "stream",
     "text": [
      "[{'test_acc': 0.8787878751754761}]\n",
      "Training <class 'torch.nn.modules.rnn.GRU'> with max_len=250\n"
     ]
    },
    {
     "data": {
      "text/html": [
       "<pre style=\"white-space:pre;overflow-x:auto;line-height:normal;font-family:Menlo,'DejaVu Sans Mono',consolas,'Courier New',monospace\">┏━━━┳━━━━━━━━━━━┳━━━━━━━━━━━┳━━━━━━━━┓\n",
       "┃<span style=\"color: #800080; text-decoration-color: #800080; font-weight: bold\">   </span>┃<span style=\"color: #800080; text-decoration-color: #800080; font-weight: bold\"> Name      </span>┃<span style=\"color: #800080; text-decoration-color: #800080; font-weight: bold\"> Type      </span>┃<span style=\"color: #800080; text-decoration-color: #800080; font-weight: bold\"> Params </span>┃\n",
       "┡━━━╇━━━━━━━━━━━╇━━━━━━━━━━━╇━━━━━━━━┩\n",
       "│<span style=\"color: #7f7f7f; text-decoration-color: #7f7f7f\"> 0 </span>│ embedding │ Embedding │  1.8 M │\n",
       "│<span style=\"color: #7f7f7f; text-decoration-color: #7f7f7f\"> 1 </span>│ rnn       │ GRU       │ 38.1 K │\n",
       "│<span style=\"color: #7f7f7f; text-decoration-color: #7f7f7f\"> 2 </span>│ fc        │ Linear    │     51 │\n",
       "│<span style=\"color: #7f7f7f; text-decoration-color: #7f7f7f\"> 3 </span>│ sigmoid   │ Sigmoid   │      0 │\n",
       "└───┴───────────┴───────────┴────────┘\n",
       "</pre>\n"
      ],
      "text/plain": [
       "┏━━━┳━━━━━━━━━━━┳━━━━━━━━━━━┳━━━━━━━━┓\n",
       "┃\u001b[1;35m \u001b[0m\u001b[1;35m \u001b[0m\u001b[1;35m \u001b[0m┃\u001b[1;35m \u001b[0m\u001b[1;35mName     \u001b[0m\u001b[1;35m \u001b[0m┃\u001b[1;35m \u001b[0m\u001b[1;35mType     \u001b[0m\u001b[1;35m \u001b[0m┃\u001b[1;35m \u001b[0m\u001b[1;35mParams\u001b[0m\u001b[1;35m \u001b[0m┃\n",
       "┡━━━╇━━━━━━━━━━━╇━━━━━━━━━━━╇━━━━━━━━┩\n",
       "│\u001b[2m \u001b[0m\u001b[2m0\u001b[0m\u001b[2m \u001b[0m│ embedding │ Embedding │  1.8 M │\n",
       "│\u001b[2m \u001b[0m\u001b[2m1\u001b[0m\u001b[2m \u001b[0m│ rnn       │ GRU       │ 38.1 K │\n",
       "│\u001b[2m \u001b[0m\u001b[2m2\u001b[0m\u001b[2m \u001b[0m│ fc        │ Linear    │     51 │\n",
       "│\u001b[2m \u001b[0m\u001b[2m3\u001b[0m\u001b[2m \u001b[0m│ sigmoid   │ Sigmoid   │      0 │\n",
       "└───┴───────────┴───────────┴────────┘\n"
      ]
     },
     "metadata": {},
     "output_type": "display_data"
    },
    {
     "data": {
      "text/html": [
       "<pre style=\"white-space:pre;overflow-x:auto;line-height:normal;font-family:Menlo,'DejaVu Sans Mono',consolas,'Courier New',monospace\"><span style=\"font-weight: bold\">Trainable params</span>: 1.9 M                                                                                            \n",
       "<span style=\"font-weight: bold\">Non-trainable params</span>: 0                                                                                            \n",
       "<span style=\"font-weight: bold\">Total params</span>: 1.9 M                                                                                                \n",
       "<span style=\"font-weight: bold\">Total estimated model params size (MB)</span>: 7                                                                          \n",
       "</pre>\n"
      ],
      "text/plain": [
       "\u001b[1mTrainable params\u001b[0m: 1.9 M                                                                                            \n",
       "\u001b[1mNon-trainable params\u001b[0m: 0                                                                                            \n",
       "\u001b[1mTotal params\u001b[0m: 1.9 M                                                                                                \n",
       "\u001b[1mTotal estimated model params size (MB)\u001b[0m: 7                                                                          \n"
      ]
     },
     "metadata": {},
     "output_type": "display_data"
    },
    {
     "data": {
      "application/vnd.jupyter.widget-view+json": {
       "model_id": "23cd4219efb1493b928ed63729e73356",
       "version_major": 2,
       "version_minor": 0
      },
      "text/plain": [
       "Output()"
      ]
     },
     "metadata": {},
     "output_type": "display_data"
    },
    {
     "name": "stderr",
     "output_type": "stream",
     "text": [
      "`Trainer.fit` stopped: `max_epochs=20` reached.\n"
     ]
    },
    {
     "data": {
      "text/html": [
       "<pre style=\"white-space:pre;overflow-x:auto;line-height:normal;font-family:Menlo,'DejaVu Sans Mono',consolas,'Courier New',monospace\"></pre>\n"
      ],
      "text/plain": []
     },
     "metadata": {},
     "output_type": "display_data"
    },
    {
     "data": {
      "text/html": [
       "<pre style=\"white-space:pre;overflow-x:auto;line-height:normal;font-family:Menlo,'DejaVu Sans Mono',consolas,'Courier New',monospace\">\n",
       "</pre>\n"
      ],
      "text/plain": [
       "\n"
      ]
     },
     "metadata": {},
     "output_type": "display_data"
    },
    {
     "name": "stderr",
     "output_type": "stream",
     "text": [
      "LOCAL_RANK: 0 - CUDA_VISIBLE_DEVICES: [0]\n"
     ]
    },
    {
     "data": {
      "application/vnd.jupyter.widget-view+json": {
       "model_id": "1abd0257b5b949268ac4b46122b77bbd",
       "version_major": 2,
       "version_minor": 0
      },
      "text/plain": [
       "Output()"
      ]
     },
     "metadata": {},
     "output_type": "display_data"
    },
    {
     "data": {
      "text/html": [
       "<pre style=\"white-space:pre;overflow-x:auto;line-height:normal;font-family:Menlo,'DejaVu Sans Mono',consolas,'Courier New',monospace\">┏━━━━━━━━━━━━━━━━━━━━━━━━━━━┳━━━━━━━━━━━━━━━━━━━━━━━━━━━┓\n",
       "┃<span style=\"font-weight: bold\">        Test metric        </span>┃<span style=\"font-weight: bold\">       DataLoader 0        </span>┃\n",
       "┡━━━━━━━━━━━━━━━━━━━━━━━━━━━╇━━━━━━━━━━━━━━━━━━━━━━━━━━━┩\n",
       "│<span style=\"color: #008080; text-decoration-color: #008080\">         test_acc          </span>│<span style=\"color: #800080; text-decoration-color: #800080\">    0.8989899158477783     </span>│\n",
       "└───────────────────────────┴───────────────────────────┘\n",
       "</pre>\n"
      ],
      "text/plain": [
       "┏━━━━━━━━━━━━━━━━━━━━━━━━━━━┳━━━━━━━━━━━━━━━━━━━━━━━━━━━┓\n",
       "┃\u001b[1m \u001b[0m\u001b[1m       Test metric       \u001b[0m\u001b[1m \u001b[0m┃\u001b[1m \u001b[0m\u001b[1m      DataLoader 0       \u001b[0m\u001b[1m \u001b[0m┃\n",
       "┡━━━━━━━━━━━━━━━━━━━━━━━━━━━╇━━━━━━━━━━━━━━━━━━━━━━━━━━━┩\n",
       "│\u001b[36m \u001b[0m\u001b[36m        test_acc         \u001b[0m\u001b[36m \u001b[0m│\u001b[35m \u001b[0m\u001b[35m   0.8989899158477783    \u001b[0m\u001b[35m \u001b[0m│\n",
       "└───────────────────────────┴───────────────────────────┘\n"
      ]
     },
     "metadata": {},
     "output_type": "display_data"
    },
    {
     "data": {
      "text/html": [
       "<pre style=\"white-space:pre;overflow-x:auto;line-height:normal;font-family:Menlo,'DejaVu Sans Mono',consolas,'Courier New',monospace\"></pre>\n"
      ],
      "text/plain": []
     },
     "metadata": {},
     "output_type": "display_data"
    },
    {
     "data": {
      "text/html": [
       "<pre style=\"white-space:pre;overflow-x:auto;line-height:normal;font-family:Menlo,'DejaVu Sans Mono',consolas,'Courier New',monospace\">\n",
       "</pre>\n"
      ],
      "text/plain": [
       "\n"
      ]
     },
     "metadata": {},
     "output_type": "display_data"
    },
    {
     "name": "stderr",
     "output_type": "stream",
     "text": [
      "GPU available: True (cuda), used: True\n",
      "TPU available: False, using: 0 TPU cores\n",
      "IPU available: False, using: 0 IPUs\n",
      "HPU available: False, using: 0 HPUs\n",
      "LOCAL_RANK: 0 - CUDA_VISIBLE_DEVICES: [0]\n"
     ]
    },
    {
     "name": "stdout",
     "output_type": "stream",
     "text": [
      "[{'test_acc': 0.8989899158477783}]\n",
      "50\n",
      "7\n",
      "Training <class 'torch.nn.modules.rnn.RNN'> with max_len=500\n"
     ]
    },
    {
     "data": {
      "text/html": [
       "<pre style=\"white-space:pre;overflow-x:auto;line-height:normal;font-family:Menlo,'DejaVu Sans Mono',consolas,'Courier New',monospace\">┏━━━┳━━━━━━━━━━━┳━━━━━━━━━━━┳━━━━━━━━┓\n",
       "┃<span style=\"color: #800080; text-decoration-color: #800080; font-weight: bold\">   </span>┃<span style=\"color: #800080; text-decoration-color: #800080; font-weight: bold\"> Name      </span>┃<span style=\"color: #800080; text-decoration-color: #800080; font-weight: bold\"> Type      </span>┃<span style=\"color: #800080; text-decoration-color: #800080; font-weight: bold\"> Params </span>┃\n",
       "┡━━━╇━━━━━━━━━━━╇━━━━━━━━━━━╇━━━━━━━━┩\n",
       "│<span style=\"color: #7f7f7f; text-decoration-color: #7f7f7f\"> 0 </span>│ embedding │ Embedding │  1.8 M │\n",
       "│<span style=\"color: #7f7f7f; text-decoration-color: #7f7f7f\"> 1 </span>│ rnn       │ RNN       │ 12.7 K │\n",
       "│<span style=\"color: #7f7f7f; text-decoration-color: #7f7f7f\"> 2 </span>│ fc        │ Linear    │     51 │\n",
       "│<span style=\"color: #7f7f7f; text-decoration-color: #7f7f7f\"> 3 </span>│ sigmoid   │ Sigmoid   │      0 │\n",
       "└───┴───────────┴───────────┴────────┘\n",
       "</pre>\n"
      ],
      "text/plain": [
       "┏━━━┳━━━━━━━━━━━┳━━━━━━━━━━━┳━━━━━━━━┓\n",
       "┃\u001b[1;35m \u001b[0m\u001b[1;35m \u001b[0m\u001b[1;35m \u001b[0m┃\u001b[1;35m \u001b[0m\u001b[1;35mName     \u001b[0m\u001b[1;35m \u001b[0m┃\u001b[1;35m \u001b[0m\u001b[1;35mType     \u001b[0m\u001b[1;35m \u001b[0m┃\u001b[1;35m \u001b[0m\u001b[1;35mParams\u001b[0m\u001b[1;35m \u001b[0m┃\n",
       "┡━━━╇━━━━━━━━━━━╇━━━━━━━━━━━╇━━━━━━━━┩\n",
       "│\u001b[2m \u001b[0m\u001b[2m0\u001b[0m\u001b[2m \u001b[0m│ embedding │ Embedding │  1.8 M │\n",
       "│\u001b[2m \u001b[0m\u001b[2m1\u001b[0m\u001b[2m \u001b[0m│ rnn       │ RNN       │ 12.7 K │\n",
       "│\u001b[2m \u001b[0m\u001b[2m2\u001b[0m\u001b[2m \u001b[0m│ fc        │ Linear    │     51 │\n",
       "│\u001b[2m \u001b[0m\u001b[2m3\u001b[0m\u001b[2m \u001b[0m│ sigmoid   │ Sigmoid   │      0 │\n",
       "└───┴───────────┴───────────┴────────┘\n"
      ]
     },
     "metadata": {},
     "output_type": "display_data"
    },
    {
     "data": {
      "text/html": [
       "<pre style=\"white-space:pre;overflow-x:auto;line-height:normal;font-family:Menlo,'DejaVu Sans Mono',consolas,'Courier New',monospace\"><span style=\"font-weight: bold\">Trainable params</span>: 1.8 M                                                                                            \n",
       "<span style=\"font-weight: bold\">Non-trainable params</span>: 0                                                                                            \n",
       "<span style=\"font-weight: bold\">Total params</span>: 1.8 M                                                                                                \n",
       "<span style=\"font-weight: bold\">Total estimated model params size (MB)</span>: 7                                                                          \n",
       "</pre>\n"
      ],
      "text/plain": [
       "\u001b[1mTrainable params\u001b[0m: 1.8 M                                                                                            \n",
       "\u001b[1mNon-trainable params\u001b[0m: 0                                                                                            \n",
       "\u001b[1mTotal params\u001b[0m: 1.8 M                                                                                                \n",
       "\u001b[1mTotal estimated model params size (MB)\u001b[0m: 7                                                                          \n"
      ]
     },
     "metadata": {},
     "output_type": "display_data"
    },
    {
     "data": {
      "application/vnd.jupyter.widget-view+json": {
       "model_id": "123edc8029e5456693e48034d845b43a",
       "version_major": 2,
       "version_minor": 0
      },
      "text/plain": [
       "Output()"
      ]
     },
     "metadata": {},
     "output_type": "display_data"
    },
    {
     "name": "stderr",
     "output_type": "stream",
     "text": [
      "`Trainer.fit` stopped: `max_epochs=20` reached.\n"
     ]
    },
    {
     "data": {
      "text/html": [
       "<pre style=\"white-space:pre;overflow-x:auto;line-height:normal;font-family:Menlo,'DejaVu Sans Mono',consolas,'Courier New',monospace\"></pre>\n"
      ],
      "text/plain": []
     },
     "metadata": {},
     "output_type": "display_data"
    },
    {
     "data": {
      "text/html": [
       "<pre style=\"white-space:pre;overflow-x:auto;line-height:normal;font-family:Menlo,'DejaVu Sans Mono',consolas,'Courier New',monospace\">\n",
       "</pre>\n"
      ],
      "text/plain": [
       "\n"
      ]
     },
     "metadata": {},
     "output_type": "display_data"
    },
    {
     "name": "stderr",
     "output_type": "stream",
     "text": [
      "LOCAL_RANK: 0 - CUDA_VISIBLE_DEVICES: [0]\n"
     ]
    },
    {
     "data": {
      "application/vnd.jupyter.widget-view+json": {
       "model_id": "10ef49fd67e444a7a76399c5bb9d0f8d",
       "version_major": 2,
       "version_minor": 0
      },
      "text/plain": [
       "Output()"
      ]
     },
     "metadata": {},
     "output_type": "display_data"
    },
    {
     "data": {
      "text/html": [
       "<pre style=\"white-space:pre;overflow-x:auto;line-height:normal;font-family:Menlo,'DejaVu Sans Mono',consolas,'Courier New',monospace\">┏━━━━━━━━━━━━━━━━━━━━━━━━━━━┳━━━━━━━━━━━━━━━━━━━━━━━━━━━┓\n",
       "┃<span style=\"font-weight: bold\">        Test metric        </span>┃<span style=\"font-weight: bold\">       DataLoader 0        </span>┃\n",
       "┡━━━━━━━━━━━━━━━━━━━━━━━━━━━╇━━━━━━━━━━━━━━━━━━━━━━━━━━━┩\n",
       "│<span style=\"color: #008080; text-decoration-color: #008080\">         test_acc          </span>│<span style=\"color: #800080; text-decoration-color: #800080\">    0.49494948983192444    </span>│\n",
       "└───────────────────────────┴───────────────────────────┘\n",
       "</pre>\n"
      ],
      "text/plain": [
       "┏━━━━━━━━━━━━━━━━━━━━━━━━━━━┳━━━━━━━━━━━━━━━━━━━━━━━━━━━┓\n",
       "┃\u001b[1m \u001b[0m\u001b[1m       Test metric       \u001b[0m\u001b[1m \u001b[0m┃\u001b[1m \u001b[0m\u001b[1m      DataLoader 0       \u001b[0m\u001b[1m \u001b[0m┃\n",
       "┡━━━━━━━━━━━━━━━━━━━━━━━━━━━╇━━━━━━━━━━━━━━━━━━━━━━━━━━━┩\n",
       "│\u001b[36m \u001b[0m\u001b[36m        test_acc         \u001b[0m\u001b[36m \u001b[0m│\u001b[35m \u001b[0m\u001b[35m   0.49494948983192444   \u001b[0m\u001b[35m \u001b[0m│\n",
       "└───────────────────────────┴───────────────────────────┘\n"
      ]
     },
     "metadata": {},
     "output_type": "display_data"
    },
    {
     "data": {
      "text/html": [
       "<pre style=\"white-space:pre;overflow-x:auto;line-height:normal;font-family:Menlo,'DejaVu Sans Mono',consolas,'Courier New',monospace\"></pre>\n"
      ],
      "text/plain": []
     },
     "metadata": {},
     "output_type": "display_data"
    },
    {
     "data": {
      "text/html": [
       "<pre style=\"white-space:pre;overflow-x:auto;line-height:normal;font-family:Menlo,'DejaVu Sans Mono',consolas,'Courier New',monospace\">\n",
       "</pre>\n"
      ],
      "text/plain": [
       "\n"
      ]
     },
     "metadata": {},
     "output_type": "display_data"
    },
    {
     "name": "stderr",
     "output_type": "stream",
     "text": [
      "GPU available: True (cuda), used: True\n",
      "TPU available: False, using: 0 TPU cores\n",
      "IPU available: False, using: 0 IPUs\n",
      "HPU available: False, using: 0 HPUs\n",
      "LOCAL_RANK: 0 - CUDA_VISIBLE_DEVICES: [0]\n"
     ]
    },
    {
     "name": "stdout",
     "output_type": "stream",
     "text": [
      "[{'test_acc': 0.49494948983192444}]\n",
      "Training <class 'torch.nn.modules.rnn.LSTM'> with max_len=500\n"
     ]
    },
    {
     "data": {
      "text/html": [
       "<pre style=\"white-space:pre;overflow-x:auto;line-height:normal;font-family:Menlo,'DejaVu Sans Mono',consolas,'Courier New',monospace\">┏━━━┳━━━━━━━━━━━┳━━━━━━━━━━━┳━━━━━━━━┓\n",
       "┃<span style=\"color: #800080; text-decoration-color: #800080; font-weight: bold\">   </span>┃<span style=\"color: #800080; text-decoration-color: #800080; font-weight: bold\"> Name      </span>┃<span style=\"color: #800080; text-decoration-color: #800080; font-weight: bold\"> Type      </span>┃<span style=\"color: #800080; text-decoration-color: #800080; font-weight: bold\"> Params </span>┃\n",
       "┡━━━╇━━━━━━━━━━━╇━━━━━━━━━━━╇━━━━━━━━┩\n",
       "│<span style=\"color: #7f7f7f; text-decoration-color: #7f7f7f\"> 0 </span>│ embedding │ Embedding │  1.8 M │\n",
       "│<span style=\"color: #7f7f7f; text-decoration-color: #7f7f7f\"> 1 </span>│ rnn       │ LSTM      │ 50.8 K │\n",
       "│<span style=\"color: #7f7f7f; text-decoration-color: #7f7f7f\"> 2 </span>│ fc        │ Linear    │     51 │\n",
       "│<span style=\"color: #7f7f7f; text-decoration-color: #7f7f7f\"> 3 </span>│ sigmoid   │ Sigmoid   │      0 │\n",
       "└───┴───────────┴───────────┴────────┘\n",
       "</pre>\n"
      ],
      "text/plain": [
       "┏━━━┳━━━━━━━━━━━┳━━━━━━━━━━━┳━━━━━━━━┓\n",
       "┃\u001b[1;35m \u001b[0m\u001b[1;35m \u001b[0m\u001b[1;35m \u001b[0m┃\u001b[1;35m \u001b[0m\u001b[1;35mName     \u001b[0m\u001b[1;35m \u001b[0m┃\u001b[1;35m \u001b[0m\u001b[1;35mType     \u001b[0m\u001b[1;35m \u001b[0m┃\u001b[1;35m \u001b[0m\u001b[1;35mParams\u001b[0m\u001b[1;35m \u001b[0m┃\n",
       "┡━━━╇━━━━━━━━━━━╇━━━━━━━━━━━╇━━━━━━━━┩\n",
       "│\u001b[2m \u001b[0m\u001b[2m0\u001b[0m\u001b[2m \u001b[0m│ embedding │ Embedding │  1.8 M │\n",
       "│\u001b[2m \u001b[0m\u001b[2m1\u001b[0m\u001b[2m \u001b[0m│ rnn       │ LSTM      │ 50.8 K │\n",
       "│\u001b[2m \u001b[0m\u001b[2m2\u001b[0m\u001b[2m \u001b[0m│ fc        │ Linear    │     51 │\n",
       "│\u001b[2m \u001b[0m\u001b[2m3\u001b[0m\u001b[2m \u001b[0m│ sigmoid   │ Sigmoid   │      0 │\n",
       "└───┴───────────┴───────────┴────────┘\n"
      ]
     },
     "metadata": {},
     "output_type": "display_data"
    },
    {
     "data": {
      "text/html": [
       "<pre style=\"white-space:pre;overflow-x:auto;line-height:normal;font-family:Menlo,'DejaVu Sans Mono',consolas,'Courier New',monospace\"><span style=\"font-weight: bold\">Trainable params</span>: 1.9 M                                                                                            \n",
       "<span style=\"font-weight: bold\">Non-trainable params</span>: 0                                                                                            \n",
       "<span style=\"font-weight: bold\">Total params</span>: 1.9 M                                                                                                \n",
       "<span style=\"font-weight: bold\">Total estimated model params size (MB)</span>: 7                                                                          \n",
       "</pre>\n"
      ],
      "text/plain": [
       "\u001b[1mTrainable params\u001b[0m: 1.9 M                                                                                            \n",
       "\u001b[1mNon-trainable params\u001b[0m: 0                                                                                            \n",
       "\u001b[1mTotal params\u001b[0m: 1.9 M                                                                                                \n",
       "\u001b[1mTotal estimated model params size (MB)\u001b[0m: 7                                                                          \n"
      ]
     },
     "metadata": {},
     "output_type": "display_data"
    },
    {
     "data": {
      "application/vnd.jupyter.widget-view+json": {
       "model_id": "1385fa8400c2471dbe272bf60512a3c9",
       "version_major": 2,
       "version_minor": 0
      },
      "text/plain": [
       "Output()"
      ]
     },
     "metadata": {},
     "output_type": "display_data"
    },
    {
     "name": "stderr",
     "output_type": "stream",
     "text": [
      "`Trainer.fit` stopped: `max_epochs=20` reached.\n"
     ]
    },
    {
     "data": {
      "text/html": [
       "<pre style=\"white-space:pre;overflow-x:auto;line-height:normal;font-family:Menlo,'DejaVu Sans Mono',consolas,'Courier New',monospace\"></pre>\n"
      ],
      "text/plain": []
     },
     "metadata": {},
     "output_type": "display_data"
    },
    {
     "data": {
      "text/html": [
       "<pre style=\"white-space:pre;overflow-x:auto;line-height:normal;font-family:Menlo,'DejaVu Sans Mono',consolas,'Courier New',monospace\">\n",
       "</pre>\n"
      ],
      "text/plain": [
       "\n"
      ]
     },
     "metadata": {},
     "output_type": "display_data"
    },
    {
     "name": "stderr",
     "output_type": "stream",
     "text": [
      "LOCAL_RANK: 0 - CUDA_VISIBLE_DEVICES: [0]\n"
     ]
    },
    {
     "data": {
      "application/vnd.jupyter.widget-view+json": {
       "model_id": "b44f2aed1532496eae7bbc31d0876c02",
       "version_major": 2,
       "version_minor": 0
      },
      "text/plain": [
       "Output()"
      ]
     },
     "metadata": {},
     "output_type": "display_data"
    },
    {
     "data": {
      "text/html": [
       "<pre style=\"white-space:pre;overflow-x:auto;line-height:normal;font-family:Menlo,'DejaVu Sans Mono',consolas,'Courier New',monospace\">┏━━━━━━━━━━━━━━━━━━━━━━━━━━━┳━━━━━━━━━━━━━━━━━━━━━━━━━━━┓\n",
       "┃<span style=\"font-weight: bold\">        Test metric        </span>┃<span style=\"font-weight: bold\">       DataLoader 0        </span>┃\n",
       "┡━━━━━━━━━━━━━━━━━━━━━━━━━━━╇━━━━━━━━━━━━━━━━━━━━━━━━━━━┩\n",
       "│<span style=\"color: #008080; text-decoration-color: #008080\">         test_acc          </span>│<span style=\"color: #800080; text-decoration-color: #800080\">    0.5101010203361511     </span>│\n",
       "└───────────────────────────┴───────────────────────────┘\n",
       "</pre>\n"
      ],
      "text/plain": [
       "┏━━━━━━━━━━━━━━━━━━━━━━━━━━━┳━━━━━━━━━━━━━━━━━━━━━━━━━━━┓\n",
       "┃\u001b[1m \u001b[0m\u001b[1m       Test metric       \u001b[0m\u001b[1m \u001b[0m┃\u001b[1m \u001b[0m\u001b[1m      DataLoader 0       \u001b[0m\u001b[1m \u001b[0m┃\n",
       "┡━━━━━━━━━━━━━━━━━━━━━━━━━━━╇━━━━━━━━━━━━━━━━━━━━━━━━━━━┩\n",
       "│\u001b[36m \u001b[0m\u001b[36m        test_acc         \u001b[0m\u001b[36m \u001b[0m│\u001b[35m \u001b[0m\u001b[35m   0.5101010203361511    \u001b[0m\u001b[35m \u001b[0m│\n",
       "└───────────────────────────┴───────────────────────────┘\n"
      ]
     },
     "metadata": {},
     "output_type": "display_data"
    },
    {
     "data": {
      "text/html": [
       "<pre style=\"white-space:pre;overflow-x:auto;line-height:normal;font-family:Menlo,'DejaVu Sans Mono',consolas,'Courier New',monospace\"></pre>\n"
      ],
      "text/plain": []
     },
     "metadata": {},
     "output_type": "display_data"
    },
    {
     "data": {
      "text/html": [
       "<pre style=\"white-space:pre;overflow-x:auto;line-height:normal;font-family:Menlo,'DejaVu Sans Mono',consolas,'Courier New',monospace\">\n",
       "</pre>\n"
      ],
      "text/plain": [
       "\n"
      ]
     },
     "metadata": {},
     "output_type": "display_data"
    },
    {
     "name": "stderr",
     "output_type": "stream",
     "text": [
      "GPU available: True (cuda), used: True\n",
      "TPU available: False, using: 0 TPU cores\n",
      "IPU available: False, using: 0 IPUs\n",
      "HPU available: False, using: 0 HPUs\n",
      "LOCAL_RANK: 0 - CUDA_VISIBLE_DEVICES: [0]\n"
     ]
    },
    {
     "name": "stdout",
     "output_type": "stream",
     "text": [
      "[{'test_acc': 0.5101010203361511}]\n",
      "Training <class 'torch.nn.modules.rnn.GRU'> with max_len=500\n"
     ]
    },
    {
     "data": {
      "text/html": [
       "<pre style=\"white-space:pre;overflow-x:auto;line-height:normal;font-family:Menlo,'DejaVu Sans Mono',consolas,'Courier New',monospace\">┏━━━┳━━━━━━━━━━━┳━━━━━━━━━━━┳━━━━━━━━┓\n",
       "┃<span style=\"color: #800080; text-decoration-color: #800080; font-weight: bold\">   </span>┃<span style=\"color: #800080; text-decoration-color: #800080; font-weight: bold\"> Name      </span>┃<span style=\"color: #800080; text-decoration-color: #800080; font-weight: bold\"> Type      </span>┃<span style=\"color: #800080; text-decoration-color: #800080; font-weight: bold\"> Params </span>┃\n",
       "┡━━━╇━━━━━━━━━━━╇━━━━━━━━━━━╇━━━━━━━━┩\n",
       "│<span style=\"color: #7f7f7f; text-decoration-color: #7f7f7f\"> 0 </span>│ embedding │ Embedding │  1.8 M │\n",
       "│<span style=\"color: #7f7f7f; text-decoration-color: #7f7f7f\"> 1 </span>│ rnn       │ GRU       │ 38.1 K │\n",
       "│<span style=\"color: #7f7f7f; text-decoration-color: #7f7f7f\"> 2 </span>│ fc        │ Linear    │     51 │\n",
       "│<span style=\"color: #7f7f7f; text-decoration-color: #7f7f7f\"> 3 </span>│ sigmoid   │ Sigmoid   │      0 │\n",
       "└───┴───────────┴───────────┴────────┘\n",
       "</pre>\n"
      ],
      "text/plain": [
       "┏━━━┳━━━━━━━━━━━┳━━━━━━━━━━━┳━━━━━━━━┓\n",
       "┃\u001b[1;35m \u001b[0m\u001b[1;35m \u001b[0m\u001b[1;35m \u001b[0m┃\u001b[1;35m \u001b[0m\u001b[1;35mName     \u001b[0m\u001b[1;35m \u001b[0m┃\u001b[1;35m \u001b[0m\u001b[1;35mType     \u001b[0m\u001b[1;35m \u001b[0m┃\u001b[1;35m \u001b[0m\u001b[1;35mParams\u001b[0m\u001b[1;35m \u001b[0m┃\n",
       "┡━━━╇━━━━━━━━━━━╇━━━━━━━━━━━╇━━━━━━━━┩\n",
       "│\u001b[2m \u001b[0m\u001b[2m0\u001b[0m\u001b[2m \u001b[0m│ embedding │ Embedding │  1.8 M │\n",
       "│\u001b[2m \u001b[0m\u001b[2m1\u001b[0m\u001b[2m \u001b[0m│ rnn       │ GRU       │ 38.1 K │\n",
       "│\u001b[2m \u001b[0m\u001b[2m2\u001b[0m\u001b[2m \u001b[0m│ fc        │ Linear    │     51 │\n",
       "│\u001b[2m \u001b[0m\u001b[2m3\u001b[0m\u001b[2m \u001b[0m│ sigmoid   │ Sigmoid   │      0 │\n",
       "└───┴───────────┴───────────┴────────┘\n"
      ]
     },
     "metadata": {},
     "output_type": "display_data"
    },
    {
     "data": {
      "text/html": [
       "<pre style=\"white-space:pre;overflow-x:auto;line-height:normal;font-family:Menlo,'DejaVu Sans Mono',consolas,'Courier New',monospace\"><span style=\"font-weight: bold\">Trainable params</span>: 1.9 M                                                                                            \n",
       "<span style=\"font-weight: bold\">Non-trainable params</span>: 0                                                                                            \n",
       "<span style=\"font-weight: bold\">Total params</span>: 1.9 M                                                                                                \n",
       "<span style=\"font-weight: bold\">Total estimated model params size (MB)</span>: 7                                                                          \n",
       "</pre>\n"
      ],
      "text/plain": [
       "\u001b[1mTrainable params\u001b[0m: 1.9 M                                                                                            \n",
       "\u001b[1mNon-trainable params\u001b[0m: 0                                                                                            \n",
       "\u001b[1mTotal params\u001b[0m: 1.9 M                                                                                                \n",
       "\u001b[1mTotal estimated model params size (MB)\u001b[0m: 7                                                                          \n"
      ]
     },
     "metadata": {},
     "output_type": "display_data"
    },
    {
     "data": {
      "application/vnd.jupyter.widget-view+json": {
       "model_id": "1a7888664ba840e8aa6f91087caa4902",
       "version_major": 2,
       "version_minor": 0
      },
      "text/plain": [
       "Output()"
      ]
     },
     "metadata": {},
     "output_type": "display_data"
    },
    {
     "name": "stderr",
     "output_type": "stream",
     "text": [
      "`Trainer.fit` stopped: `max_epochs=20` reached.\n"
     ]
    },
    {
     "data": {
      "text/html": [
       "<pre style=\"white-space:pre;overflow-x:auto;line-height:normal;font-family:Menlo,'DejaVu Sans Mono',consolas,'Courier New',monospace\"></pre>\n"
      ],
      "text/plain": []
     },
     "metadata": {},
     "output_type": "display_data"
    },
    {
     "data": {
      "text/html": [
       "<pre style=\"white-space:pre;overflow-x:auto;line-height:normal;font-family:Menlo,'DejaVu Sans Mono',consolas,'Courier New',monospace\">\n",
       "</pre>\n"
      ],
      "text/plain": [
       "\n"
      ]
     },
     "metadata": {},
     "output_type": "display_data"
    },
    {
     "name": "stderr",
     "output_type": "stream",
     "text": [
      "LOCAL_RANK: 0 - CUDA_VISIBLE_DEVICES: [0]\n"
     ]
    },
    {
     "data": {
      "application/vnd.jupyter.widget-view+json": {
       "model_id": "44ff081e8a22418eb8de707c899f609e",
       "version_major": 2,
       "version_minor": 0
      },
      "text/plain": [
       "Output()"
      ]
     },
     "metadata": {},
     "output_type": "display_data"
    },
    {
     "data": {
      "text/html": [
       "<pre style=\"white-space:pre;overflow-x:auto;line-height:normal;font-family:Menlo,'DejaVu Sans Mono',consolas,'Courier New',monospace\">┏━━━━━━━━━━━━━━━━━━━━━━━━━━━┳━━━━━━━━━━━━━━━━━━━━━━━━━━━┓\n",
       "┃<span style=\"font-weight: bold\">        Test metric        </span>┃<span style=\"font-weight: bold\">       DataLoader 0        </span>┃\n",
       "┡━━━━━━━━━━━━━━━━━━━━━━━━━━━╇━━━━━━━━━━━━━━━━━━━━━━━━━━━┩\n",
       "│<span style=\"color: #008080; text-decoration-color: #008080\">         test_acc          </span>│<span style=\"color: #800080; text-decoration-color: #800080\">    0.8282828330993652     </span>│\n",
       "└───────────────────────────┴───────────────────────────┘\n",
       "</pre>\n"
      ],
      "text/plain": [
       "┏━━━━━━━━━━━━━━━━━━━━━━━━━━━┳━━━━━━━━━━━━━━━━━━━━━━━━━━━┓\n",
       "┃\u001b[1m \u001b[0m\u001b[1m       Test metric       \u001b[0m\u001b[1m \u001b[0m┃\u001b[1m \u001b[0m\u001b[1m      DataLoader 0       \u001b[0m\u001b[1m \u001b[0m┃\n",
       "┡━━━━━━━━━━━━━━━━━━━━━━━━━━━╇━━━━━━━━━━━━━━━━━━━━━━━━━━━┩\n",
       "│\u001b[36m \u001b[0m\u001b[36m        test_acc         \u001b[0m\u001b[36m \u001b[0m│\u001b[35m \u001b[0m\u001b[35m   0.8282828330993652    \u001b[0m\u001b[35m \u001b[0m│\n",
       "└───────────────────────────┴───────────────────────────┘\n"
      ]
     },
     "metadata": {},
     "output_type": "display_data"
    },
    {
     "data": {
      "text/html": [
       "<pre style=\"white-space:pre;overflow-x:auto;line-height:normal;font-family:Menlo,'DejaVu Sans Mono',consolas,'Courier New',monospace\"></pre>\n"
      ],
      "text/plain": []
     },
     "metadata": {},
     "output_type": "display_data"
    },
    {
     "data": {
      "text/html": [
       "<pre style=\"white-space:pre;overflow-x:auto;line-height:normal;font-family:Menlo,'DejaVu Sans Mono',consolas,'Courier New',monospace\">\n",
       "</pre>\n"
      ],
      "text/plain": [
       "\n"
      ]
     },
     "metadata": {},
     "output_type": "display_data"
    },
    {
     "name": "stderr",
     "output_type": "stream",
     "text": [
      "GPU available: True (cuda), used: True\n",
      "TPU available: False, using: 0 TPU cores\n",
      "IPU available: False, using: 0 IPUs\n",
      "HPU available: False, using: 0 HPUs\n",
      "LOCAL_RANK: 0 - CUDA_VISIBLE_DEVICES: [0]\n"
     ]
    },
    {
     "name": "stdout",
     "output_type": "stream",
     "text": [
      "[{'test_acc': 0.8282828330993652}]\n",
      "50\n",
      "7\n",
      "Training <class 'torch.nn.modules.rnn.RNN'> with max_len=1000\n"
     ]
    },
    {
     "data": {
      "text/html": [
       "<pre style=\"white-space:pre;overflow-x:auto;line-height:normal;font-family:Menlo,'DejaVu Sans Mono',consolas,'Courier New',monospace\">┏━━━┳━━━━━━━━━━━┳━━━━━━━━━━━┳━━━━━━━━┓\n",
       "┃<span style=\"color: #800080; text-decoration-color: #800080; font-weight: bold\">   </span>┃<span style=\"color: #800080; text-decoration-color: #800080; font-weight: bold\"> Name      </span>┃<span style=\"color: #800080; text-decoration-color: #800080; font-weight: bold\"> Type      </span>┃<span style=\"color: #800080; text-decoration-color: #800080; font-weight: bold\"> Params </span>┃\n",
       "┡━━━╇━━━━━━━━━━━╇━━━━━━━━━━━╇━━━━━━━━┩\n",
       "│<span style=\"color: #7f7f7f; text-decoration-color: #7f7f7f\"> 0 </span>│ embedding │ Embedding │  1.8 M │\n",
       "│<span style=\"color: #7f7f7f; text-decoration-color: #7f7f7f\"> 1 </span>│ rnn       │ RNN       │ 12.7 K │\n",
       "│<span style=\"color: #7f7f7f; text-decoration-color: #7f7f7f\"> 2 </span>│ fc        │ Linear    │     51 │\n",
       "│<span style=\"color: #7f7f7f; text-decoration-color: #7f7f7f\"> 3 </span>│ sigmoid   │ Sigmoid   │      0 │\n",
       "└───┴───────────┴───────────┴────────┘\n",
       "</pre>\n"
      ],
      "text/plain": [
       "┏━━━┳━━━━━━━━━━━┳━━━━━━━━━━━┳━━━━━━━━┓\n",
       "┃\u001b[1;35m \u001b[0m\u001b[1;35m \u001b[0m\u001b[1;35m \u001b[0m┃\u001b[1;35m \u001b[0m\u001b[1;35mName     \u001b[0m\u001b[1;35m \u001b[0m┃\u001b[1;35m \u001b[0m\u001b[1;35mType     \u001b[0m\u001b[1;35m \u001b[0m┃\u001b[1;35m \u001b[0m\u001b[1;35mParams\u001b[0m\u001b[1;35m \u001b[0m┃\n",
       "┡━━━╇━━━━━━━━━━━╇━━━━━━━━━━━╇━━━━━━━━┩\n",
       "│\u001b[2m \u001b[0m\u001b[2m0\u001b[0m\u001b[2m \u001b[0m│ embedding │ Embedding │  1.8 M │\n",
       "│\u001b[2m \u001b[0m\u001b[2m1\u001b[0m\u001b[2m \u001b[0m│ rnn       │ RNN       │ 12.7 K │\n",
       "│\u001b[2m \u001b[0m\u001b[2m2\u001b[0m\u001b[2m \u001b[0m│ fc        │ Linear    │     51 │\n",
       "│\u001b[2m \u001b[0m\u001b[2m3\u001b[0m\u001b[2m \u001b[0m│ sigmoid   │ Sigmoid   │      0 │\n",
       "└───┴───────────┴───────────┴────────┘\n"
      ]
     },
     "metadata": {},
     "output_type": "display_data"
    },
    {
     "data": {
      "text/html": [
       "<pre style=\"white-space:pre;overflow-x:auto;line-height:normal;font-family:Menlo,'DejaVu Sans Mono',consolas,'Courier New',monospace\"><span style=\"font-weight: bold\">Trainable params</span>: 1.8 M                                                                                            \n",
       "<span style=\"font-weight: bold\">Non-trainable params</span>: 0                                                                                            \n",
       "<span style=\"font-weight: bold\">Total params</span>: 1.8 M                                                                                                \n",
       "<span style=\"font-weight: bold\">Total estimated model params size (MB)</span>: 7                                                                          \n",
       "</pre>\n"
      ],
      "text/plain": [
       "\u001b[1mTrainable params\u001b[0m: 1.8 M                                                                                            \n",
       "\u001b[1mNon-trainable params\u001b[0m: 0                                                                                            \n",
       "\u001b[1mTotal params\u001b[0m: 1.8 M                                                                                                \n",
       "\u001b[1mTotal estimated model params size (MB)\u001b[0m: 7                                                                          \n"
      ]
     },
     "metadata": {},
     "output_type": "display_data"
    },
    {
     "data": {
      "application/vnd.jupyter.widget-view+json": {
       "model_id": "eeecbb7157cc4277946abc849263bcf9",
       "version_major": 2,
       "version_minor": 0
      },
      "text/plain": [
       "Output()"
      ]
     },
     "metadata": {},
     "output_type": "display_data"
    },
    {
     "name": "stderr",
     "output_type": "stream",
     "text": [
      "`Trainer.fit` stopped: `max_epochs=20` reached.\n"
     ]
    },
    {
     "data": {
      "text/html": [
       "<pre style=\"white-space:pre;overflow-x:auto;line-height:normal;font-family:Menlo,'DejaVu Sans Mono',consolas,'Courier New',monospace\"></pre>\n"
      ],
      "text/plain": []
     },
     "metadata": {},
     "output_type": "display_data"
    },
    {
     "data": {
      "text/html": [
       "<pre style=\"white-space:pre;overflow-x:auto;line-height:normal;font-family:Menlo,'DejaVu Sans Mono',consolas,'Courier New',monospace\">\n",
       "</pre>\n"
      ],
      "text/plain": [
       "\n"
      ]
     },
     "metadata": {},
     "output_type": "display_data"
    },
    {
     "name": "stderr",
     "output_type": "stream",
     "text": [
      "LOCAL_RANK: 0 - CUDA_VISIBLE_DEVICES: [0]\n"
     ]
    },
    {
     "data": {
      "application/vnd.jupyter.widget-view+json": {
       "model_id": "c31e0a7fe00d45e1b15bf41d904e39df",
       "version_major": 2,
       "version_minor": 0
      },
      "text/plain": [
       "Output()"
      ]
     },
     "metadata": {},
     "output_type": "display_data"
    },
    {
     "data": {
      "text/html": [
       "<pre style=\"white-space:pre;overflow-x:auto;line-height:normal;font-family:Menlo,'DejaVu Sans Mono',consolas,'Courier New',monospace\">┏━━━━━━━━━━━━━━━━━━━━━━━━━━━┳━━━━━━━━━━━━━━━━━━━━━━━━━━━┓\n",
       "┃<span style=\"font-weight: bold\">        Test metric        </span>┃<span style=\"font-weight: bold\">       DataLoader 0        </span>┃\n",
       "┡━━━━━━━━━━━━━━━━━━━━━━━━━━━╇━━━━━━━━━━━━━━━━━━━━━━━━━━━┩\n",
       "│<span style=\"color: #008080; text-decoration-color: #008080\">         test_acc          </span>│<span style=\"color: #800080; text-decoration-color: #800080\">    0.5303030014038086     </span>│\n",
       "└───────────────────────────┴───────────────────────────┘\n",
       "</pre>\n"
      ],
      "text/plain": [
       "┏━━━━━━━━━━━━━━━━━━━━━━━━━━━┳━━━━━━━━━━━━━━━━━━━━━━━━━━━┓\n",
       "┃\u001b[1m \u001b[0m\u001b[1m       Test metric       \u001b[0m\u001b[1m \u001b[0m┃\u001b[1m \u001b[0m\u001b[1m      DataLoader 0       \u001b[0m\u001b[1m \u001b[0m┃\n",
       "┡━━━━━━━━━━━━━━━━━━━━━━━━━━━╇━━━━━━━━━━━━━━━━━━━━━━━━━━━┩\n",
       "│\u001b[36m \u001b[0m\u001b[36m        test_acc         \u001b[0m\u001b[36m \u001b[0m│\u001b[35m \u001b[0m\u001b[35m   0.5303030014038086    \u001b[0m\u001b[35m \u001b[0m│\n",
       "└───────────────────────────┴───────────────────────────┘\n"
      ]
     },
     "metadata": {},
     "output_type": "display_data"
    },
    {
     "data": {
      "text/html": [
       "<pre style=\"white-space:pre;overflow-x:auto;line-height:normal;font-family:Menlo,'DejaVu Sans Mono',consolas,'Courier New',monospace\"></pre>\n"
      ],
      "text/plain": []
     },
     "metadata": {},
     "output_type": "display_data"
    },
    {
     "data": {
      "text/html": [
       "<pre style=\"white-space:pre;overflow-x:auto;line-height:normal;font-family:Menlo,'DejaVu Sans Mono',consolas,'Courier New',monospace\">\n",
       "</pre>\n"
      ],
      "text/plain": [
       "\n"
      ]
     },
     "metadata": {},
     "output_type": "display_data"
    },
    {
     "name": "stderr",
     "output_type": "stream",
     "text": [
      "GPU available: True (cuda), used: True\n",
      "TPU available: False, using: 0 TPU cores\n",
      "IPU available: False, using: 0 IPUs\n",
      "HPU available: False, using: 0 HPUs\n",
      "LOCAL_RANK: 0 - CUDA_VISIBLE_DEVICES: [0]\n"
     ]
    },
    {
     "name": "stdout",
     "output_type": "stream",
     "text": [
      "[{'test_acc': 0.5303030014038086}]\n",
      "Training <class 'torch.nn.modules.rnn.LSTM'> with max_len=1000\n"
     ]
    },
    {
     "data": {
      "text/html": [
       "<pre style=\"white-space:pre;overflow-x:auto;line-height:normal;font-family:Menlo,'DejaVu Sans Mono',consolas,'Courier New',monospace\">┏━━━┳━━━━━━━━━━━┳━━━━━━━━━━━┳━━━━━━━━┓\n",
       "┃<span style=\"color: #800080; text-decoration-color: #800080; font-weight: bold\">   </span>┃<span style=\"color: #800080; text-decoration-color: #800080; font-weight: bold\"> Name      </span>┃<span style=\"color: #800080; text-decoration-color: #800080; font-weight: bold\"> Type      </span>┃<span style=\"color: #800080; text-decoration-color: #800080; font-weight: bold\"> Params </span>┃\n",
       "┡━━━╇━━━━━━━━━━━╇━━━━━━━━━━━╇━━━━━━━━┩\n",
       "│<span style=\"color: #7f7f7f; text-decoration-color: #7f7f7f\"> 0 </span>│ embedding │ Embedding │  1.8 M │\n",
       "│<span style=\"color: #7f7f7f; text-decoration-color: #7f7f7f\"> 1 </span>│ rnn       │ LSTM      │ 50.8 K │\n",
       "│<span style=\"color: #7f7f7f; text-decoration-color: #7f7f7f\"> 2 </span>│ fc        │ Linear    │     51 │\n",
       "│<span style=\"color: #7f7f7f; text-decoration-color: #7f7f7f\"> 3 </span>│ sigmoid   │ Sigmoid   │      0 │\n",
       "└───┴───────────┴───────────┴────────┘\n",
       "</pre>\n"
      ],
      "text/plain": [
       "┏━━━┳━━━━━━━━━━━┳━━━━━━━━━━━┳━━━━━━━━┓\n",
       "┃\u001b[1;35m \u001b[0m\u001b[1;35m \u001b[0m\u001b[1;35m \u001b[0m┃\u001b[1;35m \u001b[0m\u001b[1;35mName     \u001b[0m\u001b[1;35m \u001b[0m┃\u001b[1;35m \u001b[0m\u001b[1;35mType     \u001b[0m\u001b[1;35m \u001b[0m┃\u001b[1;35m \u001b[0m\u001b[1;35mParams\u001b[0m\u001b[1;35m \u001b[0m┃\n",
       "┡━━━╇━━━━━━━━━━━╇━━━━━━━━━━━╇━━━━━━━━┩\n",
       "│\u001b[2m \u001b[0m\u001b[2m0\u001b[0m\u001b[2m \u001b[0m│ embedding │ Embedding │  1.8 M │\n",
       "│\u001b[2m \u001b[0m\u001b[2m1\u001b[0m\u001b[2m \u001b[0m│ rnn       │ LSTM      │ 50.8 K │\n",
       "│\u001b[2m \u001b[0m\u001b[2m2\u001b[0m\u001b[2m \u001b[0m│ fc        │ Linear    │     51 │\n",
       "│\u001b[2m \u001b[0m\u001b[2m3\u001b[0m\u001b[2m \u001b[0m│ sigmoid   │ Sigmoid   │      0 │\n",
       "└───┴───────────┴───────────┴────────┘\n"
      ]
     },
     "metadata": {},
     "output_type": "display_data"
    },
    {
     "data": {
      "text/html": [
       "<pre style=\"white-space:pre;overflow-x:auto;line-height:normal;font-family:Menlo,'DejaVu Sans Mono',consolas,'Courier New',monospace\"><span style=\"font-weight: bold\">Trainable params</span>: 1.9 M                                                                                            \n",
       "<span style=\"font-weight: bold\">Non-trainable params</span>: 0                                                                                            \n",
       "<span style=\"font-weight: bold\">Total params</span>: 1.9 M                                                                                                \n",
       "<span style=\"font-weight: bold\">Total estimated model params size (MB)</span>: 7                                                                          \n",
       "</pre>\n"
      ],
      "text/plain": [
       "\u001b[1mTrainable params\u001b[0m: 1.9 M                                                                                            \n",
       "\u001b[1mNon-trainable params\u001b[0m: 0                                                                                            \n",
       "\u001b[1mTotal params\u001b[0m: 1.9 M                                                                                                \n",
       "\u001b[1mTotal estimated model params size (MB)\u001b[0m: 7                                                                          \n"
      ]
     },
     "metadata": {},
     "output_type": "display_data"
    },
    {
     "data": {
      "application/vnd.jupyter.widget-view+json": {
       "model_id": "48eeea656e44495b9ac69c62d1f01e06",
       "version_major": 2,
       "version_minor": 0
      },
      "text/plain": [
       "Output()"
      ]
     },
     "metadata": {},
     "output_type": "display_data"
    },
    {
     "name": "stderr",
     "output_type": "stream",
     "text": [
      "`Trainer.fit` stopped: `max_epochs=20` reached.\n"
     ]
    },
    {
     "data": {
      "text/html": [
       "<pre style=\"white-space:pre;overflow-x:auto;line-height:normal;font-family:Menlo,'DejaVu Sans Mono',consolas,'Courier New',monospace\"></pre>\n"
      ],
      "text/plain": []
     },
     "metadata": {},
     "output_type": "display_data"
    },
    {
     "data": {
      "text/html": [
       "<pre style=\"white-space:pre;overflow-x:auto;line-height:normal;font-family:Menlo,'DejaVu Sans Mono',consolas,'Courier New',monospace\">\n",
       "</pre>\n"
      ],
      "text/plain": [
       "\n"
      ]
     },
     "metadata": {},
     "output_type": "display_data"
    },
    {
     "name": "stderr",
     "output_type": "stream",
     "text": [
      "LOCAL_RANK: 0 - CUDA_VISIBLE_DEVICES: [0]\n"
     ]
    },
    {
     "data": {
      "application/vnd.jupyter.widget-view+json": {
       "model_id": "608a90ad2ad34bde8a86e048a8395305",
       "version_major": 2,
       "version_minor": 0
      },
      "text/plain": [
       "Output()"
      ]
     },
     "metadata": {},
     "output_type": "display_data"
    },
    {
     "data": {
      "text/html": [
       "<pre style=\"white-space:pre;overflow-x:auto;line-height:normal;font-family:Menlo,'DejaVu Sans Mono',consolas,'Courier New',monospace\">┏━━━━━━━━━━━━━━━━━━━━━━━━━━━┳━━━━━━━━━━━━━━━━━━━━━━━━━━━┓\n",
       "┃<span style=\"font-weight: bold\">        Test metric        </span>┃<span style=\"font-weight: bold\">       DataLoader 0        </span>┃\n",
       "┡━━━━━━━━━━━━━━━━━━━━━━━━━━━╇━━━━━━━━━━━━━━━━━━━━━━━━━━━┩\n",
       "│<span style=\"color: #008080; text-decoration-color: #008080\">         test_acc          </span>│<span style=\"color: #800080; text-decoration-color: #800080\">     0.469696968793869     </span>│\n",
       "└───────────────────────────┴───────────────────────────┘\n",
       "</pre>\n"
      ],
      "text/plain": [
       "┏━━━━━━━━━━━━━━━━━━━━━━━━━━━┳━━━━━━━━━━━━━━━━━━━━━━━━━━━┓\n",
       "┃\u001b[1m \u001b[0m\u001b[1m       Test metric       \u001b[0m\u001b[1m \u001b[0m┃\u001b[1m \u001b[0m\u001b[1m      DataLoader 0       \u001b[0m\u001b[1m \u001b[0m┃\n",
       "┡━━━━━━━━━━━━━━━━━━━━━━━━━━━╇━━━━━━━━━━━━━━━━━━━━━━━━━━━┩\n",
       "│\u001b[36m \u001b[0m\u001b[36m        test_acc         \u001b[0m\u001b[36m \u001b[0m│\u001b[35m \u001b[0m\u001b[35m    0.469696968793869    \u001b[0m\u001b[35m \u001b[0m│\n",
       "└───────────────────────────┴───────────────────────────┘\n"
      ]
     },
     "metadata": {},
     "output_type": "display_data"
    },
    {
     "data": {
      "text/html": [
       "<pre style=\"white-space:pre;overflow-x:auto;line-height:normal;font-family:Menlo,'DejaVu Sans Mono',consolas,'Courier New',monospace\"></pre>\n"
      ],
      "text/plain": []
     },
     "metadata": {},
     "output_type": "display_data"
    },
    {
     "data": {
      "text/html": [
       "<pre style=\"white-space:pre;overflow-x:auto;line-height:normal;font-family:Menlo,'DejaVu Sans Mono',consolas,'Courier New',monospace\">\n",
       "</pre>\n"
      ],
      "text/plain": [
       "\n"
      ]
     },
     "metadata": {},
     "output_type": "display_data"
    },
    {
     "name": "stderr",
     "output_type": "stream",
     "text": [
      "GPU available: True (cuda), used: True\n",
      "TPU available: False, using: 0 TPU cores\n",
      "IPU available: False, using: 0 IPUs\n",
      "HPU available: False, using: 0 HPUs\n",
      "LOCAL_RANK: 0 - CUDA_VISIBLE_DEVICES: [0]\n"
     ]
    },
    {
     "name": "stdout",
     "output_type": "stream",
     "text": [
      "[{'test_acc': 0.469696968793869}]\n",
      "Training <class 'torch.nn.modules.rnn.GRU'> with max_len=1000\n"
     ]
    },
    {
     "data": {
      "text/html": [
       "<pre style=\"white-space:pre;overflow-x:auto;line-height:normal;font-family:Menlo,'DejaVu Sans Mono',consolas,'Courier New',monospace\">┏━━━┳━━━━━━━━━━━┳━━━━━━━━━━━┳━━━━━━━━┓\n",
       "┃<span style=\"color: #800080; text-decoration-color: #800080; font-weight: bold\">   </span>┃<span style=\"color: #800080; text-decoration-color: #800080; font-weight: bold\"> Name      </span>┃<span style=\"color: #800080; text-decoration-color: #800080; font-weight: bold\"> Type      </span>┃<span style=\"color: #800080; text-decoration-color: #800080; font-weight: bold\"> Params </span>┃\n",
       "┡━━━╇━━━━━━━━━━━╇━━━━━━━━━━━╇━━━━━━━━┩\n",
       "│<span style=\"color: #7f7f7f; text-decoration-color: #7f7f7f\"> 0 </span>│ embedding │ Embedding │  1.8 M │\n",
       "│<span style=\"color: #7f7f7f; text-decoration-color: #7f7f7f\"> 1 </span>│ rnn       │ GRU       │ 38.1 K │\n",
       "│<span style=\"color: #7f7f7f; text-decoration-color: #7f7f7f\"> 2 </span>│ fc        │ Linear    │     51 │\n",
       "│<span style=\"color: #7f7f7f; text-decoration-color: #7f7f7f\"> 3 </span>│ sigmoid   │ Sigmoid   │      0 │\n",
       "└───┴───────────┴───────────┴────────┘\n",
       "</pre>\n"
      ],
      "text/plain": [
       "┏━━━┳━━━━━━━━━━━┳━━━━━━━━━━━┳━━━━━━━━┓\n",
       "┃\u001b[1;35m \u001b[0m\u001b[1;35m \u001b[0m\u001b[1;35m \u001b[0m┃\u001b[1;35m \u001b[0m\u001b[1;35mName     \u001b[0m\u001b[1;35m \u001b[0m┃\u001b[1;35m \u001b[0m\u001b[1;35mType     \u001b[0m\u001b[1;35m \u001b[0m┃\u001b[1;35m \u001b[0m\u001b[1;35mParams\u001b[0m\u001b[1;35m \u001b[0m┃\n",
       "┡━━━╇━━━━━━━━━━━╇━━━━━━━━━━━╇━━━━━━━━┩\n",
       "│\u001b[2m \u001b[0m\u001b[2m0\u001b[0m\u001b[2m \u001b[0m│ embedding │ Embedding │  1.8 M │\n",
       "│\u001b[2m \u001b[0m\u001b[2m1\u001b[0m\u001b[2m \u001b[0m│ rnn       │ GRU       │ 38.1 K │\n",
       "│\u001b[2m \u001b[0m\u001b[2m2\u001b[0m\u001b[2m \u001b[0m│ fc        │ Linear    │     51 │\n",
       "│\u001b[2m \u001b[0m\u001b[2m3\u001b[0m\u001b[2m \u001b[0m│ sigmoid   │ Sigmoid   │      0 │\n",
       "└───┴───────────┴───────────┴────────┘\n"
      ]
     },
     "metadata": {},
     "output_type": "display_data"
    },
    {
     "data": {
      "text/html": [
       "<pre style=\"white-space:pre;overflow-x:auto;line-height:normal;font-family:Menlo,'DejaVu Sans Mono',consolas,'Courier New',monospace\"><span style=\"font-weight: bold\">Trainable params</span>: 1.9 M                                                                                            \n",
       "<span style=\"font-weight: bold\">Non-trainable params</span>: 0                                                                                            \n",
       "<span style=\"font-weight: bold\">Total params</span>: 1.9 M                                                                                                \n",
       "<span style=\"font-weight: bold\">Total estimated model params size (MB)</span>: 7                                                                          \n",
       "</pre>\n"
      ],
      "text/plain": [
       "\u001b[1mTrainable params\u001b[0m: 1.9 M                                                                                            \n",
       "\u001b[1mNon-trainable params\u001b[0m: 0                                                                                            \n",
       "\u001b[1mTotal params\u001b[0m: 1.9 M                                                                                                \n",
       "\u001b[1mTotal estimated model params size (MB)\u001b[0m: 7                                                                          \n"
      ]
     },
     "metadata": {},
     "output_type": "display_data"
    },
    {
     "data": {
      "application/vnd.jupyter.widget-view+json": {
       "model_id": "eda561cff2934761862ae9826fd687e3",
       "version_major": 2,
       "version_minor": 0
      },
      "text/plain": [
       "Output()"
      ]
     },
     "metadata": {},
     "output_type": "display_data"
    },
    {
     "name": "stderr",
     "output_type": "stream",
     "text": [
      "`Trainer.fit` stopped: `max_epochs=20` reached.\n"
     ]
    },
    {
     "data": {
      "text/html": [
       "<pre style=\"white-space:pre;overflow-x:auto;line-height:normal;font-family:Menlo,'DejaVu Sans Mono',consolas,'Courier New',monospace\"></pre>\n"
      ],
      "text/plain": []
     },
     "metadata": {},
     "output_type": "display_data"
    },
    {
     "data": {
      "text/html": [
       "<pre style=\"white-space:pre;overflow-x:auto;line-height:normal;font-family:Menlo,'DejaVu Sans Mono',consolas,'Courier New',monospace\">\n",
       "</pre>\n"
      ],
      "text/plain": [
       "\n"
      ]
     },
     "metadata": {},
     "output_type": "display_data"
    },
    {
     "name": "stderr",
     "output_type": "stream",
     "text": [
      "LOCAL_RANK: 0 - CUDA_VISIBLE_DEVICES: [0]\n"
     ]
    },
    {
     "data": {
      "application/vnd.jupyter.widget-view+json": {
       "model_id": "53d94dfc1ca94941a16b4dc726f414e4",
       "version_major": 2,
       "version_minor": 0
      },
      "text/plain": [
       "Output()"
      ]
     },
     "metadata": {},
     "output_type": "display_data"
    },
    {
     "data": {
      "text/html": [
       "<pre style=\"white-space:pre;overflow-x:auto;line-height:normal;font-family:Menlo,'DejaVu Sans Mono',consolas,'Courier New',monospace\">┏━━━━━━━━━━━━━━━━━━━━━━━━━━━┳━━━━━━━━━━━━━━━━━━━━━━━━━━━┓\n",
       "┃<span style=\"font-weight: bold\">        Test metric        </span>┃<span style=\"font-weight: bold\">       DataLoader 0        </span>┃\n",
       "┡━━━━━━━━━━━━━━━━━━━━━━━━━━━╇━━━━━━━━━━━━━━━━━━━━━━━━━━━┩\n",
       "│<span style=\"color: #008080; text-decoration-color: #008080\">         test_acc          </span>│<span style=\"color: #800080; text-decoration-color: #800080\">    0.8131313323974609     </span>│\n",
       "└───────────────────────────┴───────────────────────────┘\n",
       "</pre>\n"
      ],
      "text/plain": [
       "┏━━━━━━━━━━━━━━━━━━━━━━━━━━━┳━━━━━━━━━━━━━━━━━━━━━━━━━━━┓\n",
       "┃\u001b[1m \u001b[0m\u001b[1m       Test metric       \u001b[0m\u001b[1m \u001b[0m┃\u001b[1m \u001b[0m\u001b[1m      DataLoader 0       \u001b[0m\u001b[1m \u001b[0m┃\n",
       "┡━━━━━━━━━━━━━━━━━━━━━━━━━━━╇━━━━━━━━━━━━━━━━━━━━━━━━━━━┩\n",
       "│\u001b[36m \u001b[0m\u001b[36m        test_acc         \u001b[0m\u001b[36m \u001b[0m│\u001b[35m \u001b[0m\u001b[35m   0.8131313323974609    \u001b[0m\u001b[35m \u001b[0m│\n",
       "└───────────────────────────┴───────────────────────────┘\n"
      ]
     },
     "metadata": {},
     "output_type": "display_data"
    },
    {
     "data": {
      "text/html": [
       "<pre style=\"white-space:pre;overflow-x:auto;line-height:normal;font-family:Menlo,'DejaVu Sans Mono',consolas,'Courier New',monospace\"></pre>\n"
      ],
      "text/plain": []
     },
     "metadata": {},
     "output_type": "display_data"
    },
    {
     "data": {
      "text/html": [
       "<pre style=\"white-space:pre;overflow-x:auto;line-height:normal;font-family:Menlo,'DejaVu Sans Mono',consolas,'Courier New',monospace\">\n",
       "</pre>\n"
      ],
      "text/plain": [
       "\n"
      ]
     },
     "metadata": {},
     "output_type": "display_data"
    },
    {
     "name": "stdout",
     "output_type": "stream",
     "text": [
      "[{'test_acc': 0.8131313323974609}]\n"
     ]
    }
   ],
   "source": [
    "\n",
    "class Experiment:\n",
    "    def __init__(self, max_lens, model_types):\n",
    "        self.max_lens = max_lens\n",
    "        self.model_types = model_types\n",
    "\n",
    "    def run(self):\n",
    "        results = {}\n",
    "        for max_len in self.max_lens:\n",
    "            dataset = NewsGroupDataset(\n",
    "                cleaned_text_data, labels, word_to_index, max_len=max_len\n",
    "            )\n",
    "            train_size = int(0.8 * len(dataset))\n",
    "            val_size = int(0.1 * len(dataset))\n",
    "            test_size = len(dataset) - train_size - val_size\n",
    "            train_dataset, val_dataset, test_dataset = random_split(\n",
    "                dataset, [train_size, val_size, test_size]\n",
    "            )\n",
    "\n",
    "            train_loader = DataLoader(\n",
    "                train_dataset, batch_size=32, shuffle=True, collate_fn=collate_fn\n",
    "            )\n",
    "            val_loader = DataLoader(val_dataset, batch_size=32, collate_fn=collate_fn)\n",
    "            test_loader = DataLoader(test_dataset, batch_size=32, collate_fn=collate_fn)\n",
    "\n",
    "            print(len(train_loader))\n",
    "            print(len(val_loader))\n",
    "\n",
    "            for rnn in self.model_types:\n",
    "                print(f\"Training {type(rnn)} with max_len={max_len}\")\n",
    "                model = RNNModel(\n",
    "                    rnn, input_dim=len(word_to_index) + 1, output_dim=100, hidden_dim=50\n",
    "                )\n",
    "                trainer = Trainer(max_epochs=20, callbacks=[RichProgressBar()])\n",
    "                trainer.fit(model, train_loader, val_loader)\n",
    "                result = trainer.test(model, test_loader)\n",
    "                print(result)\n",
    "                results[(rnn, max_len)] = result\n",
    "\n",
    "        return results\n",
    "\n",
    "\n",
    "rnn = nn.RNN(output_dim, hidden_dim, num_layers=2, batch_first=True)\n",
    "lstm = nn.LSTM(output_dim, hidden_dim, num_layers=2, batch_first=True)\n",
    "gru = nn.GRU(output_dim, hidden_dim, num_layers=2, batch_first=True)\n",
    "\n",
    "experiment = Experiment(max_lens=[250, 500, 1000], model_types=[rnn, lstm, gru])\n",
    "results = experiment.run()"
   ]
  },
  {
   "cell_type": "code",
   "execution_count": 18,
   "metadata": {},
   "outputs": [
    {
     "name": "stdout",
     "output_type": "stream",
     "text": [
      "Model: RNN, Sequence Length: 250, Test Accuracy: 0.4697\n",
      "Model: LSTM, Sequence Length: 250, Test Accuracy: 0.8788\n",
      "Model: GRU, Sequence Length: 250, Test Accuracy: 0.8990\n",
      "Model: RNN, Sequence Length: 500, Test Accuracy: 0.4949\n",
      "Model: LSTM, Sequence Length: 500, Test Accuracy: 0.5101\n",
      "Model: GRU, Sequence Length: 500, Test Accuracy: 0.8283\n",
      "Model: RNN, Sequence Length: 1000, Test Accuracy: 0.5303\n",
      "Model: LSTM, Sequence Length: 1000, Test Accuracy: 0.4697\n",
      "Model: GRU, Sequence Length: 1000, Test Accuracy: 0.8131\n"
     ]
    }
   ],
   "source": [
    "for (model, seq_len), accuracies in results.items():\n",
    "    model_name = type(model).__name__\n",
    "    accuracy = accuracies[0]['test_acc']\n",
    "    print(f\"Model: {model_name}, Sequence Length: {seq_len}, Test Accuracy: {accuracy:.4f}\")"
   ]
  }
 ],
 "metadata": {
  "kernelspec": {
   "display_name": "Python 3",
   "language": "python",
   "name": "python3"
  },
  "language_info": {
   "codemirror_mode": {
    "name": "ipython",
    "version": 3
   },
   "file_extension": ".py",
   "mimetype": "text/x-python",
   "name": "python",
   "nbconvert_exporter": "python",
   "pygments_lexer": "ipython3",
   "version": "3.10.6"
  }
 },
 "nbformat": 4,
 "nbformat_minor": 2
}
